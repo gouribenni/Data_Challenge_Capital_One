{
 "cells": [
  {
   "cell_type": "code",
   "execution_count": 2,
   "id": "832a0471-e35e-47a8-b8fb-b152045df44a",
   "metadata": {},
   "outputs": [],
   "source": [
    "import pandas as pd\n",
    "import numpy as np\n",
    "pd.set_option('display.max_columns', None)\n",
    "project_root = os.path.abspath(os.path.join(os.getcwd(), '..'))\n",
    "data_dir = os.path.join(project_root, 'data', 'cleaned')\n",
    "final_df_path = os.path.join(data_dir, 'final_df.csv')\n",
    "df = pd.read_csv(final_df_path)"
   ]
  },
  {
   "cell_type": "code",
   "execution_count": 3,
   "id": "dc9cd8ea-c37a-4f22-87d3-f149f46c64de",
   "metadata": {},
   "outputs": [
    {
     "data": {
      "text/html": [
       "<div>\n",
       "<style scoped>\n",
       "    .dataframe tbody tr th:only-of-type {\n",
       "        vertical-align: middle;\n",
       "    }\n",
       "\n",
       "    .dataframe tbody tr th {\n",
       "        vertical-align: top;\n",
       "    }\n",
       "\n",
       "    .dataframe thead th {\n",
       "        text-align: right;\n",
       "    }\n",
       "</style>\n",
       "<table border=\"1\" class=\"dataframe\">\n",
       "  <thead>\n",
       "    <tr style=\"text-align: right;\">\n",
       "      <th></th>\n",
       "      <th>ROUTE</th>\n",
       "      <th>CARRIER</th>\n",
       "      <th>ROUTE_NAME_CITY</th>\n",
       "      <th>ONE_WAY_DISTANCE_MILES</th>\n",
       "      <th>AVG_OCCUPANCY_RATE</th>\n",
       "      <th>AVG_DEP_DELAY_MINUTES</th>\n",
       "      <th>AVG_ARR_DELAY_MINUTES</th>\n",
       "      <th>TOTAL_FLIGHTS</th>\n",
       "      <th>CARRIER_FROM_TICKETS</th>\n",
       "      <th>TOTAL_PASSENGERS</th>\n",
       "      <th>AVG_ROUNDTRIP_FARE_PER_PASSENGER</th>\n",
       "      <th>AIRPORT_CODE_A</th>\n",
       "      <th>AIRPORT_CODE_B</th>\n",
       "      <th>AIRPORT_A_SIZE</th>\n",
       "      <th>AIRPORT_A_NAME</th>\n",
       "      <th>AIRPORT_A_ELEVATION_FT</th>\n",
       "      <th>AIRPORT_A_CITY</th>\n",
       "      <th>AIRPORT_A_COORDINATES</th>\n",
       "      <th>AIRPORT_B_SIZE</th>\n",
       "      <th>AIRPORT_B_NAME</th>\n",
       "      <th>AIRPORT_B_ELEVATION_FT</th>\n",
       "      <th>AIRPORT_B_CITY</th>\n",
       "      <th>AIRPORT_B_COORDINATES</th>\n",
       "      <th>ESTIMATED_PASSENGERS</th>\n",
       "      <th>TICKET_REVENUE</th>\n",
       "      <th>BAGGAGE_REVENUE</th>\n",
       "      <th>TOTAL_REVENUE</th>\n",
       "      <th>ROUND_TRIP_DISTANCE_MILES</th>\n",
       "      <th>MILEAGE_COST</th>\n",
       "      <th>AIRPORT_FEES</th>\n",
       "      <th>DELAY_COST</th>\n",
       "      <th>TOTAL_COST</th>\n",
       "      <th>PROFIT</th>\n",
       "    </tr>\n",
       "  </thead>\n",
       "  <tbody>\n",
       "    <tr>\n",
       "      <th>0</th>\n",
       "      <td>ABE-ATL</td>\n",
       "      <td>9E</td>\n",
       "      <td>Allentown/Bethlehem/Easton, PA -&gt; Atlanta, GA</td>\n",
       "      <td>692.0</td>\n",
       "      <td>0.652621</td>\n",
       "      <td>0.515817</td>\n",
       "      <td>-1.425862</td>\n",
       "      <td>263</td>\n",
       "      <td>9E</td>\n",
       "      <td>44.0</td>\n",
       "      <td>587.522727</td>\n",
       "      <td>ABE</td>\n",
       "      <td>ATL</td>\n",
       "      <td>medium_airport</td>\n",
       "      <td>Lehigh Valley International Airport</td>\n",
       "      <td>393.0</td>\n",
       "      <td>Allentown</td>\n",
       "      <td>-75.44080352783203, 40.652099609375</td>\n",
       "      <td>large_airport</td>\n",
       "      <td>Hartsfield Jackson Atlanta International Airport</td>\n",
       "      <td>776.0</td>\n",
       "      <td>Atlanta</td>\n",
       "      <td>-84.428101, 33.6367</td>\n",
       "      <td>34327.842297</td>\n",
       "      <td>20168387.53</td>\n",
       "      <td>1201474.48</td>\n",
       "      <td>21369862.01</td>\n",
       "      <td>1384.0</td>\n",
       "      <td>3341446.56</td>\n",
       "      <td>3945000</td>\n",
       "      <td>0.0</td>\n",
       "      <td>7286446.56</td>\n",
       "      <td>14083415.45</td>\n",
       "    </tr>\n",
       "    <tr>\n",
       "      <th>1</th>\n",
       "      <td>ABE-ATL</td>\n",
       "      <td>DL</td>\n",
       "      <td>Allentown/Bethlehem/Easton, PA -&gt; Atlanta, GA</td>\n",
       "      <td>692.0</td>\n",
       "      <td>0.656911</td>\n",
       "      <td>-1.871067</td>\n",
       "      <td>-7.512380</td>\n",
       "      <td>171</td>\n",
       "      <td>DL</td>\n",
       "      <td>29.0</td>\n",
       "      <td>470.758621</td>\n",
       "      <td>ABE</td>\n",
       "      <td>ATL</td>\n",
       "      <td>medium_airport</td>\n",
       "      <td>Lehigh Valley International Airport</td>\n",
       "      <td>393.0</td>\n",
       "      <td>Allentown</td>\n",
       "      <td>-75.44080352783203, 40.652099609375</td>\n",
       "      <td>large_airport</td>\n",
       "      <td>Hartsfield Jackson Atlanta International Airport</td>\n",
       "      <td>776.0</td>\n",
       "      <td>Atlanta</td>\n",
       "      <td>-84.428101, 33.6367</td>\n",
       "      <td>22466.358960</td>\n",
       "      <td>10576232.16</td>\n",
       "      <td>786322.56</td>\n",
       "      <td>11362554.72</td>\n",
       "      <td>1384.0</td>\n",
       "      <td>2172575.52</td>\n",
       "      <td>2565000</td>\n",
       "      <td>0.0</td>\n",
       "      <td>4737575.52</td>\n",
       "      <td>6624979.20</td>\n",
       "    </tr>\n",
       "    <tr>\n",
       "      <th>2</th>\n",
       "      <td>ABE-CLT</td>\n",
       "      <td>OH</td>\n",
       "      <td>Allentown/Bethlehem/Easton, PA -&gt; Charlotte, NC</td>\n",
       "      <td>481.0</td>\n",
       "      <td>0.661096</td>\n",
       "      <td>-1.507968</td>\n",
       "      <td>-2.513944</td>\n",
       "      <td>502</td>\n",
       "      <td>OH</td>\n",
       "      <td>32.0</td>\n",
       "      <td>494.062500</td>\n",
       "      <td>ABE</td>\n",
       "      <td>CLT</td>\n",
       "      <td>medium_airport</td>\n",
       "      <td>Lehigh Valley International Airport</td>\n",
       "      <td>393.0</td>\n",
       "      <td>Allentown</td>\n",
       "      <td>-75.44080352783203, 40.652099609375</td>\n",
       "      <td>large_airport</td>\n",
       "      <td>Charlotte Douglas International Airport</td>\n",
       "      <td>748.0</td>\n",
       "      <td>Charlotte</td>\n",
       "      <td>-80.94309997558594, 35.2140007019043</td>\n",
       "      <td>66374.000000</td>\n",
       "      <td>32792904.38</td>\n",
       "      <td>2323090.00</td>\n",
       "      <td>35115994.38</td>\n",
       "      <td>962.0</td>\n",
       "      <td>4433242.32</td>\n",
       "      <td>7530000</td>\n",
       "      <td>0.0</td>\n",
       "      <td>11963242.32</td>\n",
       "      <td>23152752.06</td>\n",
       "    </tr>\n",
       "    <tr>\n",
       "      <th>3</th>\n",
       "      <td>ABE-DTW</td>\n",
       "      <td>OO</td>\n",
       "      <td>Allentown/Bethlehem/Easton, PA -&gt; Detroit, MI</td>\n",
       "      <td>425.0</td>\n",
       "      <td>0.645200</td>\n",
       "      <td>-0.166188</td>\n",
       "      <td>-5.120053</td>\n",
       "      <td>495</td>\n",
       "      <td>OO</td>\n",
       "      <td>21.0</td>\n",
       "      <td>385.809524</td>\n",
       "      <td>ABE</td>\n",
       "      <td>DTW</td>\n",
       "      <td>medium_airport</td>\n",
       "      <td>Lehigh Valley International Airport</td>\n",
       "      <td>393.0</td>\n",
       "      <td>Allentown</td>\n",
       "      <td>-75.44080352783203, 40.652099609375</td>\n",
       "      <td>large_airport</td>\n",
       "      <td>Detroit Metropolitan Wayne County Airport</td>\n",
       "      <td>645.0</td>\n",
       "      <td>Detroit</td>\n",
       "      <td>-83.35340118408203, 42.212398529052734</td>\n",
       "      <td>63874.781899</td>\n",
       "      <td>24643499.19</td>\n",
       "      <td>2235617.37</td>\n",
       "      <td>26879116.55</td>\n",
       "      <td>850.0</td>\n",
       "      <td>3862485.00</td>\n",
       "      <td>7425000</td>\n",
       "      <td>0.0</td>\n",
       "      <td>11287485.00</td>\n",
       "      <td>15591631.55</td>\n",
       "    </tr>\n",
       "    <tr>\n",
       "      <th>4</th>\n",
       "      <td>ABE-FLL</td>\n",
       "      <td>G4</td>\n",
       "      <td>Allentown/Bethlehem/Easton, PA -&gt; Fort Lauderd...</td>\n",
       "      <td>1041.0</td>\n",
       "      <td>0.605250</td>\n",
       "      <td>-0.500000</td>\n",
       "      <td>-1.175000</td>\n",
       "      <td>40</td>\n",
       "      <td>G4</td>\n",
       "      <td>38.0</td>\n",
       "      <td>158.263158</td>\n",
       "      <td>ABE</td>\n",
       "      <td>FLL</td>\n",
       "      <td>medium_airport</td>\n",
       "      <td>Lehigh Valley International Airport</td>\n",
       "      <td>393.0</td>\n",
       "      <td>Allentown</td>\n",
       "      <td>-75.44080352783203, 40.652099609375</td>\n",
       "      <td>large_airport</td>\n",
       "      <td>Fort Lauderdale Hollywood International Airport</td>\n",
       "      <td>30.0</td>\n",
       "      <td>Fort Lauderdale</td>\n",
       "      <td>-80.152702, 26.072599</td>\n",
       "      <td>4842.000000</td>\n",
       "      <td>766310.21</td>\n",
       "      <td>169470.00</td>\n",
       "      <td>935780.21</td>\n",
       "      <td>2082.0</td>\n",
       "      <td>764510.40</td>\n",
       "      <td>600000</td>\n",
       "      <td>0.0</td>\n",
       "      <td>1364510.40</td>\n",
       "      <td>-428730.19</td>\n",
       "    </tr>\n",
       "    <tr>\n",
       "      <th>...</th>\n",
       "      <td>...</td>\n",
       "      <td>...</td>\n",
       "      <td>...</td>\n",
       "      <td>...</td>\n",
       "      <td>...</td>\n",
       "      <td>...</td>\n",
       "      <td>...</td>\n",
       "      <td>...</td>\n",
       "      <td>...</td>\n",
       "      <td>...</td>\n",
       "      <td>...</td>\n",
       "      <td>...</td>\n",
       "      <td>...</td>\n",
       "      <td>...</td>\n",
       "      <td>...</td>\n",
       "      <td>...</td>\n",
       "      <td>...</td>\n",
       "      <td>...</td>\n",
       "      <td>...</td>\n",
       "      <td>...</td>\n",
       "      <td>...</td>\n",
       "      <td>...</td>\n",
       "      <td>...</td>\n",
       "      <td>...</td>\n",
       "      <td>...</td>\n",
       "      <td>...</td>\n",
       "      <td>...</td>\n",
       "      <td>...</td>\n",
       "      <td>...</td>\n",
       "      <td>...</td>\n",
       "      <td>...</td>\n",
       "      <td>...</td>\n",
       "      <td>...</td>\n",
       "    </tr>\n",
       "    <tr>\n",
       "      <th>5489</th>\n",
       "      <td>STL-TPA</td>\n",
       "      <td>WN</td>\n",
       "      <td>St. Louis, MO -&gt; Tampa, FL</td>\n",
       "      <td>869.0</td>\n",
       "      <td>0.658384</td>\n",
       "      <td>2.898325</td>\n",
       "      <td>0.100162</td>\n",
       "      <td>421</td>\n",
       "      <td>WN</td>\n",
       "      <td>192.0</td>\n",
       "      <td>404.515625</td>\n",
       "      <td>STL</td>\n",
       "      <td>TPA</td>\n",
       "      <td>large_airport</td>\n",
       "      <td>St Louis Lambert International Airport</td>\n",
       "      <td>618.0</td>\n",
       "      <td>St Louis</td>\n",
       "      <td>-90.370003, 38.748697</td>\n",
       "      <td>large_airport</td>\n",
       "      <td>Tampa International Airport</td>\n",
       "      <td>30.0</td>\n",
       "      <td>Tampa</td>\n",
       "      <td>-82.533203125, 27.975500106811523</td>\n",
       "      <td>55435.955087</td>\n",
       "      <td>22424710.02</td>\n",
       "      <td>1940258.43</td>\n",
       "      <td>24364968.45</td>\n",
       "      <td>1738.0</td>\n",
       "      <td>6716987.64</td>\n",
       "      <td>8420000</td>\n",
       "      <td>0.0</td>\n",
       "      <td>15136987.64</td>\n",
       "      <td>9227980.81</td>\n",
       "    </tr>\n",
       "    <tr>\n",
       "      <th>5490</th>\n",
       "      <td>STL-TUL</td>\n",
       "      <td>WN</td>\n",
       "      <td>St. Louis, MO -&gt; Tulsa, OK</td>\n",
       "      <td>351.0</td>\n",
       "      <td>0.646288</td>\n",
       "      <td>1.410532</td>\n",
       "      <td>-2.346538</td>\n",
       "      <td>325</td>\n",
       "      <td>WN</td>\n",
       "      <td>36.0</td>\n",
       "      <td>364.055556</td>\n",
       "      <td>STL</td>\n",
       "      <td>TUL</td>\n",
       "      <td>large_airport</td>\n",
       "      <td>St Louis Lambert International Airport</td>\n",
       "      <td>618.0</td>\n",
       "      <td>St Louis</td>\n",
       "      <td>-90.370003, 38.748697</td>\n",
       "      <td>large_airport</td>\n",
       "      <td>Tulsa International Airport</td>\n",
       "      <td>677.0</td>\n",
       "      <td>Tulsa</td>\n",
       "      <td>-95.88809967041016, 36.19839859008789</td>\n",
       "      <td>42008.730023</td>\n",
       "      <td>15293511.55</td>\n",
       "      <td>1470305.55</td>\n",
       "      <td>16763817.10</td>\n",
       "      <td>702.0</td>\n",
       "      <td>2094417.00</td>\n",
       "      <td>6500000</td>\n",
       "      <td>0.0</td>\n",
       "      <td>8594417.00</td>\n",
       "      <td>8169400.10</td>\n",
       "    </tr>\n",
       "    <tr>\n",
       "      <th>5491</th>\n",
       "      <td>SYR-TPA</td>\n",
       "      <td>F9</td>\n",
       "      <td>Syracuse, NY -&gt; Tampa, FL</td>\n",
       "      <td>1104.0</td>\n",
       "      <td>0.615556</td>\n",
       "      <td>1.347222</td>\n",
       "      <td>-5.263889</td>\n",
       "      <td>72</td>\n",
       "      <td>F9</td>\n",
       "      <td>20.0</td>\n",
       "      <td>134.850000</td>\n",
       "      <td>SYR</td>\n",
       "      <td>TPA</td>\n",
       "      <td>large_airport</td>\n",
       "      <td>Syracuse Hancock International Airport</td>\n",
       "      <td>421.0</td>\n",
       "      <td>Syracuse</td>\n",
       "      <td>-76.1063003540039, 43.11119842529297</td>\n",
       "      <td>large_airport</td>\n",
       "      <td>Tampa International Airport</td>\n",
       "      <td>30.0</td>\n",
       "      <td>Tampa</td>\n",
       "      <td>-82.533203125, 27.975500106811523</td>\n",
       "      <td>8864.000000</td>\n",
       "      <td>1195310.40</td>\n",
       "      <td>310240.00</td>\n",
       "      <td>1505550.40</td>\n",
       "      <td>2208.0</td>\n",
       "      <td>1459399.68</td>\n",
       "      <td>1440000</td>\n",
       "      <td>0.0</td>\n",
       "      <td>2899399.68</td>\n",
       "      <td>-1393849.28</td>\n",
       "    </tr>\n",
       "    <tr>\n",
       "      <th>5492</th>\n",
       "      <td>TPA-TTN</td>\n",
       "      <td>F9</td>\n",
       "      <td>Tampa, FL -&gt; Trenton, NJ</td>\n",
       "      <td>955.0</td>\n",
       "      <td>0.639458</td>\n",
       "      <td>-1.395245</td>\n",
       "      <td>-4.710606</td>\n",
       "      <td>157</td>\n",
       "      <td>F9</td>\n",
       "      <td>36.0</td>\n",
       "      <td>158.388889</td>\n",
       "      <td>TPA</td>\n",
       "      <td>TTN</td>\n",
       "      <td>large_airport</td>\n",
       "      <td>Tampa International Airport</td>\n",
       "      <td>30.0</td>\n",
       "      <td>Tampa</td>\n",
       "      <td>-82.533203125, 27.975500106811523</td>\n",
       "      <td>medium_airport</td>\n",
       "      <td>Trenton Mercer Airport</td>\n",
       "      <td>213.0</td>\n",
       "      <td>Trenton</td>\n",
       "      <td>-74.8134994506836, 40.27669906616211</td>\n",
       "      <td>20078.980201</td>\n",
       "      <td>3180287.36</td>\n",
       "      <td>702764.31</td>\n",
       "      <td>3883051.67</td>\n",
       "      <td>1910.0</td>\n",
       "      <td>2752806.60</td>\n",
       "      <td>2355000</td>\n",
       "      <td>0.0</td>\n",
       "      <td>5107806.60</td>\n",
       "      <td>-1224754.93</td>\n",
       "    </tr>\n",
       "    <tr>\n",
       "      <th>5493</th>\n",
       "      <td>VPS-XNA</td>\n",
       "      <td>G4</td>\n",
       "      <td>Fayetteville, AR -&gt; Valparaiso, FL</td>\n",
       "      <td>601.0</td>\n",
       "      <td>0.604295</td>\n",
       "      <td>1.983974</td>\n",
       "      <td>7.487179</td>\n",
       "      <td>25</td>\n",
       "      <td>G4</td>\n",
       "      <td>14.0</td>\n",
       "      <td>139.214286</td>\n",
       "      <td>VPS</td>\n",
       "      <td>XNA</td>\n",
       "      <td>large_airport</td>\n",
       "      <td>Destin-Ft Walton Beach Airport</td>\n",
       "      <td>87.0</td>\n",
       "      <td>Valparaiso</td>\n",
       "      <td>-86.525398, 30.4832</td>\n",
       "      <td>medium_airport</td>\n",
       "      <td>Northwest Arkansas Regional Airport</td>\n",
       "      <td>776.0</td>\n",
       "      <td>Fayetteville/Springdale/Rogers</td>\n",
       "      <td>-94.306801, 36.281898</td>\n",
       "      <td>3021.474359</td>\n",
       "      <td>420632.39</td>\n",
       "      <td>105751.60</td>\n",
       "      <td>526384.00</td>\n",
       "      <td>1202.0</td>\n",
       "      <td>275859.00</td>\n",
       "      <td>375000</td>\n",
       "      <td>0.0</td>\n",
       "      <td>650859.00</td>\n",
       "      <td>-124475.00</td>\n",
       "    </tr>\n",
       "  </tbody>\n",
       "</table>\n",
       "<p>5494 rows × 33 columns</p>\n",
       "</div>"
      ],
      "text/plain": [
       "        ROUTE CARRIER                                    ROUTE_NAME_CITY  \\\n",
       "0     ABE-ATL      9E      Allentown/Bethlehem/Easton, PA -> Atlanta, GA   \n",
       "1     ABE-ATL      DL      Allentown/Bethlehem/Easton, PA -> Atlanta, GA   \n",
       "2     ABE-CLT      OH    Allentown/Bethlehem/Easton, PA -> Charlotte, NC   \n",
       "3     ABE-DTW      OO      Allentown/Bethlehem/Easton, PA -> Detroit, MI   \n",
       "4     ABE-FLL      G4  Allentown/Bethlehem/Easton, PA -> Fort Lauderd...   \n",
       "...       ...     ...                                                ...   \n",
       "5489  STL-TPA      WN                         St. Louis, MO -> Tampa, FL   \n",
       "5490  STL-TUL      WN                         St. Louis, MO -> Tulsa, OK   \n",
       "5491  SYR-TPA      F9                          Syracuse, NY -> Tampa, FL   \n",
       "5492  TPA-TTN      F9                           Tampa, FL -> Trenton, NJ   \n",
       "5493  VPS-XNA      G4                 Fayetteville, AR -> Valparaiso, FL   \n",
       "\n",
       "      ONE_WAY_DISTANCE_MILES  AVG_OCCUPANCY_RATE  AVG_DEP_DELAY_MINUTES  \\\n",
       "0                      692.0            0.652621               0.515817   \n",
       "1                      692.0            0.656911              -1.871067   \n",
       "2                      481.0            0.661096              -1.507968   \n",
       "3                      425.0            0.645200              -0.166188   \n",
       "4                     1041.0            0.605250              -0.500000   \n",
       "...                      ...                 ...                    ...   \n",
       "5489                   869.0            0.658384               2.898325   \n",
       "5490                   351.0            0.646288               1.410532   \n",
       "5491                  1104.0            0.615556               1.347222   \n",
       "5492                   955.0            0.639458              -1.395245   \n",
       "5493                   601.0            0.604295               1.983974   \n",
       "\n",
       "      AVG_ARR_DELAY_MINUTES  TOTAL_FLIGHTS CARRIER_FROM_TICKETS  \\\n",
       "0                 -1.425862            263                   9E   \n",
       "1                 -7.512380            171                   DL   \n",
       "2                 -2.513944            502                   OH   \n",
       "3                 -5.120053            495                   OO   \n",
       "4                 -1.175000             40                   G4   \n",
       "...                     ...            ...                  ...   \n",
       "5489               0.100162            421                   WN   \n",
       "5490              -2.346538            325                   WN   \n",
       "5491              -5.263889             72                   F9   \n",
       "5492              -4.710606            157                   F9   \n",
       "5493               7.487179             25                   G4   \n",
       "\n",
       "      TOTAL_PASSENGERS  AVG_ROUNDTRIP_FARE_PER_PASSENGER AIRPORT_CODE_A  \\\n",
       "0                 44.0                        587.522727            ABE   \n",
       "1                 29.0                        470.758621            ABE   \n",
       "2                 32.0                        494.062500            ABE   \n",
       "3                 21.0                        385.809524            ABE   \n",
       "4                 38.0                        158.263158            ABE   \n",
       "...                ...                               ...            ...   \n",
       "5489             192.0                        404.515625            STL   \n",
       "5490              36.0                        364.055556            STL   \n",
       "5491              20.0                        134.850000            SYR   \n",
       "5492              36.0                        158.388889            TPA   \n",
       "5493              14.0                        139.214286            VPS   \n",
       "\n",
       "     AIRPORT_CODE_B  AIRPORT_A_SIZE                          AIRPORT_A_NAME  \\\n",
       "0               ATL  medium_airport     Lehigh Valley International Airport   \n",
       "1               ATL  medium_airport     Lehigh Valley International Airport   \n",
       "2               CLT  medium_airport     Lehigh Valley International Airport   \n",
       "3               DTW  medium_airport     Lehigh Valley International Airport   \n",
       "4               FLL  medium_airport     Lehigh Valley International Airport   \n",
       "...             ...             ...                                     ...   \n",
       "5489            TPA   large_airport  St Louis Lambert International Airport   \n",
       "5490            TUL   large_airport  St Louis Lambert International Airport   \n",
       "5491            TPA   large_airport  Syracuse Hancock International Airport   \n",
       "5492            TTN   large_airport             Tampa International Airport   \n",
       "5493            XNA   large_airport          Destin-Ft Walton Beach Airport   \n",
       "\n",
       "      AIRPORT_A_ELEVATION_FT AIRPORT_A_CITY  \\\n",
       "0                      393.0      Allentown   \n",
       "1                      393.0      Allentown   \n",
       "2                      393.0      Allentown   \n",
       "3                      393.0      Allentown   \n",
       "4                      393.0      Allentown   \n",
       "...                      ...            ...   \n",
       "5489                   618.0       St Louis   \n",
       "5490                   618.0       St Louis   \n",
       "5491                   421.0       Syracuse   \n",
       "5492                    30.0          Tampa   \n",
       "5493                    87.0     Valparaiso   \n",
       "\n",
       "                     AIRPORT_A_COORDINATES  AIRPORT_B_SIZE  \\\n",
       "0      -75.44080352783203, 40.652099609375   large_airport   \n",
       "1      -75.44080352783203, 40.652099609375   large_airport   \n",
       "2      -75.44080352783203, 40.652099609375   large_airport   \n",
       "3      -75.44080352783203, 40.652099609375   large_airport   \n",
       "4      -75.44080352783203, 40.652099609375   large_airport   \n",
       "...                                    ...             ...   \n",
       "5489                 -90.370003, 38.748697   large_airport   \n",
       "5490                 -90.370003, 38.748697   large_airport   \n",
       "5491  -76.1063003540039, 43.11119842529297   large_airport   \n",
       "5492     -82.533203125, 27.975500106811523  medium_airport   \n",
       "5493                   -86.525398, 30.4832  medium_airport   \n",
       "\n",
       "                                        AIRPORT_B_NAME  \\\n",
       "0     Hartsfield Jackson Atlanta International Airport   \n",
       "1     Hartsfield Jackson Atlanta International Airport   \n",
       "2              Charlotte Douglas International Airport   \n",
       "3            Detroit Metropolitan Wayne County Airport   \n",
       "4      Fort Lauderdale Hollywood International Airport   \n",
       "...                                                ...   \n",
       "5489                       Tampa International Airport   \n",
       "5490                       Tulsa International Airport   \n",
       "5491                       Tampa International Airport   \n",
       "5492                            Trenton Mercer Airport   \n",
       "5493               Northwest Arkansas Regional Airport   \n",
       "\n",
       "      AIRPORT_B_ELEVATION_FT                  AIRPORT_B_CITY  \\\n",
       "0                      776.0                         Atlanta   \n",
       "1                      776.0                         Atlanta   \n",
       "2                      748.0                       Charlotte   \n",
       "3                      645.0                         Detroit   \n",
       "4                       30.0                 Fort Lauderdale   \n",
       "...                      ...                             ...   \n",
       "5489                    30.0                           Tampa   \n",
       "5490                   677.0                           Tulsa   \n",
       "5491                    30.0                           Tampa   \n",
       "5492                   213.0                         Trenton   \n",
       "5493                   776.0  Fayetteville/Springdale/Rogers   \n",
       "\n",
       "                       AIRPORT_B_COORDINATES  ESTIMATED_PASSENGERS  \\\n",
       "0                        -84.428101, 33.6367          34327.842297   \n",
       "1                        -84.428101, 33.6367          22466.358960   \n",
       "2       -80.94309997558594, 35.2140007019043          66374.000000   \n",
       "3     -83.35340118408203, 42.212398529052734          63874.781899   \n",
       "4                      -80.152702, 26.072599           4842.000000   \n",
       "...                                      ...                   ...   \n",
       "5489       -82.533203125, 27.975500106811523          55435.955087   \n",
       "5490   -95.88809967041016, 36.19839859008789          42008.730023   \n",
       "5491       -82.533203125, 27.975500106811523           8864.000000   \n",
       "5492    -74.8134994506836, 40.27669906616211          20078.980201   \n",
       "5493                   -94.306801, 36.281898           3021.474359   \n",
       "\n",
       "      TICKET_REVENUE  BAGGAGE_REVENUE  TOTAL_REVENUE  \\\n",
       "0        20168387.53       1201474.48    21369862.01   \n",
       "1        10576232.16        786322.56    11362554.72   \n",
       "2        32792904.38       2323090.00    35115994.38   \n",
       "3        24643499.19       2235617.37    26879116.55   \n",
       "4          766310.21        169470.00      935780.21   \n",
       "...              ...              ...            ...   \n",
       "5489     22424710.02       1940258.43    24364968.45   \n",
       "5490     15293511.55       1470305.55    16763817.10   \n",
       "5491      1195310.40        310240.00     1505550.40   \n",
       "5492      3180287.36        702764.31     3883051.67   \n",
       "5493       420632.39        105751.60      526384.00   \n",
       "\n",
       "      ROUND_TRIP_DISTANCE_MILES  MILEAGE_COST  AIRPORT_FEES  DELAY_COST  \\\n",
       "0                        1384.0    3341446.56       3945000         0.0   \n",
       "1                        1384.0    2172575.52       2565000         0.0   \n",
       "2                         962.0    4433242.32       7530000         0.0   \n",
       "3                         850.0    3862485.00       7425000         0.0   \n",
       "4                        2082.0     764510.40        600000         0.0   \n",
       "...                         ...           ...           ...         ...   \n",
       "5489                     1738.0    6716987.64       8420000         0.0   \n",
       "5490                      702.0    2094417.00       6500000         0.0   \n",
       "5491                     2208.0    1459399.68       1440000         0.0   \n",
       "5492                     1910.0    2752806.60       2355000         0.0   \n",
       "5493                     1202.0     275859.00        375000         0.0   \n",
       "\n",
       "       TOTAL_COST       PROFIT  \n",
       "0      7286446.56  14083415.45  \n",
       "1      4737575.52   6624979.20  \n",
       "2     11963242.32  23152752.06  \n",
       "3     11287485.00  15591631.55  \n",
       "4      1364510.40   -428730.19  \n",
       "...           ...          ...  \n",
       "5489  15136987.64   9227980.81  \n",
       "5490   8594417.00   8169400.10  \n",
       "5491   2899399.68  -1393849.28  \n",
       "5492   5107806.60  -1224754.93  \n",
       "5493    650859.00   -124475.00  \n",
       "\n",
       "[5494 rows x 33 columns]"
      ]
     },
     "execution_count": 3,
     "metadata": {},
     "output_type": "execute_result"
    }
   ],
   "source": [
    "df"
   ]
  },
  {
   "cell_type": "markdown",
   "id": "99c6bd2e-dec1-45f9-9ae2-7b06c53e09f4",
   "metadata": {},
   "source": [
    "### Question 1"
   ]
  },
  {
   "cell_type": "code",
   "execution_count": 4,
   "id": "8a7822df-1680-4e06-a58c-23db7eb71d57",
   "metadata": {},
   "outputs": [
    {
     "name": "stdout",
     "output_type": "stream",
     "text": [
      "Requirement already satisfied: tabulate in /Users/nyzy/anaconda3/envs/sandbox/lib/python3.9/site-packages (0.9.0)\n",
      "Note: you may need to restart the kernel to use updated packages.\n"
     ]
    }
   ],
   "source": [
    "pip install tabulate"
   ]
  },
  {
   "cell_type": "code",
   "execution_count": 5,
   "id": "e19bea10-33bf-4014-b8bd-45ee92d1a3e6",
   "metadata": {},
   "outputs": [
    {
     "name": "stdout",
     "output_type": "stream",
     "text": [
      "+---+-------------------------------------------+----------------+----------------+---------------+\n",
      "|   |              ROUTE_NAME_CITY              | AIRPORT_CODE_A | AIRPORT_CODE_B | TOTAL_FLIGHTS |\n",
      "+---+-------------------------------------------+----------------+----------------+---------------+\n",
      "| 0 |        Honolulu, HI -> Kahului, HI        |      HNL       |      OGG       |     4794      |\n",
      "| 1 |         Honolulu, HI -> Lihue, HI         |      HNL       |      LIH       |     3138      |\n",
      "| 2 |         Honolulu, HI -> Kona, HI          |      HNL       |      KOA       |     3018      |\n",
      "| 3 |         Hilo, HI -> Honolulu, HI          |      HNL       |      ITO       |     2339      |\n",
      "| 4 |        Burbank, CA -> Oakland, CA         |      BUR       |      OAK       |     1885      |\n",
      "| 5 |        Burbank, CA -> San Jose, CA        |      BUR       |      SJC       |     1618      |\n",
      "| 6 |       Burbank, CA -> Las Vegas, NV        |      BUR       |      LAS       |     1498      |\n",
      "| 7 |       Burbank, CA -> Sacramento, CA       |      BUR       |      SMF       |     1452      |\n",
      "| 8 |       Atlanta, GA -> Pensacola, FL        |      ATL       |      PNS       |     1251      |\n",
      "| 9 | Dallas/Fort Worth, TX -> Fayetteville, AR |      DFW       |      XNA       |     1219      |\n",
      "+---+-------------------------------------------+----------------+----------------+---------------+\n"
     ]
    }
   ],
   "source": [
    "from tabulate import tabulate\n",
    "# Step 1: Filter only medium-large or large-medium routes\n",
    "filtered_df = df[\n",
    "    ((df['AIRPORT_A_SIZE'] == 'medium_airport') & (df['AIRPORT_B_SIZE'] == 'large_airport')) |\n",
    "    ((df['AIRPORT_A_SIZE'] == 'large_airport') & (df['AIRPORT_B_SIZE'] == 'medium_airport'))\n",
    "].copy()\n",
    "\n",
    "# Step 2: Sort by TOTAL_FLIGHTS to get busiest round trips\n",
    "top_10_busiest_routes = (\n",
    "    filtered_df.sort_values(by='TOTAL_FLIGHTS', ascending=False)\n",
    "               .head(10)[['ROUTE_NAME_CITY', 'AIRPORT_CODE_A', 'AIRPORT_CODE_B', 'TOTAL_FLIGHTS']]\n",
    "               .reset_index(drop=True)\n",
    ")\n",
    "\n",
    "# Assuming top_10_busiest_routes is already defined\n",
    "print(tabulate(top_10_busiest_routes, headers='keys', tablefmt='pretty', showindex=True))"
   ]
  },
  {
   "cell_type": "code",
   "execution_count": 6,
   "id": "b136123f-e430-4f44-9e35-78c2613b059b",
   "metadata": {},
   "outputs": [
    {
     "name": "stderr",
     "output_type": "stream",
     "text": [
      "/var/folders/17/gws30jys63j9xx5l0mwr5r4r0000gq/T/ipykernel_49041/3242145594.py:5: FutureWarning: \n",
      "\n",
      "Passing `palette` without assigning `hue` is deprecated and will be removed in v0.14.0. Assign the `y` variable to `hue` and set `legend=False` for the same effect.\n",
      "\n",
      "  sns.barplot(\n"
     ]
    },
    {
     "data": {
      "image/png": "[encoded data removed]",
      "text/plain": [
       "<Figure size 1000x600 with 1 Axes>"
      ]
     },
     "metadata": {},
     "output_type": "display_data"
    }
   ],
   "source": [
    "import matplotlib.pyplot as plt\n",
    "import seaborn as sns\n",
    "\n",
    "plt.figure(figsize=(10, 6))\n",
    "sns.barplot(\n",
    "    x='TOTAL_FLIGHTS',\n",
    "    y='ROUTE_NAME_CITY',\n",
    "    data=top_10_busiest_routes,\n",
    "    palette='Blues_d'\n",
    ")\n",
    "\n",
    "plt.title('Top 10 Busiest Medium-Large Round Trip Routes (Q1 2019)')\n",
    "plt.xlabel('Total Round Trip Flights')\n",
    "plt.ylabel('Route (City A → City B)')\n",
    "plt.tight_layout()\n",
    "plt.show()\n"
   ]
  },
  {
   "cell_type": "markdown",
   "id": "fc598501-98f8-4289-91a4-724af333e2a8",
   "metadata": {},
   "source": [
    "#### Question 2"
   ]
  },
  {
   "cell_type": "code",
   "execution_count": 7,
   "id": "c89e1930-c84e-4282-a975-2f6712b90894",
   "metadata": {},
   "outputs": [
    {
     "data": {
      "text/html": [
       "<div>\n",
       "<style scoped>\n",
       "    .dataframe tbody tr th:only-of-type {\n",
       "        vertical-align: middle;\n",
       "    }\n",
       "\n",
       "    .dataframe tbody tr th {\n",
       "        vertical-align: top;\n",
       "    }\n",
       "\n",
       "    .dataframe thead th {\n",
       "        text-align: right;\n",
       "    }\n",
       "</style>\n",
       "<table border=\"1\" class=\"dataframe\">\n",
       "  <thead>\n",
       "    <tr style=\"text-align: right;\">\n",
       "      <th></th>\n",
       "      <th>ROUTE_NAME_CITY</th>\n",
       "      <th>AIRPORT_CODE_A</th>\n",
       "      <th>AIRPORT_CODE_B</th>\n",
       "      <th>TOTAL_FLIGHTS</th>\n",
       "      <th>TOTAL_REVENUE</th>\n",
       "      <th>TOTAL_COST</th>\n",
       "      <th>PROFIT</th>\n",
       "      <th>TICKET_REVENUE</th>\n",
       "      <th>BAGGAGE_REVENUE</th>\n",
       "      <th>MILEAGE_COST</th>\n",
       "      <th>AIRPORT_FEES</th>\n",
       "      <th>DELAY_COST</th>\n",
       "    </tr>\n",
       "  </thead>\n",
       "  <tbody>\n",
       "    <tr>\n",
       "      <th>0</th>\n",
       "      <td>Honolulu, HI -&gt; Kahului, HI</td>\n",
       "      <td>HNL</td>\n",
       "      <td>OGG</td>\n",
       "      <td>4794</td>\n",
       "      <td>1.926537e+08</td>\n",
       "      <td>80711784.00</td>\n",
       "      <td>1.119420e+08</td>\n",
       "      <td>1.709205e+08</td>\n",
       "      <td>21733232.95</td>\n",
       "      <td>8801784.00</td>\n",
       "      <td>71910000</td>\n",
       "      <td>0.0</td>\n",
       "    </tr>\n",
       "    <tr>\n",
       "      <th>1</th>\n",
       "      <td>Charlotte, NC -&gt; Wilmington, NC</td>\n",
       "      <td>CLT</td>\n",
       "      <td>ILM</td>\n",
       "      <td>1052</td>\n",
       "      <td>9.338365e+07</td>\n",
       "      <td>19353223.20</td>\n",
       "      <td>7.403043e+07</td>\n",
       "      <td>8.856296e+07</td>\n",
       "      <td>4820690.00</td>\n",
       "      <td>3573223.20</td>\n",
       "      <td>15780000</td>\n",
       "      <td>0.0</td>\n",
       "    </tr>\n",
       "    <tr>\n",
       "      <th>2</th>\n",
       "      <td>Charlotte, NC -&gt; Myrtle Beach, SC</td>\n",
       "      <td>CLT</td>\n",
       "      <td>MYR</td>\n",
       "      <td>1202</td>\n",
       "      <td>8.993164e+07</td>\n",
       "      <td>21494789.04</td>\n",
       "      <td>6.843685e+07</td>\n",
       "      <td>8.450628e+07</td>\n",
       "      <td>5425350.00</td>\n",
       "      <td>3464789.04</td>\n",
       "      <td>18030000</td>\n",
       "      <td>0.0</td>\n",
       "    </tr>\n",
       "    <tr>\n",
       "      <th>3</th>\n",
       "      <td>Honolulu, HI -&gt; Kona, HI</td>\n",
       "      <td>HNL</td>\n",
       "      <td>KOA</td>\n",
       "      <td>3018</td>\n",
       "      <td>1.205771e+08</td>\n",
       "      <td>54301908.24</td>\n",
       "      <td>6.627518e+07</td>\n",
       "      <td>1.068918e+08</td>\n",
       "      <td>13685280.00</td>\n",
       "      <td>9031908.24</td>\n",
       "      <td>45270000</td>\n",
       "      <td>0.0</td>\n",
       "    </tr>\n",
       "    <tr>\n",
       "      <th>4</th>\n",
       "      <td>Honolulu, HI -&gt; Lihue, HI</td>\n",
       "      <td>HNL</td>\n",
       "      <td>LIH</td>\n",
       "      <td>3138</td>\n",
       "      <td>1.167494e+08</td>\n",
       "      <td>52946595.36</td>\n",
       "      <td>6.380279e+07</td>\n",
       "      <td>1.023706e+08</td>\n",
       "      <td>14378821.66</td>\n",
       "      <td>5876595.36</td>\n",
       "      <td>47070000</td>\n",
       "      <td>0.0</td>\n",
       "    </tr>\n",
       "    <tr>\n",
       "      <th>5</th>\n",
       "      <td>Dallas/Fort Worth, TX -&gt; Fayetteville, AR</td>\n",
       "      <td>DFW</td>\n",
       "      <td>XNA</td>\n",
       "      <td>1219</td>\n",
       "      <td>8.653694e+07</td>\n",
       "      <td>24551635.20</td>\n",
       "      <td>6.198530e+07</td>\n",
       "      <td>8.093601e+07</td>\n",
       "      <td>5600931.00</td>\n",
       "      <td>6266635.20</td>\n",
       "      <td>18285000</td>\n",
       "      <td>0.0</td>\n",
       "    </tr>\n",
       "    <tr>\n",
       "      <th>6</th>\n",
       "      <td>Atlanta, GA -&gt; Pensacola, FL</td>\n",
       "      <td>ATL</td>\n",
       "      <td>PNS</td>\n",
       "      <td>1251</td>\n",
       "      <td>8.692383e+07</td>\n",
       "      <td>24989425.56</td>\n",
       "      <td>6.193440e+07</td>\n",
       "      <td>8.114897e+07</td>\n",
       "      <td>5774863.58</td>\n",
       "      <td>6224425.56</td>\n",
       "      <td>18765000</td>\n",
       "      <td>0.0</td>\n",
       "    </tr>\n",
       "    <tr>\n",
       "      <th>7</th>\n",
       "      <td>Fresno, CA -&gt; Los Angeles, CA</td>\n",
       "      <td>FAT</td>\n",
       "      <td>LAX</td>\n",
       "      <td>1208</td>\n",
       "      <td>7.977604e+07</td>\n",
       "      <td>22755385.92</td>\n",
       "      <td>5.702066e+07</td>\n",
       "      <td>7.434727e+07</td>\n",
       "      <td>5428772.17</td>\n",
       "      <td>4635385.92</td>\n",
       "      <td>18120000</td>\n",
       "      <td>0.0</td>\n",
       "    </tr>\n",
       "    <tr>\n",
       "      <th>8</th>\n",
       "      <td>Dallas/Fort Worth, TX -&gt; Killeen, TX</td>\n",
       "      <td>DFW</td>\n",
       "      <td>GRK</td>\n",
       "      <td>916</td>\n",
       "      <td>6.581872e+07</td>\n",
       "      <td>15993579.84</td>\n",
       "      <td>4.982514e+07</td>\n",
       "      <td>6.166499e+07</td>\n",
       "      <td>4153723.51</td>\n",
       "      <td>2253579.84</td>\n",
       "      <td>13740000</td>\n",
       "      <td>0.0</td>\n",
       "    </tr>\n",
       "    <tr>\n",
       "      <th>9</th>\n",
       "      <td>Baton Rouge, LA -&gt; Houston, TX</td>\n",
       "      <td>BTR</td>\n",
       "      <td>IAH</td>\n",
       "      <td>960</td>\n",
       "      <td>6.703594e+07</td>\n",
       "      <td>18859276.80</td>\n",
       "      <td>4.817667e+07</td>\n",
       "      <td>6.267697e+07</td>\n",
       "      <td>4358970.00</td>\n",
       "      <td>4459276.80</td>\n",
       "      <td>14400000</td>\n",
       "      <td>0.0</td>\n",
       "    </tr>\n",
       "  </tbody>\n",
       "</table>\n",
       "</div>"
      ],
      "text/plain": [
       "                             ROUTE_NAME_CITY AIRPORT_CODE_A AIRPORT_CODE_B  \\\n",
       "0                Honolulu, HI -> Kahului, HI            HNL            OGG   \n",
       "1            Charlotte, NC -> Wilmington, NC            CLT            ILM   \n",
       "2          Charlotte, NC -> Myrtle Beach, SC            CLT            MYR   \n",
       "3                   Honolulu, HI -> Kona, HI            HNL            KOA   \n",
       "4                  Honolulu, HI -> Lihue, HI            HNL            LIH   \n",
       "5  Dallas/Fort Worth, TX -> Fayetteville, AR            DFW            XNA   \n",
       "6               Atlanta, GA -> Pensacola, FL            ATL            PNS   \n",
       "7              Fresno, CA -> Los Angeles, CA            FAT            LAX   \n",
       "8       Dallas/Fort Worth, TX -> Killeen, TX            DFW            GRK   \n",
       "9             Baton Rouge, LA -> Houston, TX            BTR            IAH   \n",
       "\n",
       "   TOTAL_FLIGHTS  TOTAL_REVENUE   TOTAL_COST        PROFIT  TICKET_REVENUE  \\\n",
       "0           4794   1.926537e+08  80711784.00  1.119420e+08    1.709205e+08   \n",
       "1           1052   9.338365e+07  19353223.20  7.403043e+07    8.856296e+07   \n",
       "2           1202   8.993164e+07  21494789.04  6.843685e+07    8.450628e+07   \n",
       "3           3018   1.205771e+08  54301908.24  6.627518e+07    1.068918e+08   \n",
       "4           3138   1.167494e+08  52946595.36  6.380279e+07    1.023706e+08   \n",
       "5           1219   8.653694e+07  24551635.20  6.198530e+07    8.093601e+07   \n",
       "6           1251   8.692383e+07  24989425.56  6.193440e+07    8.114897e+07   \n",
       "7           1208   7.977604e+07  22755385.92  5.702066e+07    7.434727e+07   \n",
       "8            916   6.581872e+07  15993579.84  4.982514e+07    6.166499e+07   \n",
       "9            960   6.703594e+07  18859276.80  4.817667e+07    6.267697e+07   \n",
       "\n",
       "   BAGGAGE_REVENUE  MILEAGE_COST  AIRPORT_FEES  DELAY_COST  \n",
       "0      21733232.95    8801784.00      71910000         0.0  \n",
       "1       4820690.00    3573223.20      15780000         0.0  \n",
       "2       5425350.00    3464789.04      18030000         0.0  \n",
       "3      13685280.00    9031908.24      45270000         0.0  \n",
       "4      14378821.66    5876595.36      47070000         0.0  \n",
       "5       5600931.00    6266635.20      18285000         0.0  \n",
       "6       5774863.58    6224425.56      18765000         0.0  \n",
       "7       5428772.17    4635385.92      18120000         0.0  \n",
       "8       4153723.51    2253579.84      13740000         0.0  \n",
       "9       4358970.00    4459276.80      14400000         0.0  "
      ]
     },
     "execution_count": 7,
     "metadata": {},
     "output_type": "execute_result"
    }
   ],
   "source": [
    "# Step 1: Filter for medium-large or large-medium round trip routes\n",
    "filtered_df = df[\n",
    "    ((df['AIRPORT_A_SIZE'] == 'medium_airport') & (df['AIRPORT_B_SIZE'] == 'large_airport')) |\n",
    "    ((df['AIRPORT_A_SIZE'] == 'large_airport') & (df['AIRPORT_B_SIZE'] == 'medium_airport'))\n",
    "].copy()\n",
    "\n",
    "\n",
    "# Step 3: Select relevant columns\n",
    "columns_to_show = [\n",
    "    'ROUTE_NAME_CITY',\n",
    "    'AIRPORT_CODE_A', 'AIRPORT_CODE_B',\n",
    "    'TOTAL_FLIGHTS',\n",
    "    'TOTAL_REVENUE', 'TOTAL_COST', 'PROFIT',\n",
    "    'TICKET_REVENUE', 'BAGGAGE_REVENUE',\n",
    "    'MILEAGE_COST', 'AIRPORT_FEES', 'DELAY_COST'\n",
    "]\n",
    "\n",
    "# Step 4: Sort by profit and show top 10\n",
    "top_10_profitable = (\n",
    "    filtered_df[columns_to_show]\n",
    "    .sort_values(by='PROFIT', ascending=False)\n",
    "    .head(10)\n",
    "    .reset_index(drop=True)\n",
    ")\n",
    "\n",
    "top_10_profitable"
   ]
  },
  {
   "cell_type": "code",
   "execution_count": 8,
   "id": "20185b9f-e2c4-4fca-9c76-07b3c7d2a9f2",
   "metadata": {},
   "outputs": [
    {
     "data": {
      "application/vnd.plotly.v1+json": {
       "config": {
        "plotlyServerURL": "https://plot.ly"
       },
       "data": [
        {
         "marker": {
          "color": "rgb(158,202,225)"
         },
         "name": "Total Revenue",
         "type": "bar",
         "x": [
          "Honolulu, HI -> Kahului, HI",
          "Charlotte, NC -> Wilmington, NC",
          "Charlotte, NC -> Myrtle Beach, SC",
          "Honolulu, HI -> Kona, HI",
          "Honolulu, HI -> Lihue, HI",
          "Dallas/Fort Worth, TX -> Fayetteville, AR",
          "Atlanta, GA -> Pensacola, FL",
          "Fresno, CA -> Los Angeles, CA",
          "Dallas/Fort Worth, TX -> Killeen, TX",
          "Baton Rouge, LA -> Houston, TX"
         ],
         "y": [
          192653737.08,
          93383652,
          89931635,
          120577092,
          116749386.2,
          86536937.61,
          86923828.92,
          79776044.38,
          65818716.02,
          67035944.57
         ]
        },
        {
         "marker": {
          "color": "rgb(255, 160, 122)"
         },
         "name": "Total Cost",
         "type": "bar",
         "x": [
          "Honolulu, HI -> Kahului, HI",
          "Charlotte, NC -> Wilmington, NC",
          "Charlotte, NC -> Myrtle Beach, SC",
          "Honolulu, HI -> Kona, HI",
          "Honolulu, HI -> Lihue, HI",
          "Dallas/Fort Worth, TX -> Fayetteville, AR",
          "Atlanta, GA -> Pensacola, FL",
          "Fresno, CA -> Los Angeles, CA",
          "Dallas/Fort Worth, TX -> Killeen, TX",
          "Baton Rouge, LA -> Houston, TX"
         ],
         "y": [
          80711784,
          19353223.2,
          21494789.04,
          54301908.24,
          52946595.36,
          24551635.2,
          24989425.56,
          22755385.92,
          15993579.84,
          18859276.8
         ]
        },
        {
         "marker": {
          "color": "rgb(144,238,144)"
         },
         "name": "Profit",
         "type": "bar",
         "x": [
          "Honolulu, HI -> Kahului, HI",
          "Charlotte, NC -> Wilmington, NC",
          "Charlotte, NC -> Myrtle Beach, SC",
          "Honolulu, HI -> Kona, HI",
          "Honolulu, HI -> Lihue, HI",
          "Dallas/Fort Worth, TX -> Fayetteville, AR",
          "Atlanta, GA -> Pensacola, FL",
          "Fresno, CA -> Los Angeles, CA",
          "Dallas/Fort Worth, TX -> Killeen, TX",
          "Baton Rouge, LA -> Houston, TX"
         ],
         "y": [
          111941953.08,
          74030428.8,
          68436845.96,
          66275183.76,
          63802790.84,
          61985302.41,
          61934403.36,
          57020658.46,
          49825136.18,
          48176667.77
         ]
        }
       ],
       "layout": {
        "barmode": "group",
        "height": 600,
        "legend": {
         "title": {
          "text": "Metric"
         }
        },
        "template": {
         "data": {
          "bar": [
           {
            "error_x": {
             "color": "#2a3f5f"
            },
            "error_y": {
             "color": "#2a3f5f"
            },
            "marker": {
             "line": {
              "color": "#E5ECF6",
              "width": 0.5
             },
             "pattern": {
              "fillmode": "overlay",
              "size": 10,
              "solidity": 0.2
             }
            },
            "type": "bar"
           }
          ],
          "barpolar": [
           {
            "marker": {
             "line": {
              "color": "#E5ECF6",
              "width": 0.5
             },
             "pattern": {
              "fillmode": "overlay",
              "size": 10,
              "solidity": 0.2
             }
            },
            "type": "barpolar"
           }
          ],
          "carpet": [
           {
            "aaxis": {
             "endlinecolor": "#2a3f5f",
             "gridcolor": "white",
             "linecolor": "white",
             "minorgridcolor": "white",
             "startlinecolor": "#2a3f5f"
            },
            "baxis": {
             "endlinecolor": "#2a3f5f",
             "gridcolor": "white",
             "linecolor": "white",
             "minorgridcolor": "white",
             "startlinecolor": "#2a3f5f"
            },
            "type": "carpet"
           }
          ],
          "choropleth": [
           {
            "colorbar": {
             "outlinewidth": 0,
             "ticks": ""
            },
            "type": "choropleth"
           }
          ],
          "contour": [
           {
            "colorbar": {
             "outlinewidth": 0,
             "ticks": ""
            },
            "colorscale": [
             [
              0,
              "#0d0887"
             ],
             [
              0.1111111111111111,
              "#46039f"
             ],
             [
              0.2222222222222222,
              "#7201a8"
             ],
             [
              0.3333333333333333,
              "#9c179e"
             ],
             [
              0.4444444444444444,
              "#bd3786"
             ],
             [
              0.5555555555555556,
              "#d8576b"
             ],
             [
              0.6666666666666666,
              "#ed7953"
             ],
             [
              0.7777777777777778,
              "#fb9f3a"
             ],
             [
              0.8888888888888888,
              "#fdca26"
             ],
             [
              1,
              "#f0f921"
             ]
            ],
            "type": "contour"
           }
          ],
          "contourcarpet": [
           {
            "colorbar": {
             "outlinewidth": 0,
             "ticks": ""
            },
            "type": "contourcarpet"
           }
          ],
          "heatmap": [
           {
            "colorbar": {
             "outlinewidth": 0,
             "ticks": ""
            },
            "colorscale": [
             [
              0,
              "#0d0887"
             ],
             [
              0.1111111111111111,
              "#46039f"
             ],
             [
              0.2222222222222222,
              "#7201a8"
             ],
             [
              0.3333333333333333,
              "#9c179e"
             ],
             [
              0.4444444444444444,
              "#bd3786"
             ],
             [
              0.5555555555555556,
              "#d8576b"
             ],
             [
              0.6666666666666666,
              "#ed7953"
             ],
             [
              0.7777777777777778,
              "#fb9f3a"
             ],
             [
              0.8888888888888888,
              "#fdca26"
             ],
             [
              1,
              "#f0f921"
             ]
            ],
            "type": "heatmap"
           }
          ],
          "heatmapgl": [
           {
            "colorbar": {
             "outlinewidth": 0,
             "ticks": ""
            },
            "colorscale": [
             [
              0,
              "#0d0887"
             ],
             [
              0.1111111111111111,
              "#46039f"
             ],
             [
              0.2222222222222222,
              "#7201a8"
             ],
             [
              0.3333333333333333,
              "#9c179e"
             ],
             [
              0.4444444444444444,
              "#bd3786"
             ],
             [
              0.5555555555555556,
              "#d8576b"
             ],
             [
              0.6666666666666666,
              "#ed7953"
             ],
             [
              0.7777777777777778,
              "#fb9f3a"
             ],
             [
              0.8888888888888888,
              "#fdca26"
             ],
             [
              1,
              "#f0f921"
             ]
            ],
            "type": "heatmapgl"
           }
          ],
          "histogram": [
           {
            "marker": {
             "pattern": {
              "fillmode": "overlay",
              "size": 10,
              "solidity": 0.2
             }
            },
            "type": "histogram"
           }
          ],
          "histogram2d": [
           {
            "colorbar": {
             "outlinewidth": 0,
             "ticks": ""
            },
            "colorscale": [
             [
              0,
              "#0d0887"
             ],
             [
              0.1111111111111111,
              "#46039f"
             ],
             [
              0.2222222222222222,
              "#7201a8"
             ],
             [
              0.3333333333333333,
              "#9c179e"
             ],
             [
              0.4444444444444444,
              "#bd3786"
             ],
             [
              0.5555555555555556,
              "#d8576b"
             ],
             [
              0.6666666666666666,
              "#ed7953"
             ],
             [
              0.7777777777777778,
              "#fb9f3a"
             ],
             [
              0.8888888888888888,
              "#fdca26"
             ],
             [
              1,
              "#f0f921"
             ]
            ],
            "type": "histogram2d"
           }
          ],
          "histogram2dcontour": [
           {
            "colorbar": {
             "outlinewidth": 0,
             "ticks": ""
            },
            "colorscale": [
             [
              0,
              "#0d0887"
             ],
             [
              0.1111111111111111,
              "#46039f"
             ],
             [
              0.2222222222222222,
              "#7201a8"
             ],
             [
              0.3333333333333333,
              "#9c179e"
             ],
             [
              0.4444444444444444,
              "#bd3786"
             ],
             [
              0.5555555555555556,
              "#d8576b"
             ],
             [
              0.6666666666666666,
              "#ed7953"
             ],
             [
              0.7777777777777778,
              "#fb9f3a"
             ],
             [
              0.8888888888888888,
              "#fdca26"
             ],
             [
              1,
              "#f0f921"
             ]
            ],
            "type": "histogram2dcontour"
           }
          ],
          "mesh3d": [
           {
            "colorbar": {
             "outlinewidth": 0,
             "ticks": ""
            },
            "type": "mesh3d"
           }
          ],
          "parcoords": [
           {
            "line": {
             "colorbar": {
              "outlinewidth": 0,
              "ticks": ""
             }
            },
            "type": "parcoords"
           }
          ],
          "pie": [
           {
            "automargin": true,
            "type": "pie"
           }
          ],
          "scatter": [
           {
            "fillpattern": {
             "fillmode": "overlay",
             "size": 10,
             "solidity": 0.2
            },
            "type": "scatter"
           }
          ],
          "scatter3d": [
           {
            "line": {
             "colorbar": {
              "outlinewidth": 0,
              "ticks": ""
             }
            },
            "marker": {
             "colorbar": {
              "outlinewidth": 0,
              "ticks": ""
             }
            },
            "type": "scatter3d"
           }
          ],
          "scattercarpet": [
           {
            "marker": {
             "colorbar": {
              "outlinewidth": 0,
              "ticks": ""
             }
            },
            "type": "scattercarpet"
           }
          ],
          "scattergeo": [
           {
            "marker": {
             "colorbar": {
              "outlinewidth": 0,
              "ticks": ""
             }
            },
            "type": "scattergeo"
           }
          ],
          "scattergl": [
           {
            "marker": {
             "colorbar": {
              "outlinewidth": 0,
              "ticks": ""
             }
            },
            "type": "scattergl"
           }
          ],
          "scattermapbox": [
           {
            "marker": {
             "colorbar": {
              "outlinewidth": 0,
              "ticks": ""
             }
            },
            "type": "scattermapbox"
           }
          ],
          "scatterpolar": [
           {
            "marker": {
             "colorbar": {
              "outlinewidth": 0,
              "ticks": ""
             }
            },
            "type": "scatterpolar"
           }
          ],
          "scatterpolargl": [
           {
            "marker": {
             "colorbar": {
              "outlinewidth": 0,
              "ticks": ""
             }
            },
            "type": "scatterpolargl"
           }
          ],
          "scatterternary": [
           {
            "marker": {
             "colorbar": {
              "outlinewidth": 0,
              "ticks": ""
             }
            },
            "type": "scatterternary"
           }
          ],
          "surface": [
           {
            "colorbar": {
             "outlinewidth": 0,
             "ticks": ""
            },
            "colorscale": [
             [
              0,
              "#0d0887"
             ],
             [
              0.1111111111111111,
              "#46039f"
             ],
             [
              0.2222222222222222,
              "#7201a8"
             ],
             [
              0.3333333333333333,
              "#9c179e"
             ],
             [
              0.4444444444444444,
              "#bd3786"
             ],
             [
              0.5555555555555556,
              "#d8576b"
             ],
             [
              0.6666666666666666,
              "#ed7953"
             ],
             [
              0.7777777777777778,
              "#fb9f3a"
             ],
             [
              0.8888888888888888,
              "#fdca26"
             ],
             [
              1,
              "#f0f921"
             ]
            ],
            "type": "surface"
           }
          ],
          "table": [
           {
            "cells": {
             "fill": {
              "color": "#EBF0F8"
             },
             "line": {
              "color": "white"
             }
            },
            "header": {
             "fill": {
              "color": "#C8D4E3"
             },
             "line": {
              "color": "white"
             }
            },
            "type": "table"
           }
          ]
         },
         "layout": {
          "annotationdefaults": {
           "arrowcolor": "#2a3f5f",
           "arrowhead": 0,
           "arrowwidth": 1
          },
          "autotypenumbers": "strict",
          "coloraxis": {
           "colorbar": {
            "outlinewidth": 0,
            "ticks": ""
           }
          },
          "colorscale": {
           "diverging": [
            [
             0,
             "#8e0152"
            ],
            [
             0.1,
             "#c51b7d"
            ],
            [
             0.2,
             "#de77ae"
            ],
            [
             0.3,
             "#f1b6da"
            ],
            [
             0.4,
             "#fde0ef"
            ],
            [
             0.5,
             "#f7f7f7"
            ],
            [
             0.6,
             "#e6f5d0"
            ],
            [
             0.7,
             "#b8e186"
            ],
            [
             0.8,
             "#7fbc41"
            ],
            [
             0.9,
             "#4d9221"
            ],
            [
             1,
             "#276419"
            ]
           ],
           "sequential": [
            [
             0,
             "#0d0887"
            ],
            [
             0.1111111111111111,
             "#46039f"
            ],
            [
             0.2222222222222222,
             "#7201a8"
            ],
            [
             0.3333333333333333,
             "#9c179e"
            ],
            [
             0.4444444444444444,
             "#bd3786"
            ],
            [
             0.5555555555555556,
             "#d8576b"
            ],
            [
             0.6666666666666666,
             "#ed7953"
            ],
            [
             0.7777777777777778,
             "#fb9f3a"
            ],
            [
             0.8888888888888888,
             "#fdca26"
            ],
            [
             1,
             "#f0f921"
            ]
           ],
           "sequentialminus": [
            [
             0,
             "#0d0887"
            ],
            [
             0.1111111111111111,
             "#46039f"
            ],
            [
             0.2222222222222222,
             "#7201a8"
            ],
            [
             0.3333333333333333,
             "#9c179e"
            ],
            [
             0.4444444444444444,
             "#bd3786"
            ],
            [
             0.5555555555555556,
             "#d8576b"
            ],
            [
             0.6666666666666666,
             "#ed7953"
            ],
            [
             0.7777777777777778,
             "#fb9f3a"
            ],
            [
             0.8888888888888888,
             "#fdca26"
            ],
            [
             1,
             "#f0f921"
            ]
           ]
          },
          "colorway": [
           "#636efa",
           "#EF553B",
           "#00cc96",
           "#ab63fa",
           "#FFA15A",
           "#19d3f3",
           "#FF6692",
           "#B6E880",
           "#FF97FF",
           "#FECB52"
          ],
          "font": {
           "color": "#2a3f5f"
          },
          "geo": {
           "bgcolor": "white",
           "lakecolor": "white",
           "landcolor": "#E5ECF6",
           "showlakes": true,
           "showland": true,
           "subunitcolor": "white"
          },
          "hoverlabel": {
           "align": "left"
          },
          "hovermode": "closest",
          "mapbox": {
           "style": "light"
          },
          "paper_bgcolor": "white",
          "plot_bgcolor": "#E5ECF6",
          "polar": {
           "angularaxis": {
            "gridcolor": "white",
            "linecolor": "white",
            "ticks": ""
           },
           "bgcolor": "#E5ECF6",
           "radialaxis": {
            "gridcolor": "white",
            "linecolor": "white",
            "ticks": ""
           }
          },
          "scene": {
           "xaxis": {
            "backgroundcolor": "#E5ECF6",
            "gridcolor": "white",
            "gridwidth": 2,
            "linecolor": "white",
            "showbackground": true,
            "ticks": "",
            "zerolinecolor": "white"
           },
           "yaxis": {
            "backgroundcolor": "#E5ECF6",
            "gridcolor": "white",
            "gridwidth": 2,
            "linecolor": "white",
            "showbackground": true,
            "ticks": "",
            "zerolinecolor": "white"
           },
           "zaxis": {
            "backgroundcolor": "#E5ECF6",
            "gridcolor": "white",
            "gridwidth": 2,
            "linecolor": "white",
            "showbackground": true,
            "ticks": "",
            "zerolinecolor": "white"
           }
          },
          "shapedefaults": {
           "line": {
            "color": "#2a3f5f"
           }
          },
          "ternary": {
           "aaxis": {
            "gridcolor": "white",
            "linecolor": "white",
            "ticks": ""
           },
           "baxis": {
            "gridcolor": "white",
            "linecolor": "white",
            "ticks": ""
           },
           "bgcolor": "#E5ECF6",
           "caxis": {
            "gridcolor": "white",
            "linecolor": "white",
            "ticks": ""
           }
          },
          "title": {
           "x": 0.05
          },
          "xaxis": {
           "automargin": true,
           "gridcolor": "white",
           "linecolor": "white",
           "ticks": "",
           "title": {
            "standoff": 15
           },
           "zerolinecolor": "white",
           "zerolinewidth": 2
          },
          "yaxis": {
           "automargin": true,
           "gridcolor": "white",
           "linecolor": "white",
           "ticks": "",
           "title": {
            "standoff": 15
           },
           "zerolinecolor": "white",
           "zerolinewidth": 2
          }
         }
        },
        "title": {
         "text": "Top 10 Most Profitable Routes: Revenue vs Cost vs Profit"
        },
        "width": 1000,
        "xaxis": {
         "tickangle": -45,
         "title": {
          "text": "Route"
         }
        },
        "yaxis": {
         "title": {
          "text": "USD ($)"
         }
        }
       }
      }
     },
     "metadata": {},
     "output_type": "display_data"
    }
   ],
   "source": [
    "import plotly.graph_objects as go\n",
    "\n",
    "# Sample DataFrame: top_10_profitable (already defined from your output)\n",
    "routes = top_10_profitable['ROUTE_NAME_CITY']\n",
    "\n",
    "fig = go.Figure()\n",
    "\n",
    "# Add bars for each metric\n",
    "fig.add_trace(go.Bar(\n",
    "    x=routes,\n",
    "    y=top_10_profitable['TOTAL_REVENUE'],\n",
    "    name='Total Revenue',\n",
    "    marker_color='rgb(158,202,225)'\n",
    "))\n",
    "fig.add_trace(go.Bar(\n",
    "    x=routes,\n",
    "    y=top_10_profitable['TOTAL_COST'],\n",
    "    name='Total Cost',\n",
    "    marker_color='rgb(255, 160, 122)'\n",
    "))\n",
    "fig.add_trace(go.Bar(\n",
    "    x=routes,\n",
    "    y=top_10_profitable['PROFIT'],\n",
    "    name='Profit',\n",
    "    marker_color='rgb(144,238,144)'\n",
    "))\n",
    "\n",
    "# Layout\n",
    "fig.update_layout(\n",
    "    barmode='group',\n",
    "    title='Top 10 Most Profitable Routes: Revenue vs Cost vs Profit',\n",
    "    xaxis_title='Route',\n",
    "    yaxis_title='USD ($)',\n",
    "    xaxis_tickangle=-45,\n",
    "    legend_title='Metric',\n",
    "    height=600,\n",
    "    width=1000\n",
    ")\n",
    "\n",
    "fig.show()"
   ]
  },
  {
   "cell_type": "markdown",
   "id": "3a815d2f-7625-4d66-bb37-87cc2c37c383",
   "metadata": {},
   "source": [
    "#### Question 3"
   ]
  },
  {
   "cell_type": "code",
   "execution_count": 9,
   "id": "6da2c9b0-aa9f-4190-a5af-b84068ceed44",
   "metadata": {},
   "outputs": [
    {
     "name": "stdout",
     "output_type": "stream",
     "text": [
      "+---+-----------------------------------+----------------+----------------+--------------+\n",
      "|   |          ROUTE_NAME_CITY          | AIRPORT_CODE_A | AIRPORT_CODE_B |    PROFIT    |\n",
      "+---+-----------------------------------+----------------+----------------+--------------+\n",
      "| 0 |    Honolulu, HI -> Kahului, HI    |      HNL       |      OGG       | 111941953.08 |\n",
      "| 1 |  Charlotte, NC -> Wilmington, NC  |      CLT       |      ILM       |  74030428.8  |\n",
      "| 2 | Charlotte, NC -> Myrtle Beach, SC |      CLT       |      MYR       | 68436845.96  |\n",
      "| 3 |     Honolulu, HI -> Kona, HI      |      HNL       |      KOA       | 66275183.76  |\n",
      "| 4 |     Honolulu, HI -> Lihue, HI     |      HNL       |      LIH       | 63802790.84  |\n",
      "+---+-----------------------------------+----------------+----------------+--------------+\n"
     ]
    }
   ],
   "source": [
    "# Filter for medium-large or large-medium round trip routes only\n",
    "filtered_df = df[\n",
    "    ((df['AIRPORT_A_SIZE'] == 'medium_airport') & (df['AIRPORT_B_SIZE'] == 'large_airport')) |\n",
    "    ((df['AIRPORT_A_SIZE'] == 'large_airport') & (df['AIRPORT_B_SIZE'] == 'medium_airport'))\n",
    "].copy()\n",
    "\n",
    "# Sort by PROFIT\n",
    "top_profit_routes = (\n",
    "    filtered_df[['ROUTE_NAME_CITY', 'AIRPORT_CODE_A', 'AIRPORT_CODE_B', 'PROFIT']]\n",
    "    .sort_values(by='PROFIT', ascending=False)\n",
    "    .head(5)\n",
    "    .reset_index(drop=True)\n",
    ")\n",
    "\n",
    "top_profit_routes\n",
    "print(tabulate(top_profit_routes, headers='keys', tablefmt='pretty', showindex=True))"
   ]
  },
  {
   "cell_type": "code",
   "execution_count": 10,
   "id": "aa437d41-016c-4088-a0a7-22e3b139c265",
   "metadata": {},
   "outputs": [
    {
     "data": {
      "application/vnd.plotly.v1+json": {
       "config": {
        "plotlyServerURL": "https://plot.ly"
       },
       "data": [
        {
         "alignmentgroup": "True",
         "hovertemplate": "PROFIT_MILLION=%{marker.color}<br>ROUTE_NAME_CITY=%{y}<extra></extra>",
         "legendgroup": "",
         "marker": {
          "color": [
           111.94195308,
           74.0304288,
           68.43684596,
           66.27518376,
           63.80279084
          ],
          "coloraxis": "coloraxis",
          "pattern": {
           "shape": ""
          }
         },
         "name": "",
         "offsetgroup": "",
         "orientation": "h",
         "showlegend": false,
         "text": [
          111.94195308,
          74.0304288,
          68.43684596,
          66.27518376,
          63.80279084
         ],
         "textposition": "outside",
         "texttemplate": "%{text:.1f}M",
         "type": "bar",
         "x": [
          111.94195308,
          74.0304288,
          68.43684596,
          66.27518376,
          63.80279084
         ],
         "xaxis": "x",
         "y": [
          "Honolulu, HI -> Kahului, HI",
          "Charlotte, NC -> Wilmington, NC",
          "Charlotte, NC -> Myrtle Beach, SC",
          "Honolulu, HI -> Kona, HI",
          "Honolulu, HI -> Lihue, HI"
         ],
         "yaxis": "y"
        }
       ],
       "layout": {
        "barmode": "relative",
        "coloraxis": {
         "colorbar": {
          "title": {
           "text": "PROFIT_MILLION"
          }
         },
         "colorscale": [
          [
           0,
           "#440154"
          ],
          [
           0.1111111111111111,
           "#482878"
          ],
          [
           0.2222222222222222,
           "#3e4989"
          ],
          [
           0.3333333333333333,
           "#31688e"
          ],
          [
           0.4444444444444444,
           "#26828e"
          ],
          [
           0.5555555555555556,
           "#1f9e89"
          ],
          [
           0.6666666666666666,
           "#35b779"
          ],
          [
           0.7777777777777778,
           "#6ece58"
          ],
          [
           0.8888888888888888,
           "#b5de2b"
          ],
          [
           1,
           "#fde725"
          ]
         ]
        },
        "height": 500,
        "legend": {
         "tracegroupgap": 0
        },
        "template": {
         "data": {
          "bar": [
           {
            "error_x": {
             "color": "#2a3f5f"
            },
            "error_y": {
             "color": "#2a3f5f"
            },
            "marker": {
             "line": {
              "color": "#E5ECF6",
              "width": 0.5
             },
             "pattern": {
              "fillmode": "overlay",
              "size": 10,
              "solidity": 0.2
             }
            },
            "type": "bar"
           }
          ],
          "barpolar": [
           {
            "marker": {
             "line": {
              "color": "#E5ECF6",
              "width": 0.5
             },
             "pattern": {
              "fillmode": "overlay",
              "size": 10,
              "solidity": 0.2
             }
            },
            "type": "barpolar"
           }
          ],
          "carpet": [
           {
            "aaxis": {
             "endlinecolor": "#2a3f5f",
             "gridcolor": "white",
             "linecolor": "white",
             "minorgridcolor": "white",
             "startlinecolor": "#2a3f5f"
            },
            "baxis": {
             "endlinecolor": "#2a3f5f",
             "gridcolor": "white",
             "linecolor": "white",
             "minorgridcolor": "white",
             "startlinecolor": "#2a3f5f"
            },
            "type": "carpet"
           }
          ],
          "choropleth": [
           {
            "colorbar": {
             "outlinewidth": 0,
             "ticks": ""
            },
            "type": "choropleth"
           }
          ],
          "contour": [
           {
            "colorbar": {
             "outlinewidth": 0,
             "ticks": ""
            },
            "colorscale": [
             [
              0,
              "#0d0887"
             ],
             [
              0.1111111111111111,
              "#46039f"
             ],
             [
              0.2222222222222222,
              "#7201a8"
             ],
             [
              0.3333333333333333,
              "#9c179e"
             ],
             [
              0.4444444444444444,
              "#bd3786"
             ],
             [
              0.5555555555555556,
              "#d8576b"
             ],
             [
              0.6666666666666666,
              "#ed7953"
             ],
             [
              0.7777777777777778,
              "#fb9f3a"
             ],
             [
              0.8888888888888888,
              "#fdca26"
             ],
             [
              1,
              "#f0f921"
             ]
            ],
            "type": "contour"
           }
          ],
          "contourcarpet": [
           {
            "colorbar": {
             "outlinewidth": 0,
             "ticks": ""
            },
            "type": "contourcarpet"
           }
          ],
          "heatmap": [
           {
            "colorbar": {
             "outlinewidth": 0,
             "ticks": ""
            },
            "colorscale": [
             [
              0,
              "#0d0887"
             ],
             [
              0.1111111111111111,
              "#46039f"
             ],
             [
              0.2222222222222222,
              "#7201a8"
             ],
             [
              0.3333333333333333,
              "#9c179e"
             ],
             [
              0.4444444444444444,
              "#bd3786"
             ],
             [
              0.5555555555555556,
              "#d8576b"
             ],
             [
              0.6666666666666666,
              "#ed7953"
             ],
             [
              0.7777777777777778,
              "#fb9f3a"
             ],
             [
              0.8888888888888888,
              "#fdca26"
             ],
             [
              1,
              "#f0f921"
             ]
            ],
            "type": "heatmap"
           }
          ],
          "heatmapgl": [
           {
            "colorbar": {
             "outlinewidth": 0,
             "ticks": ""
            },
            "colorscale": [
             [
              0,
              "#0d0887"
             ],
             [
              0.1111111111111111,
              "#46039f"
             ],
             [
              0.2222222222222222,
              "#7201a8"
             ],
             [
              0.3333333333333333,
              "#9c179e"
             ],
             [
              0.4444444444444444,
              "#bd3786"
             ],
             [
              0.5555555555555556,
              "#d8576b"
             ],
             [
              0.6666666666666666,
              "#ed7953"
             ],
             [
              0.7777777777777778,
              "#fb9f3a"
             ],
             [
              0.8888888888888888,
              "#fdca26"
             ],
             [
              1,
              "#f0f921"
             ]
            ],
            "type": "heatmapgl"
           }
          ],
          "histogram": [
           {
            "marker": {
             "pattern": {
              "fillmode": "overlay",
              "size": 10,
              "solidity": 0.2
             }
            },
            "type": "histogram"
           }
          ],
          "histogram2d": [
           {
            "colorbar": {
             "outlinewidth": 0,
             "ticks": ""
            },
            "colorscale": [
             [
              0,
              "#0d0887"
             ],
             [
              0.1111111111111111,
              "#46039f"
             ],
             [
              0.2222222222222222,
              "#7201a8"
             ],
             [
              0.3333333333333333,
              "#9c179e"
             ],
             [
              0.4444444444444444,
              "#bd3786"
             ],
             [
              0.5555555555555556,
              "#d8576b"
             ],
             [
              0.6666666666666666,
              "#ed7953"
             ],
             [
              0.7777777777777778,
              "#fb9f3a"
             ],
             [
              0.8888888888888888,
              "#fdca26"
             ],
             [
              1,
              "#f0f921"
             ]
            ],
            "type": "histogram2d"
           }
          ],
          "histogram2dcontour": [
           {
            "colorbar": {
             "outlinewidth": 0,
             "ticks": ""
            },
            "colorscale": [
             [
              0,
              "#0d0887"
             ],
             [
              0.1111111111111111,
              "#46039f"
             ],
             [
              0.2222222222222222,
              "#7201a8"
             ],
             [
              0.3333333333333333,
              "#9c179e"
             ],
             [
              0.4444444444444444,
              "#bd3786"
             ],
             [
              0.5555555555555556,
              "#d8576b"
             ],
             [
              0.6666666666666666,
              "#ed7953"
             ],
             [
              0.7777777777777778,
              "#fb9f3a"
             ],
             [
              0.8888888888888888,
              "#fdca26"
             ],
             [
              1,
              "#f0f921"
             ]
            ],
            "type": "histogram2dcontour"
           }
          ],
          "mesh3d": [
           {
            "colorbar": {
             "outlinewidth": 0,
             "ticks": ""
            },
            "type": "mesh3d"
           }
          ],
          "parcoords": [
           {
            "line": {
             "colorbar": {
              "outlinewidth": 0,
              "ticks": ""
             }
            },
            "type": "parcoords"
           }
          ],
          "pie": [
           {
            "automargin": true,
            "type": "pie"
           }
          ],
          "scatter": [
           {
            "fillpattern": {
             "fillmode": "overlay",
             "size": 10,
             "solidity": 0.2
            },
            "type": "scatter"
           }
          ],
          "scatter3d": [
           {
            "line": {
             "colorbar": {
              "outlinewidth": 0,
              "ticks": ""
             }
            },
            "marker": {
             "colorbar": {
              "outlinewidth": 0,
              "ticks": ""
             }
            },
            "type": "scatter3d"
           }
          ],
          "scattercarpet": [
           {
            "marker": {
             "colorbar": {
              "outlinewidth": 0,
              "ticks": ""
             }
            },
            "type": "scattercarpet"
           }
          ],
          "scattergeo": [
           {
            "marker": {
             "colorbar": {
              "outlinewidth": 0,
              "ticks": ""
             }
            },
            "type": "scattergeo"
           }
          ],
          "scattergl": [
           {
            "marker": {
             "colorbar": {
              "outlinewidth": 0,
              "ticks": ""
             }
            },
            "type": "scattergl"
           }
          ],
          "scattermapbox": [
           {
            "marker": {
             "colorbar": {
              "outlinewidth": 0,
              "ticks": ""
             }
            },
            "type": "scattermapbox"
           }
          ],
          "scatterpolar": [
           {
            "marker": {
             "colorbar": {
              "outlinewidth": 0,
              "ticks": ""
             }
            },
            "type": "scatterpolar"
           }
          ],
          "scatterpolargl": [
           {
            "marker": {
             "colorbar": {
              "outlinewidth": 0,
              "ticks": ""
             }
            },
            "type": "scatterpolargl"
           }
          ],
          "scatterternary": [
           {
            "marker": {
             "colorbar": {
              "outlinewidth": 0,
              "ticks": ""
             }
            },
            "type": "scatterternary"
           }
          ],
          "surface": [
           {
            "colorbar": {
             "outlinewidth": 0,
             "ticks": ""
            },
            "colorscale": [
             [
              0,
              "#0d0887"
             ],
             [
              0.1111111111111111,
              "#46039f"
             ],
             [
              0.2222222222222222,
              "#7201a8"
             ],
             [
              0.3333333333333333,
              "#9c179e"
             ],
             [
              0.4444444444444444,
              "#bd3786"
             ],
             [
              0.5555555555555556,
              "#d8576b"
             ],
             [
              0.6666666666666666,
              "#ed7953"
             ],
             [
              0.7777777777777778,
              "#fb9f3a"
             ],
             [
              0.8888888888888888,
              "#fdca26"
             ],
             [
              1,
              "#f0f921"
             ]
            ],
            "type": "surface"
           }
          ],
          "table": [
           {
            "cells": {
             "fill": {
              "color": "#EBF0F8"
             },
             "line": {
              "color": "white"
             }
            },
            "header": {
             "fill": {
              "color": "#C8D4E3"
             },
             "line": {
              "color": "white"
             }
            },
            "type": "table"
           }
          ]
         },
         "layout": {
          "annotationdefaults": {
           "arrowcolor": "#2a3f5f",
           "arrowhead": 0,
           "arrowwidth": 1
          },
          "autotypenumbers": "strict",
          "coloraxis": {
           "colorbar": {
            "outlinewidth": 0,
            "ticks": ""
           }
          },
          "colorscale": {
           "diverging": [
            [
             0,
             "#8e0152"
            ],
            [
             0.1,
             "#c51b7d"
            ],
            [
             0.2,
             "#de77ae"
            ],
            [
             0.3,
             "#f1b6da"
            ],
            [
             0.4,
             "#fde0ef"
            ],
            [
             0.5,
             "#f7f7f7"
            ],
            [
             0.6,
             "#e6f5d0"
            ],
            [
             0.7,
             "#b8e186"
            ],
            [
             0.8,
             "#7fbc41"
            ],
            [
             0.9,
             "#4d9221"
            ],
            [
             1,
             "#276419"
            ]
           ],
           "sequential": [
            [
             0,
             "#0d0887"
            ],
            [
             0.1111111111111111,
             "#46039f"
            ],
            [
             0.2222222222222222,
             "#7201a8"
            ],
            [
             0.3333333333333333,
             "#9c179e"
            ],
            [
             0.4444444444444444,
             "#bd3786"
            ],
            [
             0.5555555555555556,
             "#d8576b"
            ],
            [
             0.6666666666666666,
             "#ed7953"
            ],
            [
             0.7777777777777778,
             "#fb9f3a"
            ],
            [
             0.8888888888888888,
             "#fdca26"
            ],
            [
             1,
             "#f0f921"
            ]
           ],
           "sequentialminus": [
            [
             0,
             "#0d0887"
            ],
            [
             0.1111111111111111,
             "#46039f"
            ],
            [
             0.2222222222222222,
             "#7201a8"
            ],
            [
             0.3333333333333333,
             "#9c179e"
            ],
            [
             0.4444444444444444,
             "#bd3786"
            ],
            [
             0.5555555555555556,
             "#d8576b"
            ],
            [
             0.6666666666666666,
             "#ed7953"
            ],
            [
             0.7777777777777778,
             "#fb9f3a"
            ],
            [
             0.8888888888888888,
             "#fdca26"
            ],
            [
             1,
             "#f0f921"
            ]
           ]
          },
          "colorway": [
           "#636efa",
           "#EF553B",
           "#00cc96",
           "#ab63fa",
           "#FFA15A",
           "#19d3f3",
           "#FF6692",
           "#B6E880",
           "#FF97FF",
           "#FECB52"
          ],
          "font": {
           "color": "#2a3f5f"
          },
          "geo": {
           "bgcolor": "white",
           "lakecolor": "white",
           "landcolor": "#E5ECF6",
           "showlakes": true,
           "showland": true,
           "subunitcolor": "white"
          },
          "hoverlabel": {
           "align": "left"
          },
          "hovermode": "closest",
          "mapbox": {
           "style": "light"
          },
          "paper_bgcolor": "white",
          "plot_bgcolor": "#E5ECF6",
          "polar": {
           "angularaxis": {
            "gridcolor": "white",
            "linecolor": "white",
            "ticks": ""
           },
           "bgcolor": "#E5ECF6",
           "radialaxis": {
            "gridcolor": "white",
            "linecolor": "white",
            "ticks": ""
           }
          },
          "scene": {
           "xaxis": {
            "backgroundcolor": "#E5ECF6",
            "gridcolor": "white",
            "gridwidth": 2,
            "linecolor": "white",
            "showbackground": true,
            "ticks": "",
            "zerolinecolor": "white"
           },
           "yaxis": {
            "backgroundcolor": "#E5ECF6",
            "gridcolor": "white",
            "gridwidth": 2,
            "linecolor": "white",
            "showbackground": true,
            "ticks": "",
            "zerolinecolor": "white"
           },
           "zaxis": {
            "backgroundcolor": "#E5ECF6",
            "gridcolor": "white",
            "gridwidth": 2,
            "linecolor": "white",
            "showbackground": true,
            "ticks": "",
            "zerolinecolor": "white"
           }
          },
          "shapedefaults": {
           "line": {
            "color": "#2a3f5f"
           }
          },
          "ternary": {
           "aaxis": {
            "gridcolor": "white",
            "linecolor": "white",
            "ticks": ""
           },
           "baxis": {
            "gridcolor": "white",
            "linecolor": "white",
            "ticks": ""
           },
           "bgcolor": "#E5ECF6",
           "caxis": {
            "gridcolor": "white",
            "linecolor": "white",
            "ticks": ""
           }
          },
          "title": {
           "x": 0.05
          },
          "xaxis": {
           "automargin": true,
           "gridcolor": "white",
           "linecolor": "white",
           "ticks": "",
           "title": {
            "standoff": 15
           },
           "zerolinecolor": "white",
           "zerolinewidth": 2
          },
          "yaxis": {
           "automargin": true,
           "gridcolor": "white",
           "linecolor": "white",
           "ticks": "",
           "title": {
            "standoff": 15
           },
           "zerolinecolor": "white",
           "zerolinewidth": 2
          }
         }
        },
        "title": {
         "text": "Top 5 Recommended Routes by Profit ($M)"
        },
        "xaxis": {
         "anchor": "y",
         "domain": [
          0,
          1
         ],
         "title": {
          "text": "Profit ($ Millions)"
         }
        },
        "yaxis": {
         "anchor": "x",
         "autorange": "reversed",
         "domain": [
          0,
          1
         ],
         "title": {
          "text": "ROUTE_NAME_CITY"
         }
        }
       }
      }
     },
     "metadata": {},
     "output_type": "display_data"
    }
   ],
   "source": [
    "import plotly.express as px\n",
    "\n",
    "top_profit_routes['PROFIT_MILLION'] = top_profit_routes['PROFIT'] / 1e6\n",
    "\n",
    "fig = px.bar(\n",
    "    top_profit_routes,\n",
    "    x='PROFIT_MILLION',\n",
    "    y='ROUTE_NAME_CITY',\n",
    "    orientation='h',\n",
    "    color='PROFIT_MILLION',\n",
    "    color_continuous_scale='Viridis',\n",
    "    text='PROFIT_MILLION',\n",
    "    title='Top 5 Recommended Routes by Profit ($M)'\n",
    ")\n",
    "\n",
    "fig.update_layout(\n",
    "    xaxis_title='Profit ($ Millions)',\n",
    "    yaxis=dict(autorange='reversed'),\n",
    "    height=500\n",
    ")\n",
    "\n",
    "fig.update_traces(texttemplate='%{text:.1f}M', textposition='outside')\n",
    "fig.show()\n"
   ]
  },
  {
   "cell_type": "markdown",
   "id": "a15fb6c3-eb0e-4be0-a43f-39dea12810af",
   "metadata": {},
   "source": [
    "Key Profit-Driven Insights:\n",
    "1. Honolulu, HI → Kahului, HI tops the list with an exceptional profit of ~$112M — this is a strong recurring trend across charts and checks the box on profitability and intra-island demand.\n",
    "\n",
    "2. CLT (Charlotte, NC) appears twice — routes to Wilmington, NC and Myrtle Beach, SC — solidifying it as a strong hub.\n",
    "\n",
    "3. All 5 routes have consistently high profit margins, showing that their cost structures are under control and demand is monetized well.\n",
    "\n",
    "4. 3 of 5 routes originate from Honolulu (HNL) – making it a very strong operational hub candidate (logistically viable if airline is okay basing planes in Hawaii)."
   ]
  },
  {
   "cell_type": "code",
   "execution_count": 11,
   "id": "6dcca515-bdbc-437e-bace-6afb625f31a8",
   "metadata": {},
   "outputs": [
    {
     "data": {
      "text/html": [
       "<div>\n",
       "<style scoped>\n",
       "    .dataframe tbody tr th:only-of-type {\n",
       "        vertical-align: middle;\n",
       "    }\n",
       "\n",
       "    .dataframe tbody tr th {\n",
       "        vertical-align: top;\n",
       "    }\n",
       "\n",
       "    .dataframe thead th {\n",
       "        text-align: right;\n",
       "    }\n",
       "</style>\n",
       "<table border=\"1\" class=\"dataframe\">\n",
       "  <thead>\n",
       "    <tr style=\"text-align: right;\">\n",
       "      <th></th>\n",
       "      <th>ROUTE_NAME_CITY</th>\n",
       "      <th>AIRPORT_CODE_A</th>\n",
       "      <th>AIRPORT_CODE_B</th>\n",
       "      <th>ESTIMATED_PASSENGERS</th>\n",
       "    </tr>\n",
       "  </thead>\n",
       "  <tbody>\n",
       "    <tr>\n",
       "      <th>3437</th>\n",
       "      <td>Honolulu, HI -&gt; Kahului, HI</td>\n",
       "      <td>HNL</td>\n",
       "      <td>OGG</td>\n",
       "      <td>620949.512812</td>\n",
       "    </tr>\n",
       "    <tr>\n",
       "      <th>3432</th>\n",
       "      <td>Honolulu, HI -&gt; Lihue, HI</td>\n",
       "      <td>HNL</td>\n",
       "      <td>LIH</td>\n",
       "      <td>410823.475996</td>\n",
       "    </tr>\n",
       "    <tr>\n",
       "      <th>3423</th>\n",
       "      <td>Honolulu, HI -&gt; Kona, HI</td>\n",
       "      <td>HNL</td>\n",
       "      <td>KOA</td>\n",
       "      <td>391008.000000</td>\n",
       "    </tr>\n",
       "    <tr>\n",
       "      <th>3420</th>\n",
       "      <td>Hilo, HI -&gt; Honolulu, HI</td>\n",
       "      <td>HNL</td>\n",
       "      <td>ITO</td>\n",
       "      <td>302903.959599</td>\n",
       "    </tr>\n",
       "    <tr>\n",
       "      <th>1199</th>\n",
       "      <td>Burbank, CA -&gt; Oakland, CA</td>\n",
       "      <td>BUR</td>\n",
       "      <td>OAK</td>\n",
       "      <td>242825.630559</td>\n",
       "    </tr>\n",
       "  </tbody>\n",
       "</table>\n",
       "</div>"
      ],
      "text/plain": [
       "                  ROUTE_NAME_CITY AIRPORT_CODE_A AIRPORT_CODE_B  \\\n",
       "3437  Honolulu, HI -> Kahului, HI            HNL            OGG   \n",
       "3432    Honolulu, HI -> Lihue, HI            HNL            LIH   \n",
       "3423     Honolulu, HI -> Kona, HI            HNL            KOA   \n",
       "3420     Hilo, HI -> Honolulu, HI            HNL            ITO   \n",
       "1199   Burbank, CA -> Oakland, CA            BUR            OAK   \n",
       "\n",
       "      ESTIMATED_PASSENGERS  \n",
       "3437         620949.512812  \n",
       "3432         410823.475996  \n",
       "3423         391008.000000  \n",
       "3420         302903.959599  \n",
       "1199         242825.630559  "
      ]
     },
     "execution_count": 11,
     "metadata": {},
     "output_type": "execute_result"
    }
   ],
   "source": [
    "# Filter to only medium ↔ large airport combinations\n",
    "filtered_df = df[\n",
    "    ((df['AIRPORT_A_SIZE'] == 'medium_airport') & (df['AIRPORT_B_SIZE'] == 'large_airport')) |\n",
    "    ((df['AIRPORT_A_SIZE'] == 'large_airport') & (df['AIRPORT_B_SIZE'] == 'medium_airport'))\n",
    "]\n",
    "\n",
    "# Top 10 by estimated passengers\n",
    "top_demand_routes = filtered_df.sort_values(by='ESTIMATED_PASSENGERS', ascending=False).head(5)\n",
    "\n",
    "# Display table\n",
    "top_demand_routes[['ROUTE_NAME_CITY', 'AIRPORT_CODE_A', 'AIRPORT_CODE_B', 'ESTIMATED_PASSENGERS']]"
   ]
  },
  {
   "cell_type": "code",
   "execution_count": 12,
   "id": "6ff7e97e-8962-4ba9-8aef-62d0516fa8e5",
   "metadata": {},
   "outputs": [
    {
     "data": {
      "application/vnd.plotly.v1+json": {
       "config": {
        "plotlyServerURL": "https://plot.ly"
       },
       "data": [
        {
         "alignmentgroup": "True",
         "hovertemplate": "ESTIMATED_PASSENGERS=%{marker.color}<br>ROUTE_NAME_CITY=%{y}<extra></extra>",
         "insidetextanchor": "end",
         "legendgroup": "",
         "marker": {
          "color": [
           620949.5128123149,
           410823.4759960353,
           391008,
           302903.9595987512,
           242825.6305590208
          ],
          "coloraxis": "coloraxis",
          "pattern": {
           "shape": ""
          }
         },
         "name": "",
         "offsetgroup": "",
         "orientation": "h",
         "showlegend": false,
         "text": [
          620949.5128123149,
          410823.4759960353,
          391008,
          302903.9595987512,
          242825.6305590208
         ],
         "textposition": "inside",
         "texttemplate": "%{text:,.0f}",
         "type": "bar",
         "x": [
          620949.5128123149,
          410823.4759960353,
          391008,
          302903.9595987512,
          242825.6305590208
         ],
         "xaxis": "x",
         "y": [
          "Honolulu, HI -> Kahului, HI",
          "Honolulu, HI -> Lihue, HI",
          "Honolulu, HI -> Kona, HI",
          "Hilo, HI -> Honolulu, HI",
          "Burbank, CA -> Oakland, CA"
         ],
         "yaxis": "y"
        }
       ],
       "layout": {
        "barmode": "relative",
        "coloraxis": {
         "colorbar": {
          "title": {
           "text": "ESTIMATED_PASSENGERS"
          }
         },
         "colorscale": [
          [
           0,
           "rgb(247,251,255)"
          ],
          [
           0.125,
           "rgb(222,235,247)"
          ],
          [
           0.25,
           "rgb(198,219,239)"
          ],
          [
           0.375,
           "rgb(158,202,225)"
          ],
          [
           0.5,
           "rgb(107,174,214)"
          ],
          [
           0.625,
           "rgb(66,146,198)"
          ],
          [
           0.75,
           "rgb(33,113,181)"
          ],
          [
           0.875,
           "rgb(8,81,156)"
          ],
          [
           1,
           "rgb(8,48,107)"
          ]
         ]
        },
        "height": 500,
        "legend": {
         "tracegroupgap": 0
        },
        "margin": {
         "r": 120
        },
        "template": {
         "data": {
          "bar": [
           {
            "error_x": {
             "color": "#2a3f5f"
            },
            "error_y": {
             "color": "#2a3f5f"
            },
            "marker": {
             "line": {
              "color": "#E5ECF6",
              "width": 0.5
             },
             "pattern": {
              "fillmode": "overlay",
              "size": 10,
              "solidity": 0.2
             }
            },
            "type": "bar"
           }
          ],
          "barpolar": [
           {
            "marker": {
             "line": {
              "color": "#E5ECF6",
              "width": 0.5
             },
             "pattern": {
              "fillmode": "overlay",
              "size": 10,
              "solidity": 0.2
             }
            },
            "type": "barpolar"
           }
          ],
          "carpet": [
           {
            "aaxis": {
             "endlinecolor": "#2a3f5f",
             "gridcolor": "white",
             "linecolor": "white",
             "minorgridcolor": "white",
             "startlinecolor": "#2a3f5f"
            },
            "baxis": {
             "endlinecolor": "#2a3f5f",
             "gridcolor": "white",
             "linecolor": "white",
             "minorgridcolor": "white",
             "startlinecolor": "#2a3f5f"
            },
            "type": "carpet"
           }
          ],
          "choropleth": [
           {
            "colorbar": {
             "outlinewidth": 0,
             "ticks": ""
            },
            "type": "choropleth"
           }
          ],
          "contour": [
           {
            "colorbar": {
             "outlinewidth": 0,
             "ticks": ""
            },
            "colorscale": [
             [
              0,
              "#0d0887"
             ],
             [
              0.1111111111111111,
              "#46039f"
             ],
             [
              0.2222222222222222,
              "#7201a8"
             ],
             [
              0.3333333333333333,
              "#9c179e"
             ],
             [
              0.4444444444444444,
              "#bd3786"
             ],
             [
              0.5555555555555556,
              "#d8576b"
             ],
             [
              0.6666666666666666,
              "#ed7953"
             ],
             [
              0.7777777777777778,
              "#fb9f3a"
             ],
             [
              0.8888888888888888,
              "#fdca26"
             ],
             [
              1,
              "#f0f921"
             ]
            ],
            "type": "contour"
           }
          ],
          "contourcarpet": [
           {
            "colorbar": {
             "outlinewidth": 0,
             "ticks": ""
            },
            "type": "contourcarpet"
           }
          ],
          "heatmap": [
           {
            "colorbar": {
             "outlinewidth": 0,
             "ticks": ""
            },
            "colorscale": [
             [
              0,
              "#0d0887"
             ],
             [
              0.1111111111111111,
              "#46039f"
             ],
             [
              0.2222222222222222,
              "#7201a8"
             ],
             [
              0.3333333333333333,
              "#9c179e"
             ],
             [
              0.4444444444444444,
              "#bd3786"
             ],
             [
              0.5555555555555556,
              "#d8576b"
             ],
             [
              0.6666666666666666,
              "#ed7953"
             ],
             [
              0.7777777777777778,
              "#fb9f3a"
             ],
             [
              0.8888888888888888,
              "#fdca26"
             ],
             [
              1,
              "#f0f921"
             ]
            ],
            "type": "heatmap"
           }
          ],
          "heatmapgl": [
           {
            "colorbar": {
             "outlinewidth": 0,
             "ticks": ""
            },
            "colorscale": [
             [
              0,
              "#0d0887"
             ],
             [
              0.1111111111111111,
              "#46039f"
             ],
             [
              0.2222222222222222,
              "#7201a8"
             ],
             [
              0.3333333333333333,
              "#9c179e"
             ],
             [
              0.4444444444444444,
              "#bd3786"
             ],
             [
              0.5555555555555556,
              "#d8576b"
             ],
             [
              0.6666666666666666,
              "#ed7953"
             ],
             [
              0.7777777777777778,
              "#fb9f3a"
             ],
             [
              0.8888888888888888,
              "#fdca26"
             ],
             [
              1,
              "#f0f921"
             ]
            ],
            "type": "heatmapgl"
           }
          ],
          "histogram": [
           {
            "marker": {
             "pattern": {
              "fillmode": "overlay",
              "size": 10,
              "solidity": 0.2
             }
            },
            "type": "histogram"
           }
          ],
          "histogram2d": [
           {
            "colorbar": {
             "outlinewidth": 0,
             "ticks": ""
            },
            "colorscale": [
             [
              0,
              "#0d0887"
             ],
             [
              0.1111111111111111,
              "#46039f"
             ],
             [
              0.2222222222222222,
              "#7201a8"
             ],
             [
              0.3333333333333333,
              "#9c179e"
             ],
             [
              0.4444444444444444,
              "#bd3786"
             ],
             [
              0.5555555555555556,
              "#d8576b"
             ],
             [
              0.6666666666666666,
              "#ed7953"
             ],
             [
              0.7777777777777778,
              "#fb9f3a"
             ],
             [
              0.8888888888888888,
              "#fdca26"
             ],
             [
              1,
              "#f0f921"
             ]
            ],
            "type": "histogram2d"
           }
          ],
          "histogram2dcontour": [
           {
            "colorbar": {
             "outlinewidth": 0,
             "ticks": ""
            },
            "colorscale": [
             [
              0,
              "#0d0887"
             ],
             [
              0.1111111111111111,
              "#46039f"
             ],
             [
              0.2222222222222222,
              "#7201a8"
             ],
             [
              0.3333333333333333,
              "#9c179e"
             ],
             [
              0.4444444444444444,
              "#bd3786"
             ],
             [
              0.5555555555555556,
              "#d8576b"
             ],
             [
              0.6666666666666666,
              "#ed7953"
             ],
             [
              0.7777777777777778,
              "#fb9f3a"
             ],
             [
              0.8888888888888888,
              "#fdca26"
             ],
             [
              1,
              "#f0f921"
             ]
            ],
            "type": "histogram2dcontour"
           }
          ],
          "mesh3d": [
           {
            "colorbar": {
             "outlinewidth": 0,
             "ticks": ""
            },
            "type": "mesh3d"
           }
          ],
          "parcoords": [
           {
            "line": {
             "colorbar": {
              "outlinewidth": 0,
              "ticks": ""
             }
            },
            "type": "parcoords"
           }
          ],
          "pie": [
           {
            "automargin": true,
            "type": "pie"
           }
          ],
          "scatter": [
           {
            "fillpattern": {
             "fillmode": "overlay",
             "size": 10,
             "solidity": 0.2
            },
            "type": "scatter"
           }
          ],
          "scatter3d": [
           {
            "line": {
             "colorbar": {
              "outlinewidth": 0,
              "ticks": ""
             }
            },
            "marker": {
             "colorbar": {
              "outlinewidth": 0,
              "ticks": ""
             }
            },
            "type": "scatter3d"
           }
          ],
          "scattercarpet": [
           {
            "marker": {
             "colorbar": {
              "outlinewidth": 0,
              "ticks": ""
             }
            },
            "type": "scattercarpet"
           }
          ],
          "scattergeo": [
           {
            "marker": {
             "colorbar": {
              "outlinewidth": 0,
              "ticks": ""
             }
            },
            "type": "scattergeo"
           }
          ],
          "scattergl": [
           {
            "marker": {
             "colorbar": {
              "outlinewidth": 0,
              "ticks": ""
             }
            },
            "type": "scattergl"
           }
          ],
          "scattermapbox": [
           {
            "marker": {
             "colorbar": {
              "outlinewidth": 0,
              "ticks": ""
             }
            },
            "type": "scattermapbox"
           }
          ],
          "scatterpolar": [
           {
            "marker": {
             "colorbar": {
              "outlinewidth": 0,
              "ticks": ""
             }
            },
            "type": "scatterpolar"
           }
          ],
          "scatterpolargl": [
           {
            "marker": {
             "colorbar": {
              "outlinewidth": 0,
              "ticks": ""
             }
            },
            "type": "scatterpolargl"
           }
          ],
          "scatterternary": [
           {
            "marker": {
             "colorbar": {
              "outlinewidth": 0,
              "ticks": ""
             }
            },
            "type": "scatterternary"
           }
          ],
          "surface": [
           {
            "colorbar": {
             "outlinewidth": 0,
             "ticks": ""
            },
            "colorscale": [
             [
              0,
              "#0d0887"
             ],
             [
              0.1111111111111111,
              "#46039f"
             ],
             [
              0.2222222222222222,
              "#7201a8"
             ],
             [
              0.3333333333333333,
              "#9c179e"
             ],
             [
              0.4444444444444444,
              "#bd3786"
             ],
             [
              0.5555555555555556,
              "#d8576b"
             ],
             [
              0.6666666666666666,
              "#ed7953"
             ],
             [
              0.7777777777777778,
              "#fb9f3a"
             ],
             [
              0.8888888888888888,
              "#fdca26"
             ],
             [
              1,
              "#f0f921"
             ]
            ],
            "type": "surface"
           }
          ],
          "table": [
           {
            "cells": {
             "fill": {
              "color": "#EBF0F8"
             },
             "line": {
              "color": "white"
             }
            },
            "header": {
             "fill": {
              "color": "#C8D4E3"
             },
             "line": {
              "color": "white"
             }
            },
            "type": "table"
           }
          ]
         },
         "layout": {
          "annotationdefaults": {
           "arrowcolor": "#2a3f5f",
           "arrowhead": 0,
           "arrowwidth": 1
          },
          "autotypenumbers": "strict",
          "coloraxis": {
           "colorbar": {
            "outlinewidth": 0,
            "ticks": ""
           }
          },
          "colorscale": {
           "diverging": [
            [
             0,
             "#8e0152"
            ],
            [
             0.1,
             "#c51b7d"
            ],
            [
             0.2,
             "#de77ae"
            ],
            [
             0.3,
             "#f1b6da"
            ],
            [
             0.4,
             "#fde0ef"
            ],
            [
             0.5,
             "#f7f7f7"
            ],
            [
             0.6,
             "#e6f5d0"
            ],
            [
             0.7,
             "#b8e186"
            ],
            [
             0.8,
             "#7fbc41"
            ],
            [
             0.9,
             "#4d9221"
            ],
            [
             1,
             "#276419"
            ]
           ],
           "sequential": [
            [
             0,
             "#0d0887"
            ],
            [
             0.1111111111111111,
             "#46039f"
            ],
            [
             0.2222222222222222,
             "#7201a8"
            ],
            [
             0.3333333333333333,
             "#9c179e"
            ],
            [
             0.4444444444444444,
             "#bd3786"
            ],
            [
             0.5555555555555556,
             "#d8576b"
            ],
            [
             0.6666666666666666,
             "#ed7953"
            ],
            [
             0.7777777777777778,
             "#fb9f3a"
            ],
            [
             0.8888888888888888,
             "#fdca26"
            ],
            [
             1,
             "#f0f921"
            ]
           ],
           "sequentialminus": [
            [
             0,
             "#0d0887"
            ],
            [
             0.1111111111111111,
             "#46039f"
            ],
            [
             0.2222222222222222,
             "#7201a8"
            ],
            [
             0.3333333333333333,
             "#9c179e"
            ],
            [
             0.4444444444444444,
             "#bd3786"
            ],
            [
             0.5555555555555556,
             "#d8576b"
            ],
            [
             0.6666666666666666,
             "#ed7953"
            ],
            [
             0.7777777777777778,
             "#fb9f3a"
            ],
            [
             0.8888888888888888,
             "#fdca26"
            ],
            [
             1,
             "#f0f921"
            ]
           ]
          },
          "colorway": [
           "#636efa",
           "#EF553B",
           "#00cc96",
           "#ab63fa",
           "#FFA15A",
           "#19d3f3",
           "#FF6692",
           "#B6E880",
           "#FF97FF",
           "#FECB52"
          ],
          "font": {
           "color": "#2a3f5f"
          },
          "geo": {
           "bgcolor": "white",
           "lakecolor": "white",
           "landcolor": "#E5ECF6",
           "showlakes": true,
           "showland": true,
           "subunitcolor": "white"
          },
          "hoverlabel": {
           "align": "left"
          },
          "hovermode": "closest",
          "mapbox": {
           "style": "light"
          },
          "paper_bgcolor": "white",
          "plot_bgcolor": "#E5ECF6",
          "polar": {
           "angularaxis": {
            "gridcolor": "white",
            "linecolor": "white",
            "ticks": ""
           },
           "bgcolor": "#E5ECF6",
           "radialaxis": {
            "gridcolor": "white",
            "linecolor": "white",
            "ticks": ""
           }
          },
          "scene": {
           "xaxis": {
            "backgroundcolor": "#E5ECF6",
            "gridcolor": "white",
            "gridwidth": 2,
            "linecolor": "white",
            "showbackground": true,
            "ticks": "",
            "zerolinecolor": "white"
           },
           "yaxis": {
            "backgroundcolor": "#E5ECF6",
            "gridcolor": "white",
            "gridwidth": 2,
            "linecolor": "white",
            "showbackground": true,
            "ticks": "",
            "zerolinecolor": "white"
           },
           "zaxis": {
            "backgroundcolor": "#E5ECF6",
            "gridcolor": "white",
            "gridwidth": 2,
            "linecolor": "white",
            "showbackground": true,
            "ticks": "",
            "zerolinecolor": "white"
           }
          },
          "shapedefaults": {
           "line": {
            "color": "#2a3f5f"
           }
          },
          "ternary": {
           "aaxis": {
            "gridcolor": "white",
            "linecolor": "white",
            "ticks": ""
           },
           "baxis": {
            "gridcolor": "white",
            "linecolor": "white",
            "ticks": ""
           },
           "bgcolor": "#E5ECF6",
           "caxis": {
            "gridcolor": "white",
            "linecolor": "white",
            "ticks": ""
           }
          },
          "title": {
           "x": 0.05
          },
          "xaxis": {
           "automargin": true,
           "gridcolor": "white",
           "linecolor": "white",
           "ticks": "",
           "title": {
            "standoff": 15
           },
           "zerolinecolor": "white",
           "zerolinewidth": 2
          },
          "yaxis": {
           "automargin": true,
           "gridcolor": "white",
           "linecolor": "white",
           "ticks": "",
           "title": {
            "standoff": 15
           },
           "zerolinecolor": "white",
           "zerolinewidth": 2
          }
         }
        },
        "title": {
         "text": "Top 5 Routes by Estimated Passengers"
        },
        "xaxis": {
         "anchor": "y",
         "domain": [
          0,
          1
         ],
         "title": {
          "text": "Estimated Passengers"
         }
        },
        "yaxis": {
         "anchor": "x",
         "autorange": "reversed",
         "domain": [
          0,
          1
         ],
         "title": {
          "text": "Route"
         }
        }
       }
      }
     },
     "metadata": {},
     "output_type": "display_data"
    }
   ],
   "source": [
    "fig = px.bar(\n",
    "    top_demand_routes,\n",
    "    x='ESTIMATED_PASSENGERS',\n",
    "    y='ROUTE_NAME_CITY',\n",
    "    orientation='h',\n",
    "    color='ESTIMATED_PASSENGERS',\n",
    "    text='ESTIMATED_PASSENGERS',\n",
    "    color_continuous_scale='Blues',\n",
    "    title='Top 5 Routes by Estimated Passengers'\n",
    ")\n",
    "\n",
    "fig.update_layout(\n",
    "    xaxis_title='Estimated Passengers',\n",
    "    yaxis_title='Route',\n",
    "    yaxis=dict(autorange='reversed'),\n",
    "    margin=dict(r=120),  # <-- Increased right margin\n",
    "    height=500\n",
    ")\n",
    "\n",
    "fig.update_traces(\n",
    "    texttemplate='%{text:,.0f}',\n",
    "    textposition='inside',  # <-- Shift inside to avoid cutoff\n",
    "    insidetextanchor='end'  # Align text to bar end\n",
    ")\n",
    "\n",
    "fig.show()\n"
   ]
  },
  {
   "cell_type": "markdown",
   "id": "5cfe9f7d-b11f-4fdc-84e2-2763336b6b7f",
   "metadata": {},
   "source": [
    "These are the top 5 medium-large round trip routes by estimated passenger volume:\n",
    "\n",
    "All 5 routes have high demand, especially the Honolulu to Kahului route crossing 620k passengers.\n",
    "\n",
    "Honolulu (HNL) dominates — acting as a strong hub in all top 4.\n",
    "\n",
    "California (BUR-OAK) makes the list, highlighting strong regional demand on the West Coast.\n",
    "\n"
   ]
  },
  {
   "cell_type": "code",
   "execution_count": 13,
   "id": "971dd43e-3547-4953-9b22-d3110122f33f",
   "metadata": {},
   "outputs": [
    {
     "data": {
      "text/html": [
       "<div>\n",
       "<style scoped>\n",
       "    .dataframe tbody tr th:only-of-type {\n",
       "        vertical-align: middle;\n",
       "    }\n",
       "\n",
       "    .dataframe tbody tr th {\n",
       "        vertical-align: top;\n",
       "    }\n",
       "\n",
       "    .dataframe thead th {\n",
       "        text-align: right;\n",
       "    }\n",
       "</style>\n",
       "<table border=\"1\" class=\"dataframe\">\n",
       "  <thead>\n",
       "    <tr style=\"text-align: right;\">\n",
       "      <th></th>\n",
       "      <th>ROUTE_NAME_CITY</th>\n",
       "      <th>AIRPORT_CODE_A</th>\n",
       "      <th>AIRPORT_CODE_B</th>\n",
       "      <th>AVG_DEP_DELAY_MINUTES</th>\n",
       "      <th>AVG_ARR_DELAY_MINUTES</th>\n",
       "      <th>AVG_TOTAL_DELAY</th>\n",
       "    </tr>\n",
       "  </thead>\n",
       "  <tbody>\n",
       "    <tr>\n",
       "      <th>2391</th>\n",
       "      <td>Denver, CO -&gt; Santa Barbara, CA</td>\n",
       "      <td>DEN</td>\n",
       "      <td>SBA</td>\n",
       "      <td>-5.000000</td>\n",
       "      <td>-24.000000</td>\n",
       "      <td>-29.000000</td>\n",
       "    </tr>\n",
       "    <tr>\n",
       "      <th>2198</th>\n",
       "      <td>Denver, CO -&gt; Harlingen/San Benito, TX</td>\n",
       "      <td>DEN</td>\n",
       "      <td>HRL</td>\n",
       "      <td>-6.177419</td>\n",
       "      <td>-21.983871</td>\n",
       "      <td>-28.161290</td>\n",
       "    </tr>\n",
       "    <tr>\n",
       "      <th>103</th>\n",
       "      <td>Albany, NY -&gt; Minneapolis, MN</td>\n",
       "      <td>ALB</td>\n",
       "      <td>MSP</td>\n",
       "      <td>-5.500000</td>\n",
       "      <td>-19.750000</td>\n",
       "      <td>-25.250000</td>\n",
       "    </tr>\n",
       "    <tr>\n",
       "      <th>775</th>\n",
       "      <td>Bismarck/Mandan, ND -&gt; Minneapolis, MN</td>\n",
       "      <td>BIS</td>\n",
       "      <td>MSP</td>\n",
       "      <td>-4.511905</td>\n",
       "      <td>-20.047619</td>\n",
       "      <td>-24.559524</td>\n",
       "    </tr>\n",
       "    <tr>\n",
       "      <th>1507</th>\n",
       "      <td>Cleveland, OH -&gt; St. Petersburg, FL</td>\n",
       "      <td>CLE</td>\n",
       "      <td>PIE</td>\n",
       "      <td>-9.937500</td>\n",
       "      <td>-14.562500</td>\n",
       "      <td>-24.500000</td>\n",
       "    </tr>\n",
       "  </tbody>\n",
       "</table>\n",
       "</div>"
      ],
      "text/plain": [
       "                             ROUTE_NAME_CITY AIRPORT_CODE_A AIRPORT_CODE_B  \\\n",
       "2391         Denver, CO -> Santa Barbara, CA            DEN            SBA   \n",
       "2198  Denver, CO -> Harlingen/San Benito, TX            DEN            HRL   \n",
       "103            Albany, NY -> Minneapolis, MN            ALB            MSP   \n",
       "775   Bismarck/Mandan, ND -> Minneapolis, MN            BIS            MSP   \n",
       "1507     Cleveland, OH -> St. Petersburg, FL            CLE            PIE   \n",
       "\n",
       "      AVG_DEP_DELAY_MINUTES  AVG_ARR_DELAY_MINUTES  AVG_TOTAL_DELAY  \n",
       "2391              -5.000000             -24.000000       -29.000000  \n",
       "2198              -6.177419             -21.983871       -28.161290  \n",
       "103               -5.500000             -19.750000       -25.250000  \n",
       "775               -4.511905             -20.047619       -24.559524  \n",
       "1507              -9.937500             -14.562500       -24.500000  "
      ]
     },
     "execution_count": 13,
     "metadata": {},
     "output_type": "execute_result"
    }
   ],
   "source": [
    "# Calculate total average delay\n",
    "df['AVG_TOTAL_DELAY'] = df['AVG_DEP_DELAY_MINUTES'] + df['AVG_ARR_DELAY_MINUTES']\n",
    "\n",
    "# Filter for only medium ↔ large routes\n",
    "filtered_df = df[\n",
    "    ((df['AIRPORT_A_SIZE'] == 'medium_airport') & (df['AIRPORT_B_SIZE'] == 'large_airport')) |\n",
    "    ((df['AIRPORT_A_SIZE'] == 'large_airport') & (df['AIRPORT_B_SIZE'] == 'medium_airport'))\n",
    "]\n",
    "\n",
    "# Sort by lowest total delay (most punctual) and show top 5\n",
    "top_punctual = filtered_df.sort_values(by='AVG_TOTAL_DELAY').head(5)\n",
    "\n",
    "# Display selected columns\n",
    "top_punctual[['ROUTE_NAME_CITY', 'AIRPORT_CODE_A', 'AIRPORT_CODE_B', 'AVG_DEP_DELAY_MINUTES', 'AVG_ARR_DELAY_MINUTES', 'AVG_TOTAL_DELAY']]\n"
   ]
  },
  {
   "cell_type": "code",
   "execution_count": 14,
   "id": "60b9d954-6984-485e-ad1a-a098b7e5dfb6",
   "metadata": {},
   "outputs": [
    {
     "data": {
      "application/vnd.plotly.v1+json": {
       "config": {
        "plotlyServerURL": "https://plot.ly"
       },
       "data": [
        {
         "alignmentgroup": "True",
         "hovertemplate": "AVG_TOTAL_DELAY=%{marker.color}<br>ROUTE_NAME_CITY=%{y}<extra></extra>",
         "legendgroup": "",
         "marker": {
          "color": [
           -29,
           -28.161290322580648,
           -25.25,
           -24.55952380952381,
           -24.5
          ],
          "coloraxis": "coloraxis",
          "pattern": {
           "shape": ""
          }
         },
         "name": "",
         "offsetgroup": "",
         "orientation": "h",
         "showlegend": false,
         "text": [
          -29,
          -28.161290322580648,
          -25.25,
          -24.55952380952381,
          -24.5
         ],
         "textposition": "inside",
         "texttemplate": "%{text:.1f} min",
         "type": "bar",
         "x": [
          -29,
          -28.161290322580648,
          -25.25,
          -24.55952380952381,
          -24.5
         ],
         "xaxis": "x",
         "y": [
          "Denver, CO -> Santa Barbara, CA",
          "Denver, CO -> Harlingen/San Benito, TX",
          "Albany, NY -> Minneapolis, MN",
          "Bismarck/Mandan, ND -> Minneapolis, MN",
          "Cleveland, OH -> St. Petersburg, FL"
         ],
         "yaxis": "y"
        }
       ],
       "layout": {
        "barmode": "relative",
        "coloraxis": {
         "colorbar": {
          "title": {
           "text": "AVG_TOTAL_DELAY"
          }
         },
         "colorscale": [
          [
           0,
           "rgb(8,48,107)"
          ],
          [
           0.125,
           "rgb(8,81,156)"
          ],
          [
           0.25,
           "rgb(33,113,181)"
          ],
          [
           0.375,
           "rgb(66,146,198)"
          ],
          [
           0.5,
           "rgb(107,174,214)"
          ],
          [
           0.625,
           "rgb(158,202,225)"
          ],
          [
           0.75,
           "rgb(198,219,239)"
          ],
          [
           0.875,
           "rgb(222,235,247)"
          ],
          [
           1,
           "rgb(247,251,255)"
          ]
         ]
        },
        "height": 500,
        "legend": {
         "tracegroupgap": 0
        },
        "margin": {
         "r": 100
        },
        "template": {
         "data": {
          "bar": [
           {
            "error_x": {
             "color": "#2a3f5f"
            },
            "error_y": {
             "color": "#2a3f5f"
            },
            "marker": {
             "line": {
              "color": "#E5ECF6",
              "width": 0.5
             },
             "pattern": {
              "fillmode": "overlay",
              "size": 10,
              "solidity": 0.2
             }
            },
            "type": "bar"
           }
          ],
          "barpolar": [
           {
            "marker": {
             "line": {
              "color": "#E5ECF6",
              "width": 0.5
             },
             "pattern": {
              "fillmode": "overlay",
              "size": 10,
              "solidity": 0.2
             }
            },
            "type": "barpolar"
           }
          ],
          "carpet": [
           {
            "aaxis": {
             "endlinecolor": "#2a3f5f",
             "gridcolor": "white",
             "linecolor": "white",
             "minorgridcolor": "white",
             "startlinecolor": "#2a3f5f"
            },
            "baxis": {
             "endlinecolor": "#2a3f5f",
             "gridcolor": "white",
             "linecolor": "white",
             "minorgridcolor": "white",
             "startlinecolor": "#2a3f5f"
            },
            "type": "carpet"
           }
          ],
          "choropleth": [
           {
            "colorbar": {
             "outlinewidth": 0,
             "ticks": ""
            },
            "type": "choropleth"
           }
          ],
          "contour": [
           {
            "colorbar": {
             "outlinewidth": 0,
             "ticks": ""
            },
            "colorscale": [
             [
              0,
              "#0d0887"
             ],
             [
              0.1111111111111111,
              "#46039f"
             ],
             [
              0.2222222222222222,
              "#7201a8"
             ],
             [
              0.3333333333333333,
              "#9c179e"
             ],
             [
              0.4444444444444444,
              "#bd3786"
             ],
             [
              0.5555555555555556,
              "#d8576b"
             ],
             [
              0.6666666666666666,
              "#ed7953"
             ],
             [
              0.7777777777777778,
              "#fb9f3a"
             ],
             [
              0.8888888888888888,
              "#fdca26"
             ],
             [
              1,
              "#f0f921"
             ]
            ],
            "type": "contour"
           }
          ],
          "contourcarpet": [
           {
            "colorbar": {
             "outlinewidth": 0,
             "ticks": ""
            },
            "type": "contourcarpet"
           }
          ],
          "heatmap": [
           {
            "colorbar": {
             "outlinewidth": 0,
             "ticks": ""
            },
            "colorscale": [
             [
              0,
              "#0d0887"
             ],
             [
              0.1111111111111111,
              "#46039f"
             ],
             [
              0.2222222222222222,
              "#7201a8"
             ],
             [
              0.3333333333333333,
              "#9c179e"
             ],
             [
              0.4444444444444444,
              "#bd3786"
             ],
             [
              0.5555555555555556,
              "#d8576b"
             ],
             [
              0.6666666666666666,
              "#ed7953"
             ],
             [
              0.7777777777777778,
              "#fb9f3a"
             ],
             [
              0.8888888888888888,
              "#fdca26"
             ],
             [
              1,
              "#f0f921"
             ]
            ],
            "type": "heatmap"
           }
          ],
          "heatmapgl": [
           {
            "colorbar": {
             "outlinewidth": 0,
             "ticks": ""
            },
            "colorscale": [
             [
              0,
              "#0d0887"
             ],
             [
              0.1111111111111111,
              "#46039f"
             ],
             [
              0.2222222222222222,
              "#7201a8"
             ],
             [
              0.3333333333333333,
              "#9c179e"
             ],
             [
              0.4444444444444444,
              "#bd3786"
             ],
             [
              0.5555555555555556,
              "#d8576b"
             ],
             [
              0.6666666666666666,
              "#ed7953"
             ],
             [
              0.7777777777777778,
              "#fb9f3a"
             ],
             [
              0.8888888888888888,
              "#fdca26"
             ],
             [
              1,
              "#f0f921"
             ]
            ],
            "type": "heatmapgl"
           }
          ],
          "histogram": [
           {
            "marker": {
             "pattern": {
              "fillmode": "overlay",
              "size": 10,
              "solidity": 0.2
             }
            },
            "type": "histogram"
           }
          ],
          "histogram2d": [
           {
            "colorbar": {
             "outlinewidth": 0,
             "ticks": ""
            },
            "colorscale": [
             [
              0,
              "#0d0887"
             ],
             [
              0.1111111111111111,
              "#46039f"
             ],
             [
              0.2222222222222222,
              "#7201a8"
             ],
             [
              0.3333333333333333,
              "#9c179e"
             ],
             [
              0.4444444444444444,
              "#bd3786"
             ],
             [
              0.5555555555555556,
              "#d8576b"
             ],
             [
              0.6666666666666666,
              "#ed7953"
             ],
             [
              0.7777777777777778,
              "#fb9f3a"
             ],
             [
              0.8888888888888888,
              "#fdca26"
             ],
             [
              1,
              "#f0f921"
             ]
            ],
            "type": "histogram2d"
           }
          ],
          "histogram2dcontour": [
           {
            "colorbar": {
             "outlinewidth": 0,
             "ticks": ""
            },
            "colorscale": [
             [
              0,
              "#0d0887"
             ],
             [
              0.1111111111111111,
              "#46039f"
             ],
             [
              0.2222222222222222,
              "#7201a8"
             ],
             [
              0.3333333333333333,
              "#9c179e"
             ],
             [
              0.4444444444444444,
              "#bd3786"
             ],
             [
              0.5555555555555556,
              "#d8576b"
             ],
             [
              0.6666666666666666,
              "#ed7953"
             ],
             [
              0.7777777777777778,
              "#fb9f3a"
             ],
             [
              0.8888888888888888,
              "#fdca26"
             ],
             [
              1,
              "#f0f921"
             ]
            ],
            "type": "histogram2dcontour"
           }
          ],
          "mesh3d": [
           {
            "colorbar": {
             "outlinewidth": 0,
             "ticks": ""
            },
            "type": "mesh3d"
           }
          ],
          "parcoords": [
           {
            "line": {
             "colorbar": {
              "outlinewidth": 0,
              "ticks": ""
             }
            },
            "type": "parcoords"
           }
          ],
          "pie": [
           {
            "automargin": true,
            "type": "pie"
           }
          ],
          "scatter": [
           {
            "fillpattern": {
             "fillmode": "overlay",
             "size": 10,
             "solidity": 0.2
            },
            "type": "scatter"
           }
          ],
          "scatter3d": [
           {
            "line": {
             "colorbar": {
              "outlinewidth": 0,
              "ticks": ""
             }
            },
            "marker": {
             "colorbar": {
              "outlinewidth": 0,
              "ticks": ""
             }
            },
            "type": "scatter3d"
           }
          ],
          "scattercarpet": [
           {
            "marker": {
             "colorbar": {
              "outlinewidth": 0,
              "ticks": ""
             }
            },
            "type": "scattercarpet"
           }
          ],
          "scattergeo": [
           {
            "marker": {
             "colorbar": {
              "outlinewidth": 0,
              "ticks": ""
             }
            },
            "type": "scattergeo"
           }
          ],
          "scattergl": [
           {
            "marker": {
             "colorbar": {
              "outlinewidth": 0,
              "ticks": ""
             }
            },
            "type": "scattergl"
           }
          ],
          "scattermapbox": [
           {
            "marker": {
             "colorbar": {
              "outlinewidth": 0,
              "ticks": ""
             }
            },
            "type": "scattermapbox"
           }
          ],
          "scatterpolar": [
           {
            "marker": {
             "colorbar": {
              "outlinewidth": 0,
              "ticks": ""
             }
            },
            "type": "scatterpolar"
           }
          ],
          "scatterpolargl": [
           {
            "marker": {
             "colorbar": {
              "outlinewidth": 0,
              "ticks": ""
             }
            },
            "type": "scatterpolargl"
           }
          ],
          "scatterternary": [
           {
            "marker": {
             "colorbar": {
              "outlinewidth": 0,
              "ticks": ""
             }
            },
            "type": "scatterternary"
           }
          ],
          "surface": [
           {
            "colorbar": {
             "outlinewidth": 0,
             "ticks": ""
            },
            "colorscale": [
             [
              0,
              "#0d0887"
             ],
             [
              0.1111111111111111,
              "#46039f"
             ],
             [
              0.2222222222222222,
              "#7201a8"
             ],
             [
              0.3333333333333333,
              "#9c179e"
             ],
             [
              0.4444444444444444,
              "#bd3786"
             ],
             [
              0.5555555555555556,
              "#d8576b"
             ],
             [
              0.6666666666666666,
              "#ed7953"
             ],
             [
              0.7777777777777778,
              "#fb9f3a"
             ],
             [
              0.8888888888888888,
              "#fdca26"
             ],
             [
              1,
              "#f0f921"
             ]
            ],
            "type": "surface"
           }
          ],
          "table": [
           {
            "cells": {
             "fill": {
              "color": "#EBF0F8"
             },
             "line": {
              "color": "white"
             }
            },
            "header": {
             "fill": {
              "color": "#C8D4E3"
             },
             "line": {
              "color": "white"
             }
            },
            "type": "table"
           }
          ]
         },
         "layout": {
          "annotationdefaults": {
           "arrowcolor": "#2a3f5f",
           "arrowhead": 0,
           "arrowwidth": 1
          },
          "autotypenumbers": "strict",
          "coloraxis": {
           "colorbar": {
            "outlinewidth": 0,
            "ticks": ""
           }
          },
          "colorscale": {
           "diverging": [
            [
             0,
             "#8e0152"
            ],
            [
             0.1,
             "#c51b7d"
            ],
            [
             0.2,
             "#de77ae"
            ],
            [
             0.3,
             "#f1b6da"
            ],
            [
             0.4,
             "#fde0ef"
            ],
            [
             0.5,
             "#f7f7f7"
            ],
            [
             0.6,
             "#e6f5d0"
            ],
            [
             0.7,
             "#b8e186"
            ],
            [
             0.8,
             "#7fbc41"
            ],
            [
             0.9,
             "#4d9221"
            ],
            [
             1,
             "#276419"
            ]
           ],
           "sequential": [
            [
             0,
             "#0d0887"
            ],
            [
             0.1111111111111111,
             "#46039f"
            ],
            [
             0.2222222222222222,
             "#7201a8"
            ],
            [
             0.3333333333333333,
             "#9c179e"
            ],
            [
             0.4444444444444444,
             "#bd3786"
            ],
            [
             0.5555555555555556,
             "#d8576b"
            ],
            [
             0.6666666666666666,
             "#ed7953"
            ],
            [
             0.7777777777777778,
             "#fb9f3a"
            ],
            [
             0.8888888888888888,
             "#fdca26"
            ],
            [
             1,
             "#f0f921"
            ]
           ],
           "sequentialminus": [
            [
             0,
             "#0d0887"
            ],
            [
             0.1111111111111111,
             "#46039f"
            ],
            [
             0.2222222222222222,
             "#7201a8"
            ],
            [
             0.3333333333333333,
             "#9c179e"
            ],
            [
             0.4444444444444444,
             "#bd3786"
            ],
            [
             0.5555555555555556,
             "#d8576b"
            ],
            [
             0.6666666666666666,
             "#ed7953"
            ],
            [
             0.7777777777777778,
             "#fb9f3a"
            ],
            [
             0.8888888888888888,
             "#fdca26"
            ],
            [
             1,
             "#f0f921"
            ]
           ]
          },
          "colorway": [
           "#636efa",
           "#EF553B",
           "#00cc96",
           "#ab63fa",
           "#FFA15A",
           "#19d3f3",
           "#FF6692",
           "#B6E880",
           "#FF97FF",
           "#FECB52"
          ],
          "font": {
           "color": "#2a3f5f"
          },
          "geo": {
           "bgcolor": "white",
           "lakecolor": "white",
           "landcolor": "#E5ECF6",
           "showlakes": true,
           "showland": true,
           "subunitcolor": "white"
          },
          "hoverlabel": {
           "align": "left"
          },
          "hovermode": "closest",
          "mapbox": {
           "style": "light"
          },
          "paper_bgcolor": "white",
          "plot_bgcolor": "#E5ECF6",
          "polar": {
           "angularaxis": {
            "gridcolor": "white",
            "linecolor": "white",
            "ticks": ""
           },
           "bgcolor": "#E5ECF6",
           "radialaxis": {
            "gridcolor": "white",
            "linecolor": "white",
            "ticks": ""
           }
          },
          "scene": {
           "xaxis": {
            "backgroundcolor": "#E5ECF6",
            "gridcolor": "white",
            "gridwidth": 2,
            "linecolor": "white",
            "showbackground": true,
            "ticks": "",
            "zerolinecolor": "white"
           },
           "yaxis": {
            "backgroundcolor": "#E5ECF6",
            "gridcolor": "white",
            "gridwidth": 2,
            "linecolor": "white",
            "showbackground": true,
            "ticks": "",
            "zerolinecolor": "white"
           },
           "zaxis": {
            "backgroundcolor": "#E5ECF6",
            "gridcolor": "white",
            "gridwidth": 2,
            "linecolor": "white",
            "showbackground": true,
            "ticks": "",
            "zerolinecolor": "white"
           }
          },
          "shapedefaults": {
           "line": {
            "color": "#2a3f5f"
           }
          },
          "ternary": {
           "aaxis": {
            "gridcolor": "white",
            "linecolor": "white",
            "ticks": ""
           },
           "baxis": {
            "gridcolor": "white",
            "linecolor": "white",
            "ticks": ""
           },
           "bgcolor": "#E5ECF6",
           "caxis": {
            "gridcolor": "white",
            "linecolor": "white",
            "ticks": ""
           }
          },
          "title": {
           "x": 0.05
          },
          "xaxis": {
           "automargin": true,
           "gridcolor": "white",
           "linecolor": "white",
           "ticks": "",
           "title": {
            "standoff": 15
           },
           "zerolinecolor": "white",
           "zerolinewidth": 2
          },
          "yaxis": {
           "automargin": true,
           "gridcolor": "white",
           "linecolor": "white",
           "ticks": "",
           "title": {
            "standoff": 15
           },
           "zerolinecolor": "white",
           "zerolinewidth": 2
          }
         }
        },
        "title": {
         "text": "Top 5 Most Punctual Routes (Lowest Average Total Delay)"
        },
        "xaxis": {
         "anchor": "y",
         "domain": [
          0,
          1
         ],
         "title": {
          "text": "Average Total Delay (Minutes)"
         }
        },
        "yaxis": {
         "anchor": "x",
         "autorange": "reversed",
         "domain": [
          0,
          1
         ],
         "title": {
          "text": "Route"
         }
        }
       }
      }
     },
     "metadata": {},
     "output_type": "display_data"
    }
   ],
   "source": [
    "# Bar chart for most punctual routes\n",
    "fig = px.bar(\n",
    "    top_punctual,\n",
    "    x='AVG_TOTAL_DELAY',\n",
    "    y='ROUTE_NAME_CITY',\n",
    "    orientation='h',\n",
    "    color='AVG_TOTAL_DELAY',\n",
    "    color_continuous_scale='blues_r',\n",
    "    text='AVG_TOTAL_DELAY',\n",
    "    title='Top 5 Most Punctual Routes (Lowest Average Total Delay)'\n",
    ")\n",
    "\n",
    "# Update layout for better readability\n",
    "fig.update_layout(\n",
    "    xaxis_title='Average Total Delay (Minutes)',\n",
    "    yaxis_title='Route',\n",
    "    yaxis=dict(autorange='reversed'),  # Reverse to show best at top\n",
    "    height=500,\n",
    "    margin=dict(r=100)\n",
    ")\n",
    "\n",
    "# Format delay values on bars\n",
    "fig.update_traces(\n",
    "    texttemplate='%{text:.1f} min',\n",
    "    textposition='inside'\n",
    ")\n",
    "\n",
    "fig.show()\n"
   ]
  },
  {
   "cell_type": "markdown",
   "id": "8b55b89e-2ebd-47a9-b67b-7c5a46168eac",
   "metadata": {},
   "source": [
    "Insights:\n",
    "\n",
    "All these routes have negative average delay, which means they tend to arrive early — a huge win for your brand.\n",
    "\n",
    "Denver, CO is dominating — it shows up twice, including the most punctual route to Santa Barbara, CA (-29 mins total delay).\n",
    "\n",
    "Every route here is well below -24 mins on average — super punctual and consistent.\n",
    "\n",
    "These are not just \"not late\" — they’re early, showing robust operational buffer or under-scheduled flights."
   ]
  },
  {
   "cell_type": "code",
   "execution_count": 15,
   "id": "73ec4557-ea1a-41b4-9c53-d536f859a6b9",
   "metadata": {},
   "outputs": [
    {
     "name": "stdout",
     "output_type": "stream",
     "text": [
      "+-----+-----------------------------+----------------+----------------+---------------+\n",
      "|     |       ROUTE_NAME_CITY       | AIRPORT_CODE_A | AIRPORT_CODE_B | TOTAL_FLIGHTS |\n",
      "+-----+-----------------------------+----------------+----------------+---------------+\n",
      "| 542 | Honolulu, HI -> Kahului, HI |      HNL       |      OGG       |     4794      |\n",
      "| 544 |  Honolulu, HI -> Lihue, HI  |      HNL       |      LIH       |     3138      |\n",
      "| 543 |  Honolulu, HI -> Kona, HI   |      HNL       |      KOA       |     3018      |\n",
      "| 539 |  Hilo, HI -> Honolulu, HI   |      HNL       |      ITO       |     2339      |\n",
      "| 194 | Burbank, CA -> San Jose, CA |      BUR       |      SJC       |     2127      |\n",
      "+-----+-----------------------------+----------------+----------------+---------------+\n"
     ]
    }
   ],
   "source": [
    "# Filter for medium-large airport pairs only\n",
    "filtered_df = df[\n",
    "    ((df['AIRPORT_A_SIZE'] == 'medium_airport') & (df['AIRPORT_B_SIZE'] == 'large_airport')) |\n",
    "    ((df['AIRPORT_A_SIZE'] == 'large_airport') & (df['AIRPORT_B_SIZE'] == 'medium_airport'))\n",
    "]\n",
    "\n",
    "# Group by route, summing total flights\n",
    "route_flight_counts = (\n",
    "    filtered_df.groupby(['ROUTE_NAME_CITY', 'AIRPORT_CODE_A', 'AIRPORT_CODE_B'])\n",
    "    ['TOTAL_FLIGHTS']\n",
    "    .sum()\n",
    "    .reset_index()\n",
    "    .sort_values(by='TOTAL_FLIGHTS', ascending=False)\n",
    "    .head(5)\n",
    ")\n",
    "\n",
    "# Show top 5 busiest roundtrip routes\n",
    "print(tabulate(route_flight_counts, headers='keys', tablefmt='pretty', showindex=True))"
   ]
  },
  {
   "cell_type": "code",
   "execution_count": 16,
   "id": "7225f0e8-684a-40df-8fda-1525d1d29d84",
   "metadata": {},
   "outputs": [
    {
     "data": {
      "application/vnd.plotly.v1+json": {
       "config": {
        "plotlyServerURL": "https://plot.ly"
       },
       "data": [
        {
         "alignmentgroup": "True",
         "hovertemplate": "TOTAL_FLIGHTS=%{marker.color}<br>ROUTE_NAME_CITY=%{y}<extra></extra>",
         "legendgroup": "",
         "marker": {
          "color": [
           4794,
           3138,
           3018,
           2339,
           2127
          ],
          "coloraxis": "coloraxis",
          "pattern": {
           "shape": ""
          }
         },
         "name": "",
         "offsetgroup": "",
         "orientation": "h",
         "showlegend": false,
         "text": [
          4794,
          3138,
          3018,
          2339,
          2127
         ],
         "textposition": "inside",
         "texttemplate": "%{text}",
         "type": "bar",
         "x": [
          4794,
          3138,
          3018,
          2339,
          2127
         ],
         "xaxis": "x",
         "y": [
          "Honolulu, HI -> Kahului, HI",
          "Honolulu, HI -> Lihue, HI",
          "Honolulu, HI -> Kona, HI",
          "Hilo, HI -> Honolulu, HI",
          "Burbank, CA -> San Jose, CA"
         ],
         "yaxis": "y"
        }
       ],
       "layout": {
        "barmode": "relative",
        "coloraxis": {
         "colorbar": {
          "title": {
           "text": "TOTAL_FLIGHTS"
          }
         },
         "colorscale": [
          [
           0,
           "rgb(247,251,255)"
          ],
          [
           0.125,
           "rgb(222,235,247)"
          ],
          [
           0.25,
           "rgb(198,219,239)"
          ],
          [
           0.375,
           "rgb(158,202,225)"
          ],
          [
           0.5,
           "rgb(107,174,214)"
          ],
          [
           0.625,
           "rgb(66,146,198)"
          ],
          [
           0.75,
           "rgb(33,113,181)"
          ],
          [
           0.875,
           "rgb(8,81,156)"
          ],
          [
           1,
           "rgb(8,48,107)"
          ]
         ]
        },
        "height": 500,
        "legend": {
         "tracegroupgap": 0
        },
        "template": {
         "data": {
          "bar": [
           {
            "error_x": {
             "color": "#2a3f5f"
            },
            "error_y": {
             "color": "#2a3f5f"
            },
            "marker": {
             "line": {
              "color": "#E5ECF6",
              "width": 0.5
             },
             "pattern": {
              "fillmode": "overlay",
              "size": 10,
              "solidity": 0.2
             }
            },
            "type": "bar"
           }
          ],
          "barpolar": [
           {
            "marker": {
             "line": {
              "color": "#E5ECF6",
              "width": 0.5
             },
             "pattern": {
              "fillmode": "overlay",
              "size": 10,
              "solidity": 0.2
             }
            },
            "type": "barpolar"
           }
          ],
          "carpet": [
           {
            "aaxis": {
             "endlinecolor": "#2a3f5f",
             "gridcolor": "white",
             "linecolor": "white",
             "minorgridcolor": "white",
             "startlinecolor": "#2a3f5f"
            },
            "baxis": {
             "endlinecolor": "#2a3f5f",
             "gridcolor": "white",
             "linecolor": "white",
             "minorgridcolor": "white",
             "startlinecolor": "#2a3f5f"
            },
            "type": "carpet"
           }
          ],
          "choropleth": [
           {
            "colorbar": {
             "outlinewidth": 0,
             "ticks": ""
            },
            "type": "choropleth"
           }
          ],
          "contour": [
           {
            "colorbar": {
             "outlinewidth": 0,
             "ticks": ""
            },
            "colorscale": [
             [
              0,
              "#0d0887"
             ],
             [
              0.1111111111111111,
              "#46039f"
             ],
             [
              0.2222222222222222,
              "#7201a8"
             ],
             [
              0.3333333333333333,
              "#9c179e"
             ],
             [
              0.4444444444444444,
              "#bd3786"
             ],
             [
              0.5555555555555556,
              "#d8576b"
             ],
             [
              0.6666666666666666,
              "#ed7953"
             ],
             [
              0.7777777777777778,
              "#fb9f3a"
             ],
             [
              0.8888888888888888,
              "#fdca26"
             ],
             [
              1,
              "#f0f921"
             ]
            ],
            "type": "contour"
           }
          ],
          "contourcarpet": [
           {
            "colorbar": {
             "outlinewidth": 0,
             "ticks": ""
            },
            "type": "contourcarpet"
           }
          ],
          "heatmap": [
           {
            "colorbar": {
             "outlinewidth": 0,
             "ticks": ""
            },
            "colorscale": [
             [
              0,
              "#0d0887"
             ],
             [
              0.1111111111111111,
              "#46039f"
             ],
             [
              0.2222222222222222,
              "#7201a8"
             ],
             [
              0.3333333333333333,
              "#9c179e"
             ],
             [
              0.4444444444444444,
              "#bd3786"
             ],
             [
              0.5555555555555556,
              "#d8576b"
             ],
             [
              0.6666666666666666,
              "#ed7953"
             ],
             [
              0.7777777777777778,
              "#fb9f3a"
             ],
             [
              0.8888888888888888,
              "#fdca26"
             ],
             [
              1,
              "#f0f921"
             ]
            ],
            "type": "heatmap"
           }
          ],
          "heatmapgl": [
           {
            "colorbar": {
             "outlinewidth": 0,
             "ticks": ""
            },
            "colorscale": [
             [
              0,
              "#0d0887"
             ],
             [
              0.1111111111111111,
              "#46039f"
             ],
             [
              0.2222222222222222,
              "#7201a8"
             ],
             [
              0.3333333333333333,
              "#9c179e"
             ],
             [
              0.4444444444444444,
              "#bd3786"
             ],
             [
              0.5555555555555556,
              "#d8576b"
             ],
             [
              0.6666666666666666,
              "#ed7953"
             ],
             [
              0.7777777777777778,
              "#fb9f3a"
             ],
             [
              0.8888888888888888,
              "#fdca26"
             ],
             [
              1,
              "#f0f921"
             ]
            ],
            "type": "heatmapgl"
           }
          ],
          "histogram": [
           {
            "marker": {
             "pattern": {
              "fillmode": "overlay",
              "size": 10,
              "solidity": 0.2
             }
            },
            "type": "histogram"
           }
          ],
          "histogram2d": [
           {
            "colorbar": {
             "outlinewidth": 0,
             "ticks": ""
            },
            "colorscale": [
             [
              0,
              "#0d0887"
             ],
             [
              0.1111111111111111,
              "#46039f"
             ],
             [
              0.2222222222222222,
              "#7201a8"
             ],
             [
              0.3333333333333333,
              "#9c179e"
             ],
             [
              0.4444444444444444,
              "#bd3786"
             ],
             [
              0.5555555555555556,
              "#d8576b"
             ],
             [
              0.6666666666666666,
              "#ed7953"
             ],
             [
              0.7777777777777778,
              "#fb9f3a"
             ],
             [
              0.8888888888888888,
              "#fdca26"
             ],
             [
              1,
              "#f0f921"
             ]
            ],
            "type": "histogram2d"
           }
          ],
          "histogram2dcontour": [
           {
            "colorbar": {
             "outlinewidth": 0,
             "ticks": ""
            },
            "colorscale": [
             [
              0,
              "#0d0887"
             ],
             [
              0.1111111111111111,
              "#46039f"
             ],
             [
              0.2222222222222222,
              "#7201a8"
             ],
             [
              0.3333333333333333,
              "#9c179e"
             ],
             [
              0.4444444444444444,
              "#bd3786"
             ],
             [
              0.5555555555555556,
              "#d8576b"
             ],
             [
              0.6666666666666666,
              "#ed7953"
             ],
             [
              0.7777777777777778,
              "#fb9f3a"
             ],
             [
              0.8888888888888888,
              "#fdca26"
             ],
             [
              1,
              "#f0f921"
             ]
            ],
            "type": "histogram2dcontour"
           }
          ],
          "mesh3d": [
           {
            "colorbar": {
             "outlinewidth": 0,
             "ticks": ""
            },
            "type": "mesh3d"
           }
          ],
          "parcoords": [
           {
            "line": {
             "colorbar": {
              "outlinewidth": 0,
              "ticks": ""
             }
            },
            "type": "parcoords"
           }
          ],
          "pie": [
           {
            "automargin": true,
            "type": "pie"
           }
          ],
          "scatter": [
           {
            "fillpattern": {
             "fillmode": "overlay",
             "size": 10,
             "solidity": 0.2
            },
            "type": "scatter"
           }
          ],
          "scatter3d": [
           {
            "line": {
             "colorbar": {
              "outlinewidth": 0,
              "ticks": ""
             }
            },
            "marker": {
             "colorbar": {
              "outlinewidth": 0,
              "ticks": ""
             }
            },
            "type": "scatter3d"
           }
          ],
          "scattercarpet": [
           {
            "marker": {
             "colorbar": {
              "outlinewidth": 0,
              "ticks": ""
             }
            },
            "type": "scattercarpet"
           }
          ],
          "scattergeo": [
           {
            "marker": {
             "colorbar": {
              "outlinewidth": 0,
              "ticks": ""
             }
            },
            "type": "scattergeo"
           }
          ],
          "scattergl": [
           {
            "marker": {
             "colorbar": {
              "outlinewidth": 0,
              "ticks": ""
             }
            },
            "type": "scattergl"
           }
          ],
          "scattermapbox": [
           {
            "marker": {
             "colorbar": {
              "outlinewidth": 0,
              "ticks": ""
             }
            },
            "type": "scattermapbox"
           }
          ],
          "scatterpolar": [
           {
            "marker": {
             "colorbar": {
              "outlinewidth": 0,
              "ticks": ""
             }
            },
            "type": "scatterpolar"
           }
          ],
          "scatterpolargl": [
           {
            "marker": {
             "colorbar": {
              "outlinewidth": 0,
              "ticks": ""
             }
            },
            "type": "scatterpolargl"
           }
          ],
          "scatterternary": [
           {
            "marker": {
             "colorbar": {
              "outlinewidth": 0,
              "ticks": ""
             }
            },
            "type": "scatterternary"
           }
          ],
          "surface": [
           {
            "colorbar": {
             "outlinewidth": 0,
             "ticks": ""
            },
            "colorscale": [
             [
              0,
              "#0d0887"
             ],
             [
              0.1111111111111111,
              "#46039f"
             ],
             [
              0.2222222222222222,
              "#7201a8"
             ],
             [
              0.3333333333333333,
              "#9c179e"
             ],
             [
              0.4444444444444444,
              "#bd3786"
             ],
             [
              0.5555555555555556,
              "#d8576b"
             ],
             [
              0.6666666666666666,
              "#ed7953"
             ],
             [
              0.7777777777777778,
              "#fb9f3a"
             ],
             [
              0.8888888888888888,
              "#fdca26"
             ],
             [
              1,
              "#f0f921"
             ]
            ],
            "type": "surface"
           }
          ],
          "table": [
           {
            "cells": {
             "fill": {
              "color": "#EBF0F8"
             },
             "line": {
              "color": "white"
             }
            },
            "header": {
             "fill": {
              "color": "#C8D4E3"
             },
             "line": {
              "color": "white"
             }
            },
            "type": "table"
           }
          ]
         },
         "layout": {
          "annotationdefaults": {
           "arrowcolor": "#2a3f5f",
           "arrowhead": 0,
           "arrowwidth": 1
          },
          "autotypenumbers": "strict",
          "coloraxis": {
           "colorbar": {
            "outlinewidth": 0,
            "ticks": ""
           }
          },
          "colorscale": {
           "diverging": [
            [
             0,
             "#8e0152"
            ],
            [
             0.1,
             "#c51b7d"
            ],
            [
             0.2,
             "#de77ae"
            ],
            [
             0.3,
             "#f1b6da"
            ],
            [
             0.4,
             "#fde0ef"
            ],
            [
             0.5,
             "#f7f7f7"
            ],
            [
             0.6,
             "#e6f5d0"
            ],
            [
             0.7,
             "#b8e186"
            ],
            [
             0.8,
             "#7fbc41"
            ],
            [
             0.9,
             "#4d9221"
            ],
            [
             1,
             "#276419"
            ]
           ],
           "sequential": [
            [
             0,
             "#0d0887"
            ],
            [
             0.1111111111111111,
             "#46039f"
            ],
            [
             0.2222222222222222,
             "#7201a8"
            ],
            [
             0.3333333333333333,
             "#9c179e"
            ],
            [
             0.4444444444444444,
             "#bd3786"
            ],
            [
             0.5555555555555556,
             "#d8576b"
            ],
            [
             0.6666666666666666,
             "#ed7953"
            ],
            [
             0.7777777777777778,
             "#fb9f3a"
            ],
            [
             0.8888888888888888,
             "#fdca26"
            ],
            [
             1,
             "#f0f921"
            ]
           ],
           "sequentialminus": [
            [
             0,
             "#0d0887"
            ],
            [
             0.1111111111111111,
             "#46039f"
            ],
            [
             0.2222222222222222,
             "#7201a8"
            ],
            [
             0.3333333333333333,
             "#9c179e"
            ],
            [
             0.4444444444444444,
             "#bd3786"
            ],
            [
             0.5555555555555556,
             "#d8576b"
            ],
            [
             0.6666666666666666,
             "#ed7953"
            ],
            [
             0.7777777777777778,
             "#fb9f3a"
            ],
            [
             0.8888888888888888,
             "#fdca26"
            ],
            [
             1,
             "#f0f921"
            ]
           ]
          },
          "colorway": [
           "#636efa",
           "#EF553B",
           "#00cc96",
           "#ab63fa",
           "#FFA15A",
           "#19d3f3",
           "#FF6692",
           "#B6E880",
           "#FF97FF",
           "#FECB52"
          ],
          "font": {
           "color": "#2a3f5f"
          },
          "geo": {
           "bgcolor": "white",
           "lakecolor": "white",
           "landcolor": "#E5ECF6",
           "showlakes": true,
           "showland": true,
           "subunitcolor": "white"
          },
          "hoverlabel": {
           "align": "left"
          },
          "hovermode": "closest",
          "mapbox": {
           "style": "light"
          },
          "paper_bgcolor": "white",
          "plot_bgcolor": "#E5ECF6",
          "polar": {
           "angularaxis": {
            "gridcolor": "white",
            "linecolor": "white",
            "ticks": ""
           },
           "bgcolor": "#E5ECF6",
           "radialaxis": {
            "gridcolor": "white",
            "linecolor": "white",
            "ticks": ""
           }
          },
          "scene": {
           "xaxis": {
            "backgroundcolor": "#E5ECF6",
            "gridcolor": "white",
            "gridwidth": 2,
            "linecolor": "white",
            "showbackground": true,
            "ticks": "",
            "zerolinecolor": "white"
           },
           "yaxis": {
            "backgroundcolor": "#E5ECF6",
            "gridcolor": "white",
            "gridwidth": 2,
            "linecolor": "white",
            "showbackground": true,
            "ticks": "",
            "zerolinecolor": "white"
           },
           "zaxis": {
            "backgroundcolor": "#E5ECF6",
            "gridcolor": "white",
            "gridwidth": 2,
            "linecolor": "white",
            "showbackground": true,
            "ticks": "",
            "zerolinecolor": "white"
           }
          },
          "shapedefaults": {
           "line": {
            "color": "#2a3f5f"
           }
          },
          "ternary": {
           "aaxis": {
            "gridcolor": "white",
            "linecolor": "white",
            "ticks": ""
           },
           "baxis": {
            "gridcolor": "white",
            "linecolor": "white",
            "ticks": ""
           },
           "bgcolor": "#E5ECF6",
           "caxis": {
            "gridcolor": "white",
            "linecolor": "white",
            "ticks": ""
           }
          },
          "title": {
           "x": 0.05
          },
          "xaxis": {
           "automargin": true,
           "gridcolor": "white",
           "linecolor": "white",
           "ticks": "",
           "title": {
            "standoff": 15
           },
           "zerolinecolor": "white",
           "zerolinewidth": 2
          },
          "yaxis": {
           "automargin": true,
           "gridcolor": "white",
           "linecolor": "white",
           "ticks": "",
           "title": {
            "standoff": 15
           },
           "zerolinecolor": "white",
           "zerolinewidth": 2
          }
         }
        },
        "title": {
         "text": "Top 5 Busiest Roundtrip Routes by Total Flights"
        },
        "xaxis": {
         "anchor": "y",
         "domain": [
          0,
          1
         ],
         "title": {
          "text": "Total Flights in Q1 2019"
         }
        },
        "yaxis": {
         "anchor": "x",
         "autorange": "reversed",
         "domain": [
          0,
          1
         ],
         "title": {
          "text": "Route"
         }
        }
       }
      }
     },
     "metadata": {},
     "output_type": "display_data"
    }
   ],
   "source": [
    "# Horizontal bar chart for busiest routes\n",
    "fig = px.bar(\n",
    "    route_flight_counts,\n",
    "    x='TOTAL_FLIGHTS',\n",
    "    y='ROUTE_NAME_CITY',\n",
    "    orientation='h',\n",
    "    text='TOTAL_FLIGHTS',\n",
    "    color='TOTAL_FLIGHTS',\n",
    "    color_continuous_scale='Blues',\n",
    "    title='Top 5 Busiest Roundtrip Routes by Total Flights'\n",
    ")\n",
    "\n",
    "# Reverse axis for visual order\n",
    "fig.update_layout(\n",
    "    yaxis=dict(autorange='reversed'),\n",
    "    xaxis_title='Total Flights in Q1 2019',\n",
    "    yaxis_title='Route',\n",
    "    height=500\n",
    ")\n",
    "\n",
    "# Show value labels on bars\n",
    "fig.update_traces(\n",
    "    texttemplate='%{text}',\n",
    "    textposition='inside'\n",
    ")\n",
    "\n",
    "fig.show()\n"
   ]
  },
  {
   "cell_type": "markdown",
   "id": "402c0d68-2243-42c6-895d-da415efd4f1d",
   "metadata": {},
   "source": [
    "Honolulu, HI → Kahului, HI (HNL–OGG) leads with 4,794 roundtrip flights — that’s incredibly high frequency.\n",
    "\n",
    "All top 4 routes originate from Honolulu (HNL), highlighting it as a hub for inter-island travel.\n",
    "\n",
    "These routes show proven operational history, meaning crew logistics, slots, and turnaround times are likely well-optimized.\n",
    "\n",
    "Burbank → San Jose is the only mainland route in the top 5, suggesting California regional routes are also active."
   ]
  },
  {
   "cell_type": "code",
   "execution_count": 17,
   "id": "f0dc3b12-3ba7-41a4-bd07-47de36357b85",
   "metadata": {},
   "outputs": [
    {
     "data": {
      "text/html": [
       "<div>\n",
       "<style scoped>\n",
       "    .dataframe tbody tr th:only-of-type {\n",
       "        vertical-align: middle;\n",
       "    }\n",
       "\n",
       "    .dataframe tbody tr th {\n",
       "        vertical-align: top;\n",
       "    }\n",
       "\n",
       "    .dataframe thead th {\n",
       "        text-align: right;\n",
       "    }\n",
       "</style>\n",
       "<table border=\"1\" class=\"dataframe\">\n",
       "  <thead>\n",
       "    <tr style=\"text-align: right;\">\n",
       "      <th></th>\n",
       "      <th>ROUTE_NAME_CITY</th>\n",
       "      <th>AIRPORT_CODE_A</th>\n",
       "      <th>AIRPORT_CODE_B</th>\n",
       "      <th>TOTAL_REVENUE</th>\n",
       "      <th>TOTAL_COST</th>\n",
       "      <th>REV_TO_COST_RATIO</th>\n",
       "    </tr>\n",
       "  </thead>\n",
       "  <tbody>\n",
       "    <tr>\n",
       "      <th>3132</th>\n",
       "      <td>Fargo, ND -&gt; Minneapolis, MN</td>\n",
       "      <td>FAR</td>\n",
       "      <td>MSP</td>\n",
       "      <td>6515556.0</td>\n",
       "      <td>1107468.24</td>\n",
       "      <td>5.883289</td>\n",
       "    </tr>\n",
       "    <tr>\n",
       "      <th>2719</th>\n",
       "      <td>Detroit, MI -&gt; Elmira/Corning, NY</td>\n",
       "      <td>DTW</td>\n",
       "      <td>ELM</td>\n",
       "      <td>2237820.0</td>\n",
       "      <td>421910.40</td>\n",
       "      <td>5.304017</td>\n",
       "    </tr>\n",
       "    <tr>\n",
       "      <th>2541</th>\n",
       "      <td>Dallas/Fort Worth, TX -&gt; Lawton/Fort Sill, OK</td>\n",
       "      <td>DFW</td>\n",
       "      <td>LAW</td>\n",
       "      <td>18766291.3</td>\n",
       "      <td>3637072.80</td>\n",
       "      <td>5.159724</td>\n",
       "    </tr>\n",
       "    <tr>\n",
       "      <th>245</th>\n",
       "      <td>Atlanta, GA -&gt; Evansville, IN</td>\n",
       "      <td>ATL</td>\n",
       "      <td>EVV</td>\n",
       "      <td>6617707.2</td>\n",
       "      <td>1328412.00</td>\n",
       "      <td>4.981668</td>\n",
       "    </tr>\n",
       "    <tr>\n",
       "      <th>2157</th>\n",
       "      <td>Denver, CO -&gt; Eagle, CO</td>\n",
       "      <td>DEN</td>\n",
       "      <td>EGE</td>\n",
       "      <td>37396731.0</td>\n",
       "      <td>7535001.60</td>\n",
       "      <td>4.963069</td>\n",
       "    </tr>\n",
       "  </tbody>\n",
       "</table>\n",
       "</div>"
      ],
      "text/plain": [
       "                                    ROUTE_NAME_CITY AIRPORT_CODE_A  \\\n",
       "3132                   Fargo, ND -> Minneapolis, MN            FAR   \n",
       "2719              Detroit, MI -> Elmira/Corning, NY            DTW   \n",
       "2541  Dallas/Fort Worth, TX -> Lawton/Fort Sill, OK            DFW   \n",
       "245                   Atlanta, GA -> Evansville, IN            ATL   \n",
       "2157                        Denver, CO -> Eagle, CO            DEN   \n",
       "\n",
       "     AIRPORT_CODE_B  TOTAL_REVENUE  TOTAL_COST  REV_TO_COST_RATIO  \n",
       "3132            MSP      6515556.0  1107468.24           5.883289  \n",
       "2719            ELM      2237820.0   421910.40           5.304017  \n",
       "2541            LAW     18766291.3  3637072.80           5.159724  \n",
       "245             EVV      6617707.2  1328412.00           4.981668  \n",
       "2157            EGE     37396731.0  7535001.60           4.963069  "
      ]
     },
     "execution_count": 17,
     "metadata": {},
     "output_type": "execute_result"
    }
   ],
   "source": [
    "# Calculate revenue-to-cost ratio\n",
    "df['REV_TO_COST_RATIO'] = df['TOTAL_REVENUE'] / df['TOTAL_COST']\n",
    "\n",
    "# Filter for only medium ↔ large airport routes\n",
    "filtered_df = df[\n",
    "    ((df['AIRPORT_A_SIZE'] == 'medium_airport') & (df['AIRPORT_B_SIZE'] == 'large_airport')) |\n",
    "    ((df['AIRPORT_A_SIZE'] == 'large_airport') & (df['AIRPORT_B_SIZE'] == 'medium_airport'))\n",
    "]\n",
    "\n",
    "# Drop rows with zero or null TOTAL_COST to avoid divide-by-zero\n",
    "filtered_df = filtered_df[filtered_df['TOTAL_COST'] > 0]\n",
    "\n",
    "# Sort by REV_TO_COST_RATIO and show top 5\n",
    "top_rev_cost_routes = filtered_df.sort_values(by='REV_TO_COST_RATIO', ascending=False).head(5)\n",
    "\n",
    "# Display relevant info\n",
    "top_rev_cost_routes[['ROUTE_NAME_CITY', 'AIRPORT_CODE_A', 'AIRPORT_CODE_B', 'TOTAL_REVENUE', 'TOTAL_COST', 'REV_TO_COST_RATIO']]\n"
   ]
  },
  {
   "cell_type": "code",
   "execution_count": 18,
   "id": "38bd161d-c294-4448-9532-71942b15e772",
   "metadata": {},
   "outputs": [
    {
     "data": {
      "application/vnd.plotly.v1+json": {
       "config": {
        "plotlyServerURL": "https://plot.ly"
       },
       "data": [
        {
         "alignmentgroup": "True",
         "hovertemplate": "REV_TO_COST_RATIO=%{text}<br>ROUTE_NAME_CITY=%{y}<extra></extra>",
         "legendgroup": "",
         "marker": {
          "color": "#EF553B",
          "pattern": {
           "shape": ""
          }
         },
         "name": "",
         "offsetgroup": "",
         "orientation": "h",
         "showlegend": false,
         "text": [
          5.883289258028745,
          5.304017156249289,
          5.159723858153184,
          4.981667735612144,
          4.963068753694757
         ],
         "textposition": "inside",
         "texttemplate": "%{text:.2f}",
         "type": "bar",
         "x": [
          5.883289258028745,
          5.304017156249289,
          5.159723858153184,
          4.981667735612144,
          4.963068753694757
         ],
         "xaxis": "x",
         "y": [
          "Fargo, ND -> Minneapolis, MN",
          "Detroit, MI -> Elmira/Corning, NY",
          "Dallas/Fort Worth, TX -> Lawton/Fort Sill, OK",
          "Atlanta, GA -> Evansville, IN",
          "Denver, CO -> Eagle, CO"
         ],
         "yaxis": "y"
        }
       ],
       "layout": {
        "barmode": "relative",
        "height": 500,
        "legend": {
         "tracegroupgap": 0
        },
        "template": {
         "data": {
          "bar": [
           {
            "error_x": {
             "color": "#2a3f5f"
            },
            "error_y": {
             "color": "#2a3f5f"
            },
            "marker": {
             "line": {
              "color": "#E5ECF6",
              "width": 0.5
             },
             "pattern": {
              "fillmode": "overlay",
              "size": 10,
              "solidity": 0.2
             }
            },
            "type": "bar"
           }
          ],
          "barpolar": [
           {
            "marker": {
             "line": {
              "color": "#E5ECF6",
              "width": 0.5
             },
             "pattern": {
              "fillmode": "overlay",
              "size": 10,
              "solidity": 0.2
             }
            },
            "type": "barpolar"
           }
          ],
          "carpet": [
           {
            "aaxis": {
             "endlinecolor": "#2a3f5f",
             "gridcolor": "white",
             "linecolor": "white",
             "minorgridcolor": "white",
             "startlinecolor": "#2a3f5f"
            },
            "baxis": {
             "endlinecolor": "#2a3f5f",
             "gridcolor": "white",
             "linecolor": "white",
             "minorgridcolor": "white",
             "startlinecolor": "#2a3f5f"
            },
            "type": "carpet"
           }
          ],
          "choropleth": [
           {
            "colorbar": {
             "outlinewidth": 0,
             "ticks": ""
            },
            "type": "choropleth"
           }
          ],
          "contour": [
           {
            "colorbar": {
             "outlinewidth": 0,
             "ticks": ""
            },
            "colorscale": [
             [
              0,
              "#0d0887"
             ],
             [
              0.1111111111111111,
              "#46039f"
             ],
             [
              0.2222222222222222,
              "#7201a8"
             ],
             [
              0.3333333333333333,
              "#9c179e"
             ],
             [
              0.4444444444444444,
              "#bd3786"
             ],
             [
              0.5555555555555556,
              "#d8576b"
             ],
             [
              0.6666666666666666,
              "#ed7953"
             ],
             [
              0.7777777777777778,
              "#fb9f3a"
             ],
             [
              0.8888888888888888,
              "#fdca26"
             ],
             [
              1,
              "#f0f921"
             ]
            ],
            "type": "contour"
           }
          ],
          "contourcarpet": [
           {
            "colorbar": {
             "outlinewidth": 0,
             "ticks": ""
            },
            "type": "contourcarpet"
           }
          ],
          "heatmap": [
           {
            "colorbar": {
             "outlinewidth": 0,
             "ticks": ""
            },
            "colorscale": [
             [
              0,
              "#0d0887"
             ],
             [
              0.1111111111111111,
              "#46039f"
             ],
             [
              0.2222222222222222,
              "#7201a8"
             ],
             [
              0.3333333333333333,
              "#9c179e"
             ],
             [
              0.4444444444444444,
              "#bd3786"
             ],
             [
              0.5555555555555556,
              "#d8576b"
             ],
             [
              0.6666666666666666,
              "#ed7953"
             ],
             [
              0.7777777777777778,
              "#fb9f3a"
             ],
             [
              0.8888888888888888,
              "#fdca26"
             ],
             [
              1,
              "#f0f921"
             ]
            ],
            "type": "heatmap"
           }
          ],
          "heatmapgl": [
           {
            "colorbar": {
             "outlinewidth": 0,
             "ticks": ""
            },
            "colorscale": [
             [
              0,
              "#0d0887"
             ],
             [
              0.1111111111111111,
              "#46039f"
             ],
             [
              0.2222222222222222,
              "#7201a8"
             ],
             [
              0.3333333333333333,
              "#9c179e"
             ],
             [
              0.4444444444444444,
              "#bd3786"
             ],
             [
              0.5555555555555556,
              "#d8576b"
             ],
             [
              0.6666666666666666,
              "#ed7953"
             ],
             [
              0.7777777777777778,
              "#fb9f3a"
             ],
             [
              0.8888888888888888,
              "#fdca26"
             ],
             [
              1,
              "#f0f921"
             ]
            ],
            "type": "heatmapgl"
           }
          ],
          "histogram": [
           {
            "marker": {
             "pattern": {
              "fillmode": "overlay",
              "size": 10,
              "solidity": 0.2
             }
            },
            "type": "histogram"
           }
          ],
          "histogram2d": [
           {
            "colorbar": {
             "outlinewidth": 0,
             "ticks": ""
            },
            "colorscale": [
             [
              0,
              "#0d0887"
             ],
             [
              0.1111111111111111,
              "#46039f"
             ],
             [
              0.2222222222222222,
              "#7201a8"
             ],
             [
              0.3333333333333333,
              "#9c179e"
             ],
             [
              0.4444444444444444,
              "#bd3786"
             ],
             [
              0.5555555555555556,
              "#d8576b"
             ],
             [
              0.6666666666666666,
              "#ed7953"
             ],
             [
              0.7777777777777778,
              "#fb9f3a"
             ],
             [
              0.8888888888888888,
              "#fdca26"
             ],
             [
              1,
              "#f0f921"
             ]
            ],
            "type": "histogram2d"
           }
          ],
          "histogram2dcontour": [
           {
            "colorbar": {
             "outlinewidth": 0,
             "ticks": ""
            },
            "colorscale": [
             [
              0,
              "#0d0887"
             ],
             [
              0.1111111111111111,
              "#46039f"
             ],
             [
              0.2222222222222222,
              "#7201a8"
             ],
             [
              0.3333333333333333,
              "#9c179e"
             ],
             [
              0.4444444444444444,
              "#bd3786"
             ],
             [
              0.5555555555555556,
              "#d8576b"
             ],
             [
              0.6666666666666666,
              "#ed7953"
             ],
             [
              0.7777777777777778,
              "#fb9f3a"
             ],
             [
              0.8888888888888888,
              "#fdca26"
             ],
             [
              1,
              "#f0f921"
             ]
            ],
            "type": "histogram2dcontour"
           }
          ],
          "mesh3d": [
           {
            "colorbar": {
             "outlinewidth": 0,
             "ticks": ""
            },
            "type": "mesh3d"
           }
          ],
          "parcoords": [
           {
            "line": {
             "colorbar": {
              "outlinewidth": 0,
              "ticks": ""
             }
            },
            "type": "parcoords"
           }
          ],
          "pie": [
           {
            "automargin": true,
            "type": "pie"
           }
          ],
          "scatter": [
           {
            "fillpattern": {
             "fillmode": "overlay",
             "size": 10,
             "solidity": 0.2
            },
            "type": "scatter"
           }
          ],
          "scatter3d": [
           {
            "line": {
             "colorbar": {
              "outlinewidth": 0,
              "ticks": ""
             }
            },
            "marker": {
             "colorbar": {
              "outlinewidth": 0,
              "ticks": ""
             }
            },
            "type": "scatter3d"
           }
          ],
          "scattercarpet": [
           {
            "marker": {
             "colorbar": {
              "outlinewidth": 0,
              "ticks": ""
             }
            },
            "type": "scattercarpet"
           }
          ],
          "scattergeo": [
           {
            "marker": {
             "colorbar": {
              "outlinewidth": 0,
              "ticks": ""
             }
            },
            "type": "scattergeo"
           }
          ],
          "scattergl": [
           {
            "marker": {
             "colorbar": {
              "outlinewidth": 0,
              "ticks": ""
             }
            },
            "type": "scattergl"
           }
          ],
          "scattermapbox": [
           {
            "marker": {
             "colorbar": {
              "outlinewidth": 0,
              "ticks": ""
             }
            },
            "type": "scattermapbox"
           }
          ],
          "scatterpolar": [
           {
            "marker": {
             "colorbar": {
              "outlinewidth": 0,
              "ticks": ""
             }
            },
            "type": "scatterpolar"
           }
          ],
          "scatterpolargl": [
           {
            "marker": {
             "colorbar": {
              "outlinewidth": 0,
              "ticks": ""
             }
            },
            "type": "scatterpolargl"
           }
          ],
          "scatterternary": [
           {
            "marker": {
             "colorbar": {
              "outlinewidth": 0,
              "ticks": ""
             }
            },
            "type": "scatterternary"
           }
          ],
          "surface": [
           {
            "colorbar": {
             "outlinewidth": 0,
             "ticks": ""
            },
            "colorscale": [
             [
              0,
              "#0d0887"
             ],
             [
              0.1111111111111111,
              "#46039f"
             ],
             [
              0.2222222222222222,
              "#7201a8"
             ],
             [
              0.3333333333333333,
              "#9c179e"
             ],
             [
              0.4444444444444444,
              "#bd3786"
             ],
             [
              0.5555555555555556,
              "#d8576b"
             ],
             [
              0.6666666666666666,
              "#ed7953"
             ],
             [
              0.7777777777777778,
              "#fb9f3a"
             ],
             [
              0.8888888888888888,
              "#fdca26"
             ],
             [
              1,
              "#f0f921"
             ]
            ],
            "type": "surface"
           }
          ],
          "table": [
           {
            "cells": {
             "fill": {
              "color": "#EBF0F8"
             },
             "line": {
              "color": "white"
             }
            },
            "header": {
             "fill": {
              "color": "#C8D4E3"
             },
             "line": {
              "color": "white"
             }
            },
            "type": "table"
           }
          ]
         },
         "layout": {
          "annotationdefaults": {
           "arrowcolor": "#2a3f5f",
           "arrowhead": 0,
           "arrowwidth": 1
          },
          "autotypenumbers": "strict",
          "coloraxis": {
           "colorbar": {
            "outlinewidth": 0,
            "ticks": ""
           }
          },
          "colorscale": {
           "diverging": [
            [
             0,
             "#8e0152"
            ],
            [
             0.1,
             "#c51b7d"
            ],
            [
             0.2,
             "#de77ae"
            ],
            [
             0.3,
             "#f1b6da"
            ],
            [
             0.4,
             "#fde0ef"
            ],
            [
             0.5,
             "#f7f7f7"
            ],
            [
             0.6,
             "#e6f5d0"
            ],
            [
             0.7,
             "#b8e186"
            ],
            [
             0.8,
             "#7fbc41"
            ],
            [
             0.9,
             "#4d9221"
            ],
            [
             1,
             "#276419"
            ]
           ],
           "sequential": [
            [
             0,
             "#0d0887"
            ],
            [
             0.1111111111111111,
             "#46039f"
            ],
            [
             0.2222222222222222,
             "#7201a8"
            ],
            [
             0.3333333333333333,
             "#9c179e"
            ],
            [
             0.4444444444444444,
             "#bd3786"
            ],
            [
             0.5555555555555556,
             "#d8576b"
            ],
            [
             0.6666666666666666,
             "#ed7953"
            ],
            [
             0.7777777777777778,
             "#fb9f3a"
            ],
            [
             0.8888888888888888,
             "#fdca26"
            ],
            [
             1,
             "#f0f921"
            ]
           ],
           "sequentialminus": [
            [
             0,
             "#0d0887"
            ],
            [
             0.1111111111111111,
             "#46039f"
            ],
            [
             0.2222222222222222,
             "#7201a8"
            ],
            [
             0.3333333333333333,
             "#9c179e"
            ],
            [
             0.4444444444444444,
             "#bd3786"
            ],
            [
             0.5555555555555556,
             "#d8576b"
            ],
            [
             0.6666666666666666,
             "#ed7953"
            ],
            [
             0.7777777777777778,
             "#fb9f3a"
            ],
            [
             0.8888888888888888,
             "#fdca26"
            ],
            [
             1,
             "#f0f921"
            ]
           ]
          },
          "colorway": [
           "#636efa",
           "#EF553B",
           "#00cc96",
           "#ab63fa",
           "#FFA15A",
           "#19d3f3",
           "#FF6692",
           "#B6E880",
           "#FF97FF",
           "#FECB52"
          ],
          "font": {
           "color": "#2a3f5f"
          },
          "geo": {
           "bgcolor": "white",
           "lakecolor": "white",
           "landcolor": "#E5ECF6",
           "showlakes": true,
           "showland": true,
           "subunitcolor": "white"
          },
          "hoverlabel": {
           "align": "left"
          },
          "hovermode": "closest",
          "mapbox": {
           "style": "light"
          },
          "paper_bgcolor": "white",
          "plot_bgcolor": "#E5ECF6",
          "polar": {
           "angularaxis": {
            "gridcolor": "white",
            "linecolor": "white",
            "ticks": ""
           },
           "bgcolor": "#E5ECF6",
           "radialaxis": {
            "gridcolor": "white",
            "linecolor": "white",
            "ticks": ""
           }
          },
          "scene": {
           "xaxis": {
            "backgroundcolor": "#E5ECF6",
            "gridcolor": "white",
            "gridwidth": 2,
            "linecolor": "white",
            "showbackground": true,
            "ticks": "",
            "zerolinecolor": "white"
           },
           "yaxis": {
            "backgroundcolor": "#E5ECF6",
            "gridcolor": "white",
            "gridwidth": 2,
            "linecolor": "white",
            "showbackground": true,
            "ticks": "",
            "zerolinecolor": "white"
           },
           "zaxis": {
            "backgroundcolor": "#E5ECF6",
            "gridcolor": "white",
            "gridwidth": 2,
            "linecolor": "white",
            "showbackground": true,
            "ticks": "",
            "zerolinecolor": "white"
           }
          },
          "shapedefaults": {
           "line": {
            "color": "#2a3f5f"
           }
          },
          "ternary": {
           "aaxis": {
            "gridcolor": "white",
            "linecolor": "white",
            "ticks": ""
           },
           "baxis": {
            "gridcolor": "white",
            "linecolor": "white",
            "ticks": ""
           },
           "bgcolor": "#E5ECF6",
           "caxis": {
            "gridcolor": "white",
            "linecolor": "white",
            "ticks": ""
           }
          },
          "title": {
           "x": 0.05
          },
          "xaxis": {
           "automargin": true,
           "gridcolor": "white",
           "linecolor": "white",
           "ticks": "",
           "title": {
            "standoff": 15
           },
           "zerolinecolor": "white",
           "zerolinewidth": 2
          },
          "yaxis": {
           "automargin": true,
           "gridcolor": "white",
           "linecolor": "white",
           "ticks": "",
           "title": {
            "standoff": 15
           },
           "zerolinecolor": "white",
           "zerolinewidth": 2
          }
         }
        },
        "title": {
         "text": "Top 5 Routes by Revenue-to-Cost Ratio"
        },
        "xaxis": {
         "anchor": "y",
         "domain": [
          0,
          1
         ],
         "title": {
          "text": "Revenue to Cost Ratio"
         }
        },
        "yaxis": {
         "anchor": "x",
         "autorange": "reversed",
         "domain": [
          0,
          1
         ],
         "title": {
          "text": "Route"
         }
        }
       }
      }
     },
     "metadata": {},
     "output_type": "display_data"
    }
   ],
   "source": [
    "fig = px.bar(\n",
    "    top_rev_cost_routes,\n",
    "    x='REV_TO_COST_RATIO',\n",
    "    y='ROUTE_NAME_CITY',\n",
    "    orientation='h',\n",
    "    text='REV_TO_COST_RATIO',\n",
    "    title='Top 5 Routes by Revenue-to-Cost Ratio',\n",
    "    color_discrete_sequence=['#EF553B']  # Custom solid red-orange color\n",
    ")\n",
    "\n",
    "fig.update_layout(\n",
    "    yaxis=dict(autorange='reversed'),\n",
    "    xaxis_title='Revenue to Cost Ratio',\n",
    "    yaxis_title='Route',\n",
    "    height=500\n",
    ")\n",
    "\n",
    "fig.update_traces(\n",
    "    texttemplate='%{text:.2f}',\n",
    "    textposition='inside'\n",
    ")\n",
    "\n",
    "fig.show()\n"
   ]
  },
  {
   "cell_type": "markdown",
   "id": "15db5234-a0a8-4946-875f-04bea6fc32fc",
   "metadata": {},
   "source": [
    "Insights:\n",
    "\n",
    "Fargo, ND → Minneapolis, MN stands out with a massive 5.9x return on cost. That's incredibly lean and efficient — great margins.\n",
    "\n",
    "Detroit, MI → Elmira/Corning, NY and Dallas/Fort Worth, TX → Lawton/Fort Sill, OK also push above 5x, making them low-cost, high-reward gems.\n",
    "\n",
    "Even the last two — ATL → EVV and DEN → EGE — are clocking near 5x, which is impressive for aviation."
   ]
  },
  {
   "cell_type": "code",
   "execution_count": 19,
   "id": "155e9448-369c-4387-a31d-d5c86bb40c44",
   "metadata": {},
   "outputs": [
    {
     "data": {
      "text/html": [
       "<div>\n",
       "<style scoped>\n",
       "    .dataframe tbody tr th:only-of-type {\n",
       "        vertical-align: middle;\n",
       "    }\n",
       "\n",
       "    .dataframe tbody tr th {\n",
       "        vertical-align: top;\n",
       "    }\n",
       "\n",
       "    .dataframe thead th {\n",
       "        text-align: right;\n",
       "    }\n",
       "</style>\n",
       "<table border=\"1\" class=\"dataframe\">\n",
       "  <thead>\n",
       "    <tr style=\"text-align: right;\">\n",
       "      <th></th>\n",
       "      <th>ROUTE_NAME_CITY</th>\n",
       "      <th>PROFIT</th>\n",
       "      <th>TOTAL_COST</th>\n",
       "      <th>MILEAGE_COST_PCT</th>\n",
       "      <th>AIRPORT_FEES_PCT</th>\n",
       "      <th>DELAY_COST_PCT</th>\n",
       "    </tr>\n",
       "  </thead>\n",
       "  <tbody>\n",
       "    <tr>\n",
       "      <th>154</th>\n",
       "      <td>Aspen, CO -&gt; Chicago, IL</td>\n",
       "      <td>45187761.89</td>\n",
       "      <td>26408562.48</td>\n",
       "      <td>0.553554</td>\n",
       "      <td>0.446446</td>\n",
       "      <td>0.0</td>\n",
       "    </tr>\n",
       "    <tr>\n",
       "      <th>3633</th>\n",
       "      <td>Houston, TX -&gt; Midland/Odessa, TX</td>\n",
       "      <td>45059781.71</td>\n",
       "      <td>16265148.84</td>\n",
       "      <td>0.344304</td>\n",
       "      <td>0.655696</td>\n",
       "      <td>0.0</td>\n",
       "    </tr>\n",
       "    <tr>\n",
       "      <th>1129</th>\n",
       "      <td>Baton Rouge, LA -&gt; Dallas/Fort Worth, TX</td>\n",
       "      <td>43640224.61</td>\n",
       "      <td>20467616.52</td>\n",
       "      <td>0.319168</td>\n",
       "      <td>0.680832</td>\n",
       "      <td>0.0</td>\n",
       "    </tr>\n",
       "    <tr>\n",
       "      <th>3497</th>\n",
       "      <td>West Palm Beach/Palm Beach, FL -&gt; White Plains...</td>\n",
       "      <td>40513202.43</td>\n",
       "      <td>29367488.64</td>\n",
       "      <td>0.563803</td>\n",
       "      <td>0.436197</td>\n",
       "      <td>0.0</td>\n",
       "    </tr>\n",
       "    <tr>\n",
       "      <th>152</th>\n",
       "      <td>Aspen, CO -&gt; Los Angeles, CA</td>\n",
       "      <td>40033338.68</td>\n",
       "      <td>23852183.52</td>\n",
       "      <td>0.474262</td>\n",
       "      <td>0.525738</td>\n",
       "      <td>0.0</td>\n",
       "    </tr>\n",
       "  </tbody>\n",
       "</table>\n",
       "</div>"
      ],
      "text/plain": [
       "                                        ROUTE_NAME_CITY       PROFIT  \\\n",
       "154                            Aspen, CO -> Chicago, IL  45187761.89   \n",
       "3633                  Houston, TX -> Midland/Odessa, TX  45059781.71   \n",
       "1129           Baton Rouge, LA -> Dallas/Fort Worth, TX  43640224.61   \n",
       "3497  West Palm Beach/Palm Beach, FL -> White Plains...  40513202.43   \n",
       "152                        Aspen, CO -> Los Angeles, CA  40033338.68   \n",
       "\n",
       "       TOTAL_COST  MILEAGE_COST_PCT  AIRPORT_FEES_PCT  DELAY_COST_PCT  \n",
       "154   26408562.48          0.553554          0.446446             0.0  \n",
       "3633  16265148.84          0.344304          0.655696             0.0  \n",
       "1129  20467616.52          0.319168          0.680832             0.0  \n",
       "3497  29367488.64          0.563803          0.436197             0.0  \n",
       "152   23852183.52          0.474262          0.525738             0.0  "
      ]
     },
     "execution_count": 19,
     "metadata": {},
     "output_type": "execute_result"
    }
   ],
   "source": [
    "# Step 1: Calculate cost component percentages\n",
    "df['MILEAGE_COST_PCT'] = df['MILEAGE_COST'] / df['TOTAL_COST']\n",
    "df['AIRPORT_FEES_PCT'] = df['AIRPORT_FEES'] / df['TOTAL_COST']\n",
    "df['DELAY_COST_PCT'] = df['DELAY_COST'] / df['TOTAL_COST']\n",
    "\n",
    "# Step 2: Filter for medium-large only\n",
    "filtered_df = df[\n",
    "    ((df['AIRPORT_A_SIZE'] == 'medium_airport') & (df['AIRPORT_B_SIZE'] == 'large_airport')) |\n",
    "    ((df['AIRPORT_A_SIZE'] == 'large_airport') & (df['AIRPORT_B_SIZE'] == 'medium_airport'))\n",
    "].copy()\n",
    "\n",
    "# Step 3: Filter for balanced routes\n",
    "balanced_routes = filtered_df[\n",
    "    (filtered_df['MILEAGE_COST_PCT'] <= 0.7) &\n",
    "    (filtered_df['AIRPORT_FEES_PCT'] <= 0.7) &\n",
    "    (filtered_df['DELAY_COST_PCT'] <= 0.7) &\n",
    "    (filtered_df['DELAY_COST_PCT'] <= filtered_df['DELAY_COST_PCT'].median())\n",
    "]\n",
    "\n",
    "# Step 4: Sort by profit or total cost (your call — let’s go with profit)\n",
    "top_balanced = balanced_routes.sort_values(by='PROFIT', ascending=False).head(5)\n",
    "\n",
    "# Step 5: Display key columns\n",
    "top_balanced[[\n",
    "    'ROUTE_NAME_CITY', 'PROFIT', 'TOTAL_COST',\n",
    "    'MILEAGE_COST_PCT', 'AIRPORT_FEES_PCT', 'DELAY_COST_PCT'\n",
    "]]\n"
   ]
  },
  {
   "cell_type": "code",
   "execution_count": 20,
   "id": "83bc9bfa-cb5c-45ea-b36c-05843531f631",
   "metadata": {},
   "outputs": [
    {
     "data": {
      "application/vnd.plotly.v1+json": {
       "config": {
        "plotlyServerURL": "https://plot.ly"
       },
       "data": [
        {
         "name": "Mileage Cost %",
         "type": "bar",
         "x": [
          "Aspen, CO -> Chicago, IL",
          "Houston, TX -> Midland/Odessa, TX",
          "Baton Rouge, LA -> Dallas/Fort Worth, TX",
          "West Palm Beach/Palm Beach, FL -> White Plains, NY",
          "Aspen, CO -> Los Angeles, CA"
         ],
         "y": [
          0.5535538896170921,
          0.3443035717095842,
          0.31916840505667243,
          0.5638033555735462,
          0.47426196895201483
         ]
        },
        {
         "name": "Airport Fees %",
         "type": "bar",
         "x": [
          "Aspen, CO -> Chicago, IL",
          "Houston, TX -> Midland/Odessa, TX",
          "Baton Rouge, LA -> Dallas/Fort Worth, TX",
          "West Palm Beach/Palm Beach, FL -> White Plains, NY",
          "Aspen, CO -> Los Angeles, CA"
         ],
         "y": [
          0.4464461103829079,
          0.6556964282904159,
          0.6808315949433276,
          0.43619664442645373,
          0.5257380310479852
         ]
        },
        {
         "name": "Delay Cost %",
         "type": "bar",
         "x": [
          "Aspen, CO -> Chicago, IL",
          "Houston, TX -> Midland/Odessa, TX",
          "Baton Rouge, LA -> Dallas/Fort Worth, TX",
          "West Palm Beach/Palm Beach, FL -> White Plains, NY",
          "Aspen, CO -> Los Angeles, CA"
         ],
         "y": [
          0,
          0,
          0,
          0,
          0
         ]
        }
       ],
       "layout": {
        "barmode": "stack",
        "height": 500,
        "legend": {
         "title": {
          "text": "Cost Component"
         }
        },
        "template": {
         "data": {
          "bar": [
           {
            "error_x": {
             "color": "#2a3f5f"
            },
            "error_y": {
             "color": "#2a3f5f"
            },
            "marker": {
             "line": {
              "color": "#E5ECF6",
              "width": 0.5
             },
             "pattern": {
              "fillmode": "overlay",
              "size": 10,
              "solidity": 0.2
             }
            },
            "type": "bar"
           }
          ],
          "barpolar": [
           {
            "marker": {
             "line": {
              "color": "#E5ECF6",
              "width": 0.5
             },
             "pattern": {
              "fillmode": "overlay",
              "size": 10,
              "solidity": 0.2
             }
            },
            "type": "barpolar"
           }
          ],
          "carpet": [
           {
            "aaxis": {
             "endlinecolor": "#2a3f5f",
             "gridcolor": "white",
             "linecolor": "white",
             "minorgridcolor": "white",
             "startlinecolor": "#2a3f5f"
            },
            "baxis": {
             "endlinecolor": "#2a3f5f",
             "gridcolor": "white",
             "linecolor": "white",
             "minorgridcolor": "white",
             "startlinecolor": "#2a3f5f"
            },
            "type": "carpet"
           }
          ],
          "choropleth": [
           {
            "colorbar": {
             "outlinewidth": 0,
             "ticks": ""
            },
            "type": "choropleth"
           }
          ],
          "contour": [
           {
            "colorbar": {
             "outlinewidth": 0,
             "ticks": ""
            },
            "colorscale": [
             [
              0,
              "#0d0887"
             ],
             [
              0.1111111111111111,
              "#46039f"
             ],
             [
              0.2222222222222222,
              "#7201a8"
             ],
             [
              0.3333333333333333,
              "#9c179e"
             ],
             [
              0.4444444444444444,
              "#bd3786"
             ],
             [
              0.5555555555555556,
              "#d8576b"
             ],
             [
              0.6666666666666666,
              "#ed7953"
             ],
             [
              0.7777777777777778,
              "#fb9f3a"
             ],
             [
              0.8888888888888888,
              "#fdca26"
             ],
             [
              1,
              "#f0f921"
             ]
            ],
            "type": "contour"
           }
          ],
          "contourcarpet": [
           {
            "colorbar": {
             "outlinewidth": 0,
             "ticks": ""
            },
            "type": "contourcarpet"
           }
          ],
          "heatmap": [
           {
            "colorbar": {
             "outlinewidth": 0,
             "ticks": ""
            },
            "colorscale": [
             [
              0,
              "#0d0887"
             ],
             [
              0.1111111111111111,
              "#46039f"
             ],
             [
              0.2222222222222222,
              "#7201a8"
             ],
             [
              0.3333333333333333,
              "#9c179e"
             ],
             [
              0.4444444444444444,
              "#bd3786"
             ],
             [
              0.5555555555555556,
              "#d8576b"
             ],
             [
              0.6666666666666666,
              "#ed7953"
             ],
             [
              0.7777777777777778,
              "#fb9f3a"
             ],
             [
              0.8888888888888888,
              "#fdca26"
             ],
             [
              1,
              "#f0f921"
             ]
            ],
            "type": "heatmap"
           }
          ],
          "heatmapgl": [
           {
            "colorbar": {
             "outlinewidth": 0,
             "ticks": ""
            },
            "colorscale": [
             [
              0,
              "#0d0887"
             ],
             [
              0.1111111111111111,
              "#46039f"
             ],
             [
              0.2222222222222222,
              "#7201a8"
             ],
             [
              0.3333333333333333,
              "#9c179e"
             ],
             [
              0.4444444444444444,
              "#bd3786"
             ],
             [
              0.5555555555555556,
              "#d8576b"
             ],
             [
              0.6666666666666666,
              "#ed7953"
             ],
             [
              0.7777777777777778,
              "#fb9f3a"
             ],
             [
              0.8888888888888888,
              "#fdca26"
             ],
             [
              1,
              "#f0f921"
             ]
            ],
            "type": "heatmapgl"
           }
          ],
          "histogram": [
           {
            "marker": {
             "pattern": {
              "fillmode": "overlay",
              "size": 10,
              "solidity": 0.2
             }
            },
            "type": "histogram"
           }
          ],
          "histogram2d": [
           {
            "colorbar": {
             "outlinewidth": 0,
             "ticks": ""
            },
            "colorscale": [
             [
              0,
              "#0d0887"
             ],
             [
              0.1111111111111111,
              "#46039f"
             ],
             [
              0.2222222222222222,
              "#7201a8"
             ],
             [
              0.3333333333333333,
              "#9c179e"
             ],
             [
              0.4444444444444444,
              "#bd3786"
             ],
             [
              0.5555555555555556,
              "#d8576b"
             ],
             [
              0.6666666666666666,
              "#ed7953"
             ],
             [
              0.7777777777777778,
              "#fb9f3a"
             ],
             [
              0.8888888888888888,
              "#fdca26"
             ],
             [
              1,
              "#f0f921"
             ]
            ],
            "type": "histogram2d"
           }
          ],
          "histogram2dcontour": [
           {
            "colorbar": {
             "outlinewidth": 0,
             "ticks": ""
            },
            "colorscale": [
             [
              0,
              "#0d0887"
             ],
             [
              0.1111111111111111,
              "#46039f"
             ],
             [
              0.2222222222222222,
              "#7201a8"
             ],
             [
              0.3333333333333333,
              "#9c179e"
             ],
             [
              0.4444444444444444,
              "#bd3786"
             ],
             [
              0.5555555555555556,
              "#d8576b"
             ],
             [
              0.6666666666666666,
              "#ed7953"
             ],
             [
              0.7777777777777778,
              "#fb9f3a"
             ],
             [
              0.8888888888888888,
              "#fdca26"
             ],
             [
              1,
              "#f0f921"
             ]
            ],
            "type": "histogram2dcontour"
           }
          ],
          "mesh3d": [
           {
            "colorbar": {
             "outlinewidth": 0,
             "ticks": ""
            },
            "type": "mesh3d"
           }
          ],
          "parcoords": [
           {
            "line": {
             "colorbar": {
              "outlinewidth": 0,
              "ticks": ""
             }
            },
            "type": "parcoords"
           }
          ],
          "pie": [
           {
            "automargin": true,
            "type": "pie"
           }
          ],
          "scatter": [
           {
            "fillpattern": {
             "fillmode": "overlay",
             "size": 10,
             "solidity": 0.2
            },
            "type": "scatter"
           }
          ],
          "scatter3d": [
           {
            "line": {
             "colorbar": {
              "outlinewidth": 0,
              "ticks": ""
             }
            },
            "marker": {
             "colorbar": {
              "outlinewidth": 0,
              "ticks": ""
             }
            },
            "type": "scatter3d"
           }
          ],
          "scattercarpet": [
           {
            "marker": {
             "colorbar": {
              "outlinewidth": 0,
              "ticks": ""
             }
            },
            "type": "scattercarpet"
           }
          ],
          "scattergeo": [
           {
            "marker": {
             "colorbar": {
              "outlinewidth": 0,
              "ticks": ""
             }
            },
            "type": "scattergeo"
           }
          ],
          "scattergl": [
           {
            "marker": {
             "colorbar": {
              "outlinewidth": 0,
              "ticks": ""
             }
            },
            "type": "scattergl"
           }
          ],
          "scattermapbox": [
           {
            "marker": {
             "colorbar": {
              "outlinewidth": 0,
              "ticks": ""
             }
            },
            "type": "scattermapbox"
           }
          ],
          "scatterpolar": [
           {
            "marker": {
             "colorbar": {
              "outlinewidth": 0,
              "ticks": ""
             }
            },
            "type": "scatterpolar"
           }
          ],
          "scatterpolargl": [
           {
            "marker": {
             "colorbar": {
              "outlinewidth": 0,
              "ticks": ""
             }
            },
            "type": "scatterpolargl"
           }
          ],
          "scatterternary": [
           {
            "marker": {
             "colorbar": {
              "outlinewidth": 0,
              "ticks": ""
             }
            },
            "type": "scatterternary"
           }
          ],
          "surface": [
           {
            "colorbar": {
             "outlinewidth": 0,
             "ticks": ""
            },
            "colorscale": [
             [
              0,
              "#0d0887"
             ],
             [
              0.1111111111111111,
              "#46039f"
             ],
             [
              0.2222222222222222,
              "#7201a8"
             ],
             [
              0.3333333333333333,
              "#9c179e"
             ],
             [
              0.4444444444444444,
              "#bd3786"
             ],
             [
              0.5555555555555556,
              "#d8576b"
             ],
             [
              0.6666666666666666,
              "#ed7953"
             ],
             [
              0.7777777777777778,
              "#fb9f3a"
             ],
             [
              0.8888888888888888,
              "#fdca26"
             ],
             [
              1,
              "#f0f921"
             ]
            ],
            "type": "surface"
           }
          ],
          "table": [
           {
            "cells": {
             "fill": {
              "color": "#EBF0F8"
             },
             "line": {
              "color": "white"
             }
            },
            "header": {
             "fill": {
              "color": "#C8D4E3"
             },
             "line": {
              "color": "white"
             }
            },
            "type": "table"
           }
          ]
         },
         "layout": {
          "annotationdefaults": {
           "arrowcolor": "#2a3f5f",
           "arrowhead": 0,
           "arrowwidth": 1
          },
          "autotypenumbers": "strict",
          "coloraxis": {
           "colorbar": {
            "outlinewidth": 0,
            "ticks": ""
           }
          },
          "colorscale": {
           "diverging": [
            [
             0,
             "#8e0152"
            ],
            [
             0.1,
             "#c51b7d"
            ],
            [
             0.2,
             "#de77ae"
            ],
            [
             0.3,
             "#f1b6da"
            ],
            [
             0.4,
             "#fde0ef"
            ],
            [
             0.5,
             "#f7f7f7"
            ],
            [
             0.6,
             "#e6f5d0"
            ],
            [
             0.7,
             "#b8e186"
            ],
            [
             0.8,
             "#7fbc41"
            ],
            [
             0.9,
             "#4d9221"
            ],
            [
             1,
             "#276419"
            ]
           ],
           "sequential": [
            [
             0,
             "#0d0887"
            ],
            [
             0.1111111111111111,
             "#46039f"
            ],
            [
             0.2222222222222222,
             "#7201a8"
            ],
            [
             0.3333333333333333,
             "#9c179e"
            ],
            [
             0.4444444444444444,
             "#bd3786"
            ],
            [
             0.5555555555555556,
             "#d8576b"
            ],
            [
             0.6666666666666666,
             "#ed7953"
            ],
            [
             0.7777777777777778,
             "#fb9f3a"
            ],
            [
             0.8888888888888888,
             "#fdca26"
            ],
            [
             1,
             "#f0f921"
            ]
           ],
           "sequentialminus": [
            [
             0,
             "#0d0887"
            ],
            [
             0.1111111111111111,
             "#46039f"
            ],
            [
             0.2222222222222222,
             "#7201a8"
            ],
            [
             0.3333333333333333,
             "#9c179e"
            ],
            [
             0.4444444444444444,
             "#bd3786"
            ],
            [
             0.5555555555555556,
             "#d8576b"
            ],
            [
             0.6666666666666666,
             "#ed7953"
            ],
            [
             0.7777777777777778,
             "#fb9f3a"
            ],
            [
             0.8888888888888888,
             "#fdca26"
            ],
            [
             1,
             "#f0f921"
            ]
           ]
          },
          "colorway": [
           "#636efa",
           "#EF553B",
           "#00cc96",
           "#ab63fa",
           "#FFA15A",
           "#19d3f3",
           "#FF6692",
           "#B6E880",
           "#FF97FF",
           "#FECB52"
          ],
          "font": {
           "color": "#2a3f5f"
          },
          "geo": {
           "bgcolor": "white",
           "lakecolor": "white",
           "landcolor": "#E5ECF6",
           "showlakes": true,
           "showland": true,
           "subunitcolor": "white"
          },
          "hoverlabel": {
           "align": "left"
          },
          "hovermode": "closest",
          "mapbox": {
           "style": "light"
          },
          "paper_bgcolor": "white",
          "plot_bgcolor": "#E5ECF6",
          "polar": {
           "angularaxis": {
            "gridcolor": "white",
            "linecolor": "white",
            "ticks": ""
           },
           "bgcolor": "#E5ECF6",
           "radialaxis": {
            "gridcolor": "white",
            "linecolor": "white",
            "ticks": ""
           }
          },
          "scene": {
           "xaxis": {
            "backgroundcolor": "#E5ECF6",
            "gridcolor": "white",
            "gridwidth": 2,
            "linecolor": "white",
            "showbackground": true,
            "ticks": "",
            "zerolinecolor": "white"
           },
           "yaxis": {
            "backgroundcolor": "#E5ECF6",
            "gridcolor": "white",
            "gridwidth": 2,
            "linecolor": "white",
            "showbackground": true,
            "ticks": "",
            "zerolinecolor": "white"
           },
           "zaxis": {
            "backgroundcolor": "#E5ECF6",
            "gridcolor": "white",
            "gridwidth": 2,
            "linecolor": "white",
            "showbackground": true,
            "ticks": "",
            "zerolinecolor": "white"
           }
          },
          "shapedefaults": {
           "line": {
            "color": "#2a3f5f"
           }
          },
          "ternary": {
           "aaxis": {
            "gridcolor": "white",
            "linecolor": "white",
            "ticks": ""
           },
           "baxis": {
            "gridcolor": "white",
            "linecolor": "white",
            "ticks": ""
           },
           "bgcolor": "#E5ECF6",
           "caxis": {
            "gridcolor": "white",
            "linecolor": "white",
            "ticks": ""
           }
          },
          "title": {
           "x": 0.05
          },
          "xaxis": {
           "automargin": true,
           "gridcolor": "white",
           "linecolor": "white",
           "ticks": "",
           "title": {
            "standoff": 15
           },
           "zerolinecolor": "white",
           "zerolinewidth": 2
          },
          "yaxis": {
           "automargin": true,
           "gridcolor": "white",
           "linecolor": "white",
           "ticks": "",
           "title": {
            "standoff": 15
           },
           "zerolinecolor": "white",
           "zerolinewidth": 2
          }
         }
        },
        "title": {
         "text": "Cost Structure Breakdown (Top 5 Balanced Routes)"
        },
        "xaxis": {
         "title": {
          "text": "Route"
         }
        },
        "yaxis": {
         "tickformat": ".0%",
         "title": {
          "text": "Cost Percentage of Total Cost"
         }
        }
       }
      }
     },
     "metadata": {},
     "output_type": "display_data"
    }
   ],
   "source": [
    "import plotly.graph_objects as go\n",
    "\n",
    "# Prepare the figure\n",
    "fig = go.Figure()\n",
    "\n",
    "# Add stacked bars\n",
    "fig.add_trace(go.Bar(\n",
    "    x=top_balanced['ROUTE_NAME_CITY'],\n",
    "    y=top_balanced['MILEAGE_COST_PCT'],\n",
    "    name='Mileage Cost %'\n",
    "))\n",
    "\n",
    "fig.add_trace(go.Bar(\n",
    "    x=top_balanced['ROUTE_NAME_CITY'],\n",
    "    y=top_balanced['AIRPORT_FEES_PCT'],\n",
    "    name='Airport Fees %'\n",
    "))\n",
    "\n",
    "fig.add_trace(go.Bar(\n",
    "    x=top_balanced['ROUTE_NAME_CITY'],\n",
    "    y=top_balanced['DELAY_COST_PCT'],\n",
    "    name='Delay Cost %'\n",
    "))\n",
    "\n",
    "# Customize layout\n",
    "fig.update_layout(\n",
    "    barmode='stack',\n",
    "    title='Cost Structure Breakdown (Top 5 Balanced Routes)',\n",
    "    xaxis_title='Route',\n",
    "    yaxis_title='Cost Percentage of Total Cost',\n",
    "    yaxis_tickformat='.0%',\n",
    "    legend_title='Cost Component',\n",
    "    height=500\n",
    ")\n",
    "\n",
    "fig.show()\n"
   ]
  },
  {
   "cell_type": "markdown",
   "id": "dd823478-7da3-441b-a58e-c5c5819460fd",
   "metadata": {},
   "source": [
    "These routes have well-distributed cost structures — no single cost (like delay or airport fees) dominates the total expense.\n",
    "\n",
    "All routes have zero delay cost, which is a big operational win.\n",
    "\n",
    "Airport fees and mileage costs are both well below 70%, which means the airline isn’t overly dependent on airport negotiations or distance-driven fuel costs.\n",
    "\n",
    "Every one of these routes is already very profitable (profits over $40M), meaning these aren’t just cost-efficient — they’re money-makers."
   ]
  },
  {
   "cell_type": "markdown",
   "id": "1d58a4a8-0e91-4234-acce-c59e5dcb8847",
   "metadata": {},
   "source": [
    "#### Question 4"
   ]
  },
  {
   "cell_type": "code",
   "execution_count": 21,
   "id": "892a93f5-a1e2-4579-954c-4e75401e559c",
   "metadata": {},
   "outputs": [
    {
     "data": {
      "text/html": [
       "<div>\n",
       "<style scoped>\n",
       "    .dataframe tbody tr th:only-of-type {\n",
       "        vertical-align: middle;\n",
       "    }\n",
       "\n",
       "    .dataframe tbody tr th {\n",
       "        vertical-align: top;\n",
       "    }\n",
       "\n",
       "    .dataframe thead th {\n",
       "        text-align: right;\n",
       "    }\n",
       "</style>\n",
       "<table border=\"1\" class=\"dataframe\">\n",
       "  <thead>\n",
       "    <tr style=\"text-align: right;\">\n",
       "      <th></th>\n",
       "      <th>ROUTE_NAME_CITY</th>\n",
       "      <th>TOTAL_FLIGHTS</th>\n",
       "      <th>PROFIT</th>\n",
       "      <th>PROFIT_PER_FLIGHT</th>\n",
       "      <th>BREAKEVEN_FLIGHTS</th>\n",
       "      <th>ESTIMATED_PASSENGERS</th>\n",
       "      <th>AVG_TOTAL_DELAY</th>\n",
       "    </tr>\n",
       "  </thead>\n",
       "  <tbody>\n",
       "    <tr>\n",
       "      <th>1587</th>\n",
       "      <td>Charlotte, NC -&gt; Wilmington, NC</td>\n",
       "      <td>413</td>\n",
       "      <td>2.909971e+07</td>\n",
       "      <td>70459.351186</td>\n",
       "      <td>1277.0</td>\n",
       "      <td>54447.341002</td>\n",
       "      <td>-8.606714</td>\n",
       "    </tr>\n",
       "    <tr>\n",
       "      <th>1588</th>\n",
       "      <td>Charlotte, NC -&gt; Wilmington, NC</td>\n",
       "      <td>1052</td>\n",
       "      <td>7.403043e+07</td>\n",
       "      <td>70371.130038</td>\n",
       "      <td>1279.0</td>\n",
       "      <td>137734.000000</td>\n",
       "      <td>-3.121673</td>\n",
       "    </tr>\n",
       "    <tr>\n",
       "      <th>1635</th>\n",
       "      <td>Charlotte, NC -&gt; Myrtle Beach, SC</td>\n",
       "      <td>1202</td>\n",
       "      <td>6.843685e+07</td>\n",
       "      <td>56935.811947</td>\n",
       "      <td>1581.0</td>\n",
       "      <td>155010.000000</td>\n",
       "      <td>-7.555740</td>\n",
       "    </tr>\n",
       "    <tr>\n",
       "      <th>3437</th>\n",
       "      <td>Honolulu, HI -&gt; Kahului, HI</td>\n",
       "      <td>4794</td>\n",
       "      <td>1.119420e+08</td>\n",
       "      <td>23350.428260</td>\n",
       "      <td>3854.0</td>\n",
       "      <td>620949.512812</td>\n",
       "      <td>-2.367031</td>\n",
       "    </tr>\n",
       "    <tr>\n",
       "      <th>3423</th>\n",
       "      <td>Honolulu, HI -&gt; Kona, HI</td>\n",
       "      <td>3018</td>\n",
       "      <td>6.627518e+07</td>\n",
       "      <td>21959.968111</td>\n",
       "      <td>4098.0</td>\n",
       "      <td>391008.000000</td>\n",
       "      <td>-3.710736</td>\n",
       "    </tr>\n",
       "    <tr>\n",
       "      <th>3432</th>\n",
       "      <td>Honolulu, HI -&gt; Lihue, HI</td>\n",
       "      <td>3138</td>\n",
       "      <td>6.380279e+07</td>\n",
       "      <td>20332.310656</td>\n",
       "      <td>4426.0</td>\n",
       "      <td>410823.475996</td>\n",
       "      <td>-2.790991</td>\n",
       "    </tr>\n",
       "  </tbody>\n",
       "</table>\n",
       "</div>"
      ],
      "text/plain": [
       "                        ROUTE_NAME_CITY  TOTAL_FLIGHTS        PROFIT  \\\n",
       "1587    Charlotte, NC -> Wilmington, NC            413  2.909971e+07   \n",
       "1588    Charlotte, NC -> Wilmington, NC           1052  7.403043e+07   \n",
       "1635  Charlotte, NC -> Myrtle Beach, SC           1202  6.843685e+07   \n",
       "3437        Honolulu, HI -> Kahului, HI           4794  1.119420e+08   \n",
       "3423           Honolulu, HI -> Kona, HI           3018  6.627518e+07   \n",
       "3432          Honolulu, HI -> Lihue, HI           3138  6.380279e+07   \n",
       "\n",
       "      PROFIT_PER_FLIGHT  BREAKEVEN_FLIGHTS  ESTIMATED_PASSENGERS  \\\n",
       "1587       70459.351186             1277.0          54447.341002   \n",
       "1588       70371.130038             1279.0         137734.000000   \n",
       "1635       56935.811947             1581.0         155010.000000   \n",
       "3437       23350.428260             3854.0         620949.512812   \n",
       "3423       21959.968111             4098.0         391008.000000   \n",
       "3432       20332.310656             4426.0         410823.475996   \n",
       "\n",
       "      AVG_TOTAL_DELAY  \n",
       "1587        -8.606714  \n",
       "1588        -3.121673  \n",
       "1635        -7.555740  \n",
       "3437        -2.367031  \n",
       "3423        -3.710736  \n",
       "3432        -2.790991  "
      ]
     },
     "execution_count": 21,
     "metadata": {},
     "output_type": "execute_result"
    }
   ],
   "source": [
    "# Filter for top 5 recommended routes — update the list as per your final selection\n",
    "top_5_recommend = df[df['ROUTE_NAME_CITY'].isin([\n",
    "    \"Honolulu, HI -> Kahului, HI\",\n",
    "    \"Charlotte, NC -> Wilmington, NC\",\n",
    "    \"Charlotte, NC -> Myrtle Beach, SC\",\n",
    "    \"Honolulu, HI -> Kona, HI\",\n",
    "    \"Honolulu, HI -> Lihue, HI\"\n",
    "])].copy()\n",
    "\n",
    "# Calculate profit per round trip flight\n",
    "top_5_recommend['PROFIT_PER_FLIGHT'] = top_5_recommend['PROFIT'] / top_5_recommend['TOTAL_FLIGHTS']\n",
    "\n",
    "# Set airplane cost\n",
    "airplane_cost = 90_000_000\n",
    "\n",
    "# Calculate breakeven flights needed\n",
    "top_5_recommend['BREAKEVEN_FLIGHTS'] = (airplane_cost / top_5_recommend['PROFIT_PER_FLIGHT']).round()\n",
    "\n",
    "# Select and display summary metrics\n",
    "breakeven_summary = top_5_recommend[[\n",
    "    'ROUTE_NAME_CITY',\n",
    "    'TOTAL_FLIGHTS',\n",
    "    'PROFIT',\n",
    "    'PROFIT_PER_FLIGHT',\n",
    "    'BREAKEVEN_FLIGHTS',\n",
    "    'ESTIMATED_PASSENGERS',\n",
    "    'AVG_TOTAL_DELAY'\n",
    "]]\n",
    "\n",
    "breakeven_summary.sort_values(by='BREAKEVEN_FLIGHTS')\n"
   ]
  },
  {
   "cell_type": "code",
   "execution_count": 22,
   "id": "836c69aa-39d6-4511-9010-29a1bc4297ef",
   "metadata": {},
   "outputs": [
    {
     "data": {
      "application/vnd.plotly.v1+json": {
       "config": {
        "plotlyServerURL": "https://plot.ly"
       },
       "data": [
        {
         "alignmentgroup": "True",
         "hovertemplate": "Flights to Breakeven=%{text}<br>Route=%{y}<br>PROFIT_PER_FLIGHT=%{marker.color}<extra></extra>",
         "legendgroup": "",
         "marker": {
          "color": [
           70459.35118644068,
           70371.1300380228,
           56935.8119467554,
           23350.428260325407,
           21959.968111332008,
           20332.31065646909
          ],
          "coloraxis": "coloraxis",
          "pattern": {
           "shape": ""
          }
         },
         "name": "",
         "offsetgroup": "",
         "orientation": "h",
         "showlegend": false,
         "text": [
          1277,
          1279,
          1581,
          3854,
          4098,
          4426
         ],
         "textposition": "outside",
         "texttemplate": "%{text:.0f}",
         "type": "bar",
         "x": [
          1277,
          1279,
          1581,
          3854,
          4098,
          4426
         ],
         "xaxis": "x",
         "y": [
          "Charlotte, NC -> Wilmington, NC",
          "Charlotte, NC -> Wilmington, NC",
          "Charlotte, NC -> Myrtle Beach, SC",
          "Honolulu, HI -> Kahului, HI",
          "Honolulu, HI -> Kona, HI",
          "Honolulu, HI -> Lihue, HI"
         ],
         "yaxis": "y"
        }
       ],
       "layout": {
        "barmode": "relative",
        "coloraxis": {
         "colorbar": {
          "title": {
           "text": "Profit per Flight ($)"
          }
         },
         "colorscale": [
          [
           0,
           "#440154"
          ],
          [
           0.1111111111111111,
           "#482878"
          ],
          [
           0.2222222222222222,
           "#3e4989"
          ],
          [
           0.3333333333333333,
           "#31688e"
          ],
          [
           0.4444444444444444,
           "#26828e"
          ],
          [
           0.5555555555555556,
           "#1f9e89"
          ],
          [
           0.6666666666666666,
           "#35b779"
          ],
          [
           0.7777777777777778,
           "#6ece58"
          ],
          [
           0.8888888888888888,
           "#b5de2b"
          ],
          [
           1,
           "#fde725"
          ]
         ]
        },
        "font": {
         "size": 14
        },
        "legend": {
         "tracegroupgap": 0
        },
        "plot_bgcolor": "white",
        "template": {
         "data": {
          "bar": [
           {
            "error_x": {
             "color": "#2a3f5f"
            },
            "error_y": {
             "color": "#2a3f5f"
            },
            "marker": {
             "line": {
              "color": "#E5ECF6",
              "width": 0.5
             },
             "pattern": {
              "fillmode": "overlay",
              "size": 10,
              "solidity": 0.2
             }
            },
            "type": "bar"
           }
          ],
          "barpolar": [
           {
            "marker": {
             "line": {
              "color": "#E5ECF6",
              "width": 0.5
             },
             "pattern": {
              "fillmode": "overlay",
              "size": 10,
              "solidity": 0.2
             }
            },
            "type": "barpolar"
           }
          ],
          "carpet": [
           {
            "aaxis": {
             "endlinecolor": "#2a3f5f",
             "gridcolor": "white",
             "linecolor": "white",
             "minorgridcolor": "white",
             "startlinecolor": "#2a3f5f"
            },
            "baxis": {
             "endlinecolor": "#2a3f5f",
             "gridcolor": "white",
             "linecolor": "white",
             "minorgridcolor": "white",
             "startlinecolor": "#2a3f5f"
            },
            "type": "carpet"
           }
          ],
          "choropleth": [
           {
            "colorbar": {
             "outlinewidth": 0,
             "ticks": ""
            },
            "type": "choropleth"
           }
          ],
          "contour": [
           {
            "colorbar": {
             "outlinewidth": 0,
             "ticks": ""
            },
            "colorscale": [
             [
              0,
              "#0d0887"
             ],
             [
              0.1111111111111111,
              "#46039f"
             ],
             [
              0.2222222222222222,
              "#7201a8"
             ],
             [
              0.3333333333333333,
              "#9c179e"
             ],
             [
              0.4444444444444444,
              "#bd3786"
             ],
             [
              0.5555555555555556,
              "#d8576b"
             ],
             [
              0.6666666666666666,
              "#ed7953"
             ],
             [
              0.7777777777777778,
              "#fb9f3a"
             ],
             [
              0.8888888888888888,
              "#fdca26"
             ],
             [
              1,
              "#f0f921"
             ]
            ],
            "type": "contour"
           }
          ],
          "contourcarpet": [
           {
            "colorbar": {
             "outlinewidth": 0,
             "ticks": ""
            },
            "type": "contourcarpet"
           }
          ],
          "heatmap": [
           {
            "colorbar": {
             "outlinewidth": 0,
             "ticks": ""
            },
            "colorscale": [
             [
              0,
              "#0d0887"
             ],
             [
              0.1111111111111111,
              "#46039f"
             ],
             [
              0.2222222222222222,
              "#7201a8"
             ],
             [
              0.3333333333333333,
              "#9c179e"
             ],
             [
              0.4444444444444444,
              "#bd3786"
             ],
             [
              0.5555555555555556,
              "#d8576b"
             ],
             [
              0.6666666666666666,
              "#ed7953"
             ],
             [
              0.7777777777777778,
              "#fb9f3a"
             ],
             [
              0.8888888888888888,
              "#fdca26"
             ],
             [
              1,
              "#f0f921"
             ]
            ],
            "type": "heatmap"
           }
          ],
          "heatmapgl": [
           {
            "colorbar": {
             "outlinewidth": 0,
             "ticks": ""
            },
            "colorscale": [
             [
              0,
              "#0d0887"
             ],
             [
              0.1111111111111111,
              "#46039f"
             ],
             [
              0.2222222222222222,
              "#7201a8"
             ],
             [
              0.3333333333333333,
              "#9c179e"
             ],
             [
              0.4444444444444444,
              "#bd3786"
             ],
             [
              0.5555555555555556,
              "#d8576b"
             ],
             [
              0.6666666666666666,
              "#ed7953"
             ],
             [
              0.7777777777777778,
              "#fb9f3a"
             ],
             [
              0.8888888888888888,
              "#fdca26"
             ],
             [
              1,
              "#f0f921"
             ]
            ],
            "type": "heatmapgl"
           }
          ],
          "histogram": [
           {
            "marker": {
             "pattern": {
              "fillmode": "overlay",
              "size": 10,
              "solidity": 0.2
             }
            },
            "type": "histogram"
           }
          ],
          "histogram2d": [
           {
            "colorbar": {
             "outlinewidth": 0,
             "ticks": ""
            },
            "colorscale": [
             [
              0,
              "#0d0887"
             ],
             [
              0.1111111111111111,
              "#46039f"
             ],
             [
              0.2222222222222222,
              "#7201a8"
             ],
             [
              0.3333333333333333,
              "#9c179e"
             ],
             [
              0.4444444444444444,
              "#bd3786"
             ],
             [
              0.5555555555555556,
              "#d8576b"
             ],
             [
              0.6666666666666666,
              "#ed7953"
             ],
             [
              0.7777777777777778,
              "#fb9f3a"
             ],
             [
              0.8888888888888888,
              "#fdca26"
             ],
             [
              1,
              "#f0f921"
             ]
            ],
            "type": "histogram2d"
           }
          ],
          "histogram2dcontour": [
           {
            "colorbar": {
             "outlinewidth": 0,
             "ticks": ""
            },
            "colorscale": [
             [
              0,
              "#0d0887"
             ],
             [
              0.1111111111111111,
              "#46039f"
             ],
             [
              0.2222222222222222,
              "#7201a8"
             ],
             [
              0.3333333333333333,
              "#9c179e"
             ],
             [
              0.4444444444444444,
              "#bd3786"
             ],
             [
              0.5555555555555556,
              "#d8576b"
             ],
             [
              0.6666666666666666,
              "#ed7953"
             ],
             [
              0.7777777777777778,
              "#fb9f3a"
             ],
             [
              0.8888888888888888,
              "#fdca26"
             ],
             [
              1,
              "#f0f921"
             ]
            ],
            "type": "histogram2dcontour"
           }
          ],
          "mesh3d": [
           {
            "colorbar": {
             "outlinewidth": 0,
             "ticks": ""
            },
            "type": "mesh3d"
           }
          ],
          "parcoords": [
           {
            "line": {
             "colorbar": {
              "outlinewidth": 0,
              "ticks": ""
             }
            },
            "type": "parcoords"
           }
          ],
          "pie": [
           {
            "automargin": true,
            "type": "pie"
           }
          ],
          "scatter": [
           {
            "fillpattern": {
             "fillmode": "overlay",
             "size": 10,
             "solidity": 0.2
            },
            "type": "scatter"
           }
          ],
          "scatter3d": [
           {
            "line": {
             "colorbar": {
              "outlinewidth": 0,
              "ticks": ""
             }
            },
            "marker": {
             "colorbar": {
              "outlinewidth": 0,
              "ticks": ""
             }
            },
            "type": "scatter3d"
           }
          ],
          "scattercarpet": [
           {
            "marker": {
             "colorbar": {
              "outlinewidth": 0,
              "ticks": ""
             }
            },
            "type": "scattercarpet"
           }
          ],
          "scattergeo": [
           {
            "marker": {
             "colorbar": {
              "outlinewidth": 0,
              "ticks": ""
             }
            },
            "type": "scattergeo"
           }
          ],
          "scattergl": [
           {
            "marker": {
             "colorbar": {
              "outlinewidth": 0,
              "ticks": ""
             }
            },
            "type": "scattergl"
           }
          ],
          "scattermapbox": [
           {
            "marker": {
             "colorbar": {
              "outlinewidth": 0,
              "ticks": ""
             }
            },
            "type": "scattermapbox"
           }
          ],
          "scatterpolar": [
           {
            "marker": {
             "colorbar": {
              "outlinewidth": 0,
              "ticks": ""
             }
            },
            "type": "scatterpolar"
           }
          ],
          "scatterpolargl": [
           {
            "marker": {
             "colorbar": {
              "outlinewidth": 0,
              "ticks": ""
             }
            },
            "type": "scatterpolargl"
           }
          ],
          "scatterternary": [
           {
            "marker": {
             "colorbar": {
              "outlinewidth": 0,
              "ticks": ""
             }
            },
            "type": "scatterternary"
           }
          ],
          "surface": [
           {
            "colorbar": {
             "outlinewidth": 0,
             "ticks": ""
            },
            "colorscale": [
             [
              0,
              "#0d0887"
             ],
             [
              0.1111111111111111,
              "#46039f"
             ],
             [
              0.2222222222222222,
              "#7201a8"
             ],
             [
              0.3333333333333333,
              "#9c179e"
             ],
             [
              0.4444444444444444,
              "#bd3786"
             ],
             [
              0.5555555555555556,
              "#d8576b"
             ],
             [
              0.6666666666666666,
              "#ed7953"
             ],
             [
              0.7777777777777778,
              "#fb9f3a"
             ],
             [
              0.8888888888888888,
              "#fdca26"
             ],
             [
              1,
              "#f0f921"
             ]
            ],
            "type": "surface"
           }
          ],
          "table": [
           {
            "cells": {
             "fill": {
              "color": "#EBF0F8"
             },
             "line": {
              "color": "white"
             }
            },
            "header": {
             "fill": {
              "color": "#C8D4E3"
             },
             "line": {
              "color": "white"
             }
            },
            "type": "table"
           }
          ]
         },
         "layout": {
          "annotationdefaults": {
           "arrowcolor": "#2a3f5f",
           "arrowhead": 0,
           "arrowwidth": 1
          },
          "autotypenumbers": "strict",
          "coloraxis": {
           "colorbar": {
            "outlinewidth": 0,
            "ticks": ""
           }
          },
          "colorscale": {
           "diverging": [
            [
             0,
             "#8e0152"
            ],
            [
             0.1,
             "#c51b7d"
            ],
            [
             0.2,
             "#de77ae"
            ],
            [
             0.3,
             "#f1b6da"
            ],
            [
             0.4,
             "#fde0ef"
            ],
            [
             0.5,
             "#f7f7f7"
            ],
            [
             0.6,
             "#e6f5d0"
            ],
            [
             0.7,
             "#b8e186"
            ],
            [
             0.8,
             "#7fbc41"
            ],
            [
             0.9,
             "#4d9221"
            ],
            [
             1,
             "#276419"
            ]
           ],
           "sequential": [
            [
             0,
             "#0d0887"
            ],
            [
             0.1111111111111111,
             "#46039f"
            ],
            [
             0.2222222222222222,
             "#7201a8"
            ],
            [
             0.3333333333333333,
             "#9c179e"
            ],
            [
             0.4444444444444444,
             "#bd3786"
            ],
            [
             0.5555555555555556,
             "#d8576b"
            ],
            [
             0.6666666666666666,
             "#ed7953"
            ],
            [
             0.7777777777777778,
             "#fb9f3a"
            ],
            [
             0.8888888888888888,
             "#fdca26"
            ],
            [
             1,
             "#f0f921"
            ]
           ],
           "sequentialminus": [
            [
             0,
             "#0d0887"
            ],
            [
             0.1111111111111111,
             "#46039f"
            ],
            [
             0.2222222222222222,
             "#7201a8"
            ],
            [
             0.3333333333333333,
             "#9c179e"
            ],
            [
             0.4444444444444444,
             "#bd3786"
            ],
            [
             0.5555555555555556,
             "#d8576b"
            ],
            [
             0.6666666666666666,
             "#ed7953"
            ],
            [
             0.7777777777777778,
             "#fb9f3a"
            ],
            [
             0.8888888888888888,
             "#fdca26"
            ],
            [
             1,
             "#f0f921"
            ]
           ]
          },
          "colorway": [
           "#636efa",
           "#EF553B",
           "#00cc96",
           "#ab63fa",
           "#FFA15A",
           "#19d3f3",
           "#FF6692",
           "#B6E880",
           "#FF97FF",
           "#FECB52"
          ],
          "font": {
           "color": "#2a3f5f"
          },
          "geo": {
           "bgcolor": "white",
           "lakecolor": "white",
           "landcolor": "#E5ECF6",
           "showlakes": true,
           "showland": true,
           "subunitcolor": "white"
          },
          "hoverlabel": {
           "align": "left"
          },
          "hovermode": "closest",
          "mapbox": {
           "style": "light"
          },
          "paper_bgcolor": "white",
          "plot_bgcolor": "#E5ECF6",
          "polar": {
           "angularaxis": {
            "gridcolor": "white",
            "linecolor": "white",
            "ticks": ""
           },
           "bgcolor": "#E5ECF6",
           "radialaxis": {
            "gridcolor": "white",
            "linecolor": "white",
            "ticks": ""
           }
          },
          "scene": {
           "xaxis": {
            "backgroundcolor": "#E5ECF6",
            "gridcolor": "white",
            "gridwidth": 2,
            "linecolor": "white",
            "showbackground": true,
            "ticks": "",
            "zerolinecolor": "white"
           },
           "yaxis": {
            "backgroundcolor": "#E5ECF6",
            "gridcolor": "white",
            "gridwidth": 2,
            "linecolor": "white",
            "showbackground": true,
            "ticks": "",
            "zerolinecolor": "white"
           },
           "zaxis": {
            "backgroundcolor": "#E5ECF6",
            "gridcolor": "white",
            "gridwidth": 2,
            "linecolor": "white",
            "showbackground": true,
            "ticks": "",
            "zerolinecolor": "white"
           }
          },
          "shapedefaults": {
           "line": {
            "color": "#2a3f5f"
           }
          },
          "ternary": {
           "aaxis": {
            "gridcolor": "white",
            "linecolor": "white",
            "ticks": ""
           },
           "baxis": {
            "gridcolor": "white",
            "linecolor": "white",
            "ticks": ""
           },
           "bgcolor": "#E5ECF6",
           "caxis": {
            "gridcolor": "white",
            "linecolor": "white",
            "ticks": ""
           }
          },
          "title": {
           "x": 0.05
          },
          "xaxis": {
           "automargin": true,
           "gridcolor": "white",
           "linecolor": "white",
           "ticks": "",
           "title": {
            "standoff": 15
           },
           "zerolinecolor": "white",
           "zerolinewidth": 2
          },
          "yaxis": {
           "automargin": true,
           "gridcolor": "white",
           "linecolor": "white",
           "ticks": "",
           "title": {
            "standoff": 15
           },
           "zerolinecolor": "white",
           "zerolinewidth": 2
          }
         }
        },
        "title": {
         "text": "Flights Required to Breakeven for Top 5 Recommended Routes"
        },
        "xaxis": {
         "anchor": "y",
         "domain": [
          0,
          1
         ],
         "title": {
          "text": "Number of Flights to Breakeven"
         }
        },
        "yaxis": {
         "anchor": "x",
         "domain": [
          0,
          1
         ],
         "title": {
          "text": "Route"
         }
        }
       }
      }
     },
     "metadata": {},
     "output_type": "display_data"
    }
   ],
   "source": [
    "import plotly.express as px\n",
    "\n",
    "# Bar chart for breakeven flights\n",
    "fig = px.bar(\n",
    "    breakeven_summary.sort_values(by='BREAKEVEN_FLIGHTS'),\n",
    "    x='BREAKEVEN_FLIGHTS',\n",
    "    y='ROUTE_NAME_CITY',\n",
    "    orientation='h',\n",
    "    text='BREAKEVEN_FLIGHTS',\n",
    "    color='PROFIT_PER_FLIGHT',  # Optional: Color based on profitability\n",
    "    color_continuous_scale='viridis',\n",
    "    labels={'BREAKEVEN_FLIGHTS': 'Flights to Breakeven', 'ROUTE_NAME_CITY': 'Route'},\n",
    "    title='Flights Required to Breakeven for Top 5 Recommended Routes'\n",
    ")\n",
    "\n",
    "fig.update_layout(\n",
    "    xaxis_title='Number of Flights to Breakeven',\n",
    "    yaxis_title='Route',\n",
    "    coloraxis_colorbar=dict(title=\"Profit per Flight ($)\"),\n",
    "    font=dict(size=14),\n",
    "    plot_bgcolor='white'\n",
    ")\n",
    "\n",
    "fig.update_traces(texttemplate='%{text:.0f}', textposition='outside')\n",
    "fig.show()\n"
   ]
  },
  {
   "cell_type": "markdown",
   "id": "da107569-005c-4d9e-a5cc-f7f59763c063",
   "metadata": {},
   "source": [
    "Insights:\n",
    "\n",
    "Charlotte, NC → Wilmington, NC is the most capital-efficient route — only ~1,277 flights needed to recover $90M.\n",
    "\n",
    "Other Charlotte routes (→ Myrtle Beach) also break even in ~1,581 flights.\n",
    "\n",
    "Hawaiian routes like Honolulu → Kahului and Honolulu → Lihue require 3,800–4,400 flights to break even — still attractive given:\n",
    "\n",
    "    1. Strong passenger demand (620k+, 410k+)\n",
    "\n",
    "    2. Healthy profits\n",
    "\n",
    "    3. Punctuality (delays around -2 to -3 minutes)\n",
    "\n"
   ]
  },
  {
   "cell_type": "markdown",
   "id": "135746de-977b-4038-8efd-3ff8d8a99e95",
   "metadata": {},
   "source": [
    "#### Question 5"
   ]
  },
  {
   "cell_type": "markdown",
   "id": "376e0c2a-5c07-463e-b029-8641cb9b51cd",
   "metadata": {},
   "source": [
    "1. Route Profit Margin (%)\n",
    "Formula: (Total Profit / Total Revenue) * 100\n",
    "\n",
    "Why: Tracks profitability over time, shows if route continues to deliver solid returns.\n",
    "\n",
    "2. Estimated Passenger Growth Rate\n",
    "Formula: % change in Estimated Passengers QoQ\n",
    "\n",
    "Why: Helps track demand momentum and forecast future capacity needs.\n",
    "\n",
    "3. Average Total Delay (min)\n",
    "Formula: Avg Departure Delay + Avg Arrival Delay\n",
    "\n",
    "Why: Critical for your brand (\"On time, for you\") — a decline signals operations are slipping.\n",
    "\n",
    "4. Revenue-to-Cost Ratio\n",
    "Formula: Total Revenue / Total Cost\n",
    "\n",
    "Why: Measures route efficiency — are costs creeping up faster than revenue?\n",
    "\n",
    "5. Occupancy Rate\n",
    "Formula: Estimated Passengers / (Total Flights * 200)\n",
    "\n",
    "Why: Core metric of operational efficiency — low occupancy could indicate pricing or scheduling issues.\n",
    "\n",
    "6. Breakeven Flight Tracker\n",
    "Formula: Cumulative Route Profit / Aircraft Cost\n",
    "\n",
    "Why: Tracks how close each route is to paying off the $90M airplane investment."
   ]
  },
  {
   "cell_type": "code",
   "execution_count": null,
   "id": "18e3d743-b3ed-4560-bfc9-b70eba380d63",
   "metadata": {},
   "outputs": [],
   "source": []
  },
  {
   "cell_type": "code",
   "execution_count": null,
   "id": "5813047c-6976-4794-9007-0b5b2191063b",
   "metadata": {},
   "outputs": [],
   "source": []
  }
 ],
 "metadata": {
  "kernelspec": {
   "display_name": "Python 3 (ipykernel)",
   "language": "python",
   "name": "python3"
  },
  "language_info": {
   "codemirror_mode": {
    "name": "ipython",
    "version": 3
   },
   "file_extension": ".py",
   "mimetype": "text/x-python",
   "name": "python",
   "nbconvert_exporter": "python",
   "pygments_lexer": "ipython3",
   "version": "3.12.7"
  },
  "vscode": {
   "interpreter": {
    "hash": "75cbfe992e831883bebc34d351837a73fc44aae74ab7e2dffad989642b16aeb2"
   }
  }
 },
 "nbformat": 4,
 "nbformat_minor": 5
}
